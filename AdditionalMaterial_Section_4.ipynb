{
 "cells": [
  {
   "cell_type": "code",
   "execution_count": 1,
   "metadata": {},
   "outputs": [],
   "source": [
    "import itertools\n",
    "import sympy as sp\n",
    "from sympy import S\n",
    "from moments import *\n",
    "from maxwellian_equilibrium import *\n",
    "from derivative import *\n",
    "\n",
    "sp.init_printing()\n",
    "\n",
    "# Creating all necessary symbols and functions\n",
    "ε, ω, f, feq, F_q, dt, Λ, ρ = sp.symbols(\"ε ω f f^{(eq)} F_q Δt Λ rho\")\n",
    "a = sp.Matrix(sp.symbols(\"a_{:3}\"))\n",
    "c = sp.Matrix(sp.symbols(\"c_{:3}\"))\n",
    "u = sp.symbols(\"u_:3\")\n",
    "fi = sp.symbols(\"f^{((:4))}\")\n",
    "δ = lambda i,j: 1 if i==j else 0  # Kronecker δ"
   ]
  },
  {
   "cell_type": "markdown",
   "metadata": {},
   "source": [
    "# Steady state Chapman Enskog Analysis of D3Q19 equilibria\n",
    "\n",
    "In this notebook we describe in detail how to do a steady state Chapman Enskog analysis of the lattice Boltzmann equation up to third order. The equations get very lengthy with higher expansion orders and doing these calculations manually is highly error-prone. \n",
    "So we automatize every necessary algebraic step in the computer algebra system *sympy*. \n",
    "\n",
    "We extended *sympy* with special objects that represent differentials and differential operators, since the built-in derivative module was hard to adapt to our needs. These extensions together with documentation can be found in the `derivative.py` file. \n",
    "\n",
    "We start with the scaled LB equation with force term $F_q$, as described in detail in the paper\n",
    "\n",
    "$$  f_q(\\mathbf{x} + \\epsilon \\, \\mathbf{c}_q, t) = f_q(\\mathbf{x}, t) - \\omega (f_q - f^{(eq)}) + \\epsilon \\left( 1 - \\frac{\\omega}{2} \\right) F_q .$$\n",
    "\n",
    "\n",
    "### Step 1: Taylor Expansion of left hand side\n",
    "\n",
    "The left hand side is expanded in a Taylor series in $\\epsilon$\n",
    "\n",
    "$$   f_q(\\mathbf{x} + \\epsilon \\, \\mathbf{c}_q) = \\sum_{n=0}^\\infty  \\frac{1}{n!} \\left( \\epsilon \\; c_{qi} \\partial_i \\right)^n f_q(\\mathbf{x}) $$\n",
    "\n",
    "which we represent in *sympy* as a operator equation, using our customly written `DiffOperator` object.\n",
    "The differential operator behaves like a non-commutative *sympy* symbol, and with the gradient operator `Dx`"
   ]
  },
  {
   "cell_type": "code",
   "execution_count": 2,
   "metadata": {},
   "outputs": [
    {
     "data": {
      "image/png": "[encoded data removed]",
      "text/latex": [
       "$$\\left[\\begin{matrix}{\\partial_{0}}\\\\{\\partial_{1}}\\\\{\\partial_{2}}\\end{matrix}\\right]$$"
      ],
      "text/plain": [
       "⎡DiffOperator(0, -1)⎤\n",
       "⎢                   ⎥\n",
       "⎢DiffOperator(1, -1)⎥\n",
       "⎢                   ⎥\n",
       "⎣DiffOperator(2, -1)⎦"
      ]
     },
     "execution_count": 2,
     "metadata": {},
     "output_type": "execute_result"
    }
   ],
   "source": [
    "Dx = sp.Matrix([DiffOperator(target=l) for l in range(3)])\n",
    "Dx"
   ]
  },
  {
   "cell_type": "markdown",
   "metadata": {},
   "source": [
    "we can write the Taylor operator up to order 3 as"
   ]
  },
  {
   "cell_type": "code",
   "execution_count": 3,
   "metadata": {},
   "outputs": [
    {
     "data": {
      "image/png": "[encoded data removed]",
      "text/latex": [
       "$$\\frac{ε^{3}}{6} \\left(c_{0} {\\partial_{0}} + c_{1} {\\partial_{1}} + c_{2} {\\partial_{2}}\\right)^{3} + \\frac{ε^{2}}{2} \\left(c_{0} {\\partial_{0}} + c_{1} {\\partial_{1}} + c_{2} {\\partial_{2}}\\right)^{2} + ε \\left(c_{0} {\\partial_{0}} + c_{1} {\\partial_{1}} + c_{2} {\\partial_{2}}\\right) + 1$$"
      ],
      "text/plain": [
       " 3                                                                            \n",
       "ε ⋅(c_{0}⋅DiffOperator(0, -1) + c_{1}⋅DiffOperator(1, -1) + c_{2}⋅DiffOperator\n",
       "──────────────────────────────────────────────────────────────────────────────\n",
       "                                           6                                  \n",
       "\n",
       "        3    2                                                                \n",
       "(2, -1))    ε ⋅(c_{0}⋅DiffOperator(0, -1) + c_{1}⋅DiffOperator(1, -1) + c_{2}⋅\n",
       "───────── + ──────────────────────────────────────────────────────────────────\n",
       "                                                       2                      \n",
       "\n",
       "                    2                                                         \n",
       "DiffOperator(2, -1))                                                          \n",
       "───────────────────── + ε⋅(c_{0}⋅DiffOperator(0, -1) + c_{1}⋅DiffOperator(1, -\n",
       "                                                                              \n",
       "\n",
       "                                   \n",
       "                                   \n",
       "1) + c_{2}⋅DiffOperator(2, -1)) + 1\n",
       "                                   "
      ]
     },
     "execution_count": 3,
     "metadata": {},
     "output_type": "execute_result"
    }
   ],
   "source": [
    "taylorExpansionOrder = 3\n",
    "taylorOperator = sum((ε * c.dot(Dx)) ** n / sp.factorial(n) \n",
    "                     for n in range(taylorExpansionOrder + 1))\n",
    "taylorOperator"
   ]
  },
  {
   "cell_type": "markdown",
   "metadata": {},
   "source": [
    "Since the operator behaves like a normal symbol, we can expand this equation and apply the operator to the function $f$, yielding the fully Taylor expanded left hand side of the LB equation"
   ]
  },
  {
   "cell_type": "code",
   "execution_count": 4,
   "metadata": {},
   "outputs": [],
   "source": [
    "taylorExpansionOfLhs = DiffOperator.apply(taylorOperator, f)"
   ]
  },
  {
   "cell_type": "markdown",
   "metadata": {},
   "source": [
    "Equations are represented in *sympy* as terms, assuming an implicit \"$=0$\". \n",
    "\n",
    "The full LB equation with expanded left hand side reads"
   ]
  },
  {
   "cell_type": "code",
   "execution_count": 5,
   "metadata": {},
   "outputs": [
    {
     "data": {
      "text/latex": [
       "$$- F_{q} ε \\left(- \\frac{ω}{2} + 1\\right) + \\frac{c_{0}^{3} ε^{3}}{6} {\\partial_{0} {\\partial_{0} {\\partial_{0} f}}} + \\frac{c_{0}^{2} c_{1}}{2} ε^{3} {\\partial_{0} {\\partial_{0} {\\partial_{1} f}}} + \\frac{c_{0}^{2} c_{2}}{2} ε^{3} {\\partial_{0} {\\partial_{0} {\\partial_{2} f}}} + \\frac{c_{0}^{2} ε^{2}}{2} {\\partial_{0} {\\partial_{0} f}} + \\frac{c_{0} c_{1}^{2}}{2} ε^{3} {\\partial_{0} {\\partial_{1} {\\partial_{1} f}}} + c_{0} c_{1} c_{2} ε^{3} {\\partial_{0} {\\partial_{1} {\\partial_{2} f}}} + c_{0} c_{1} ε^{2} {\\partial_{0} {\\partial_{1} f}} + \\frac{c_{0} c_{2}^{2}}{2} ε^{3} {\\partial_{0} {\\partial_{2} {\\partial_{2} f}}} + c_{0} c_{2} ε^{2} {\\partial_{0} {\\partial_{2} f}} + c_{0} ε {\\partial_{0} f} + \\frac{c_{1}^{3} ε^{3}}{6} {\\partial_{1} {\\partial_{1} {\\partial_{1} f}}} + \\frac{c_{1}^{2} c_{2}}{2} ε^{3} {\\partial_{1} {\\partial_{1} {\\partial_{2} f}}} + \\frac{c_{1}^{2} ε^{2}}{2} {\\partial_{1} {\\partial_{1} f}} + \\frac{c_{1} c_{2}^{2}}{2} ε^{3} {\\partial_{1} {\\partial_{2} {\\partial_{2} f}}} + c_{1} c_{2} ε^{2} {\\partial_{1} {\\partial_{2} f}} + c_{1} ε {\\partial_{1} f} + \\frac{c_{2}^{3} ε^{3}}{6} {\\partial_{2} {\\partial_{2} {\\partial_{2} f}}} + \\frac{c_{2}^{2} ε^{2}}{2} {\\partial_{2} {\\partial_{2} f}} + c_{2} ε {\\partial_{2} f} + ω \\left(f - f^{(eq)}\\right)$$"
      ],
      "text/plain": [
       "                         3  3                   2        3                   2\n",
       "        ⎛  ω    ⎞   c_{0} ⋅ε ⋅D(D(D(f)))   c_{0} ⋅c_{1}⋅ε ⋅D(D(D(f)))   c_{0} \n",
       "- F_q⋅ε⋅⎜- ─ + 1⎟ + ──────────────────── + ────────────────────────── + ──────\n",
       "        ⎝  2    ⎠            6                         2                      \n",
       "\n",
       "        3                   2  2                      2  3                    \n",
       "⋅c_{2}⋅ε ⋅D(D(D(f)))   c_{0} ⋅ε ⋅D(D(f))   c_{0}⋅c_{1} ⋅ε ⋅D(D(D(f)))         \n",
       "──────────────────── + ───────────────── + ────────────────────────── + c_{0}⋅\n",
       "      2                        2                       2                      \n",
       "\n",
       "                                                                2  3          \n",
       "             3                           2           c_{0}⋅c_{2} ⋅ε ⋅D(D(D(f))\n",
       "c_{1}⋅c_{2}⋅ε ⋅D(D(D(f))) + c_{0}⋅c_{1}⋅ε ⋅D(D(f)) + ─────────────────────────\n",
       "                                                                 2            \n",
       "\n",
       "                                                 3  3                   2     \n",
       ")                2                          c_{1} ⋅ε ⋅D(D(D(f)))   c_{1} ⋅c_{2\n",
       "─ + c_{0}⋅c_{2}⋅ε ⋅D(D(f)) + c_{0}⋅ε⋅D(f) + ──────────────────── + ───────────\n",
       "                                                     6                        \n",
       "\n",
       "   3                   2  2                      2  3                         \n",
       "}⋅ε ⋅D(D(D(f)))   c_{1} ⋅ε ⋅D(D(f))   c_{1}⋅c_{2} ⋅ε ⋅D(D(D(f)))              \n",
       "─────────────── + ───────────────── + ────────────────────────── + c_{1}⋅c_{2}\n",
       " 2                        2                       2                           \n",
       "\n",
       "                                  3  3                   2  2                 \n",
       "  2                          c_{2} ⋅ε ⋅D(D(D(f)))   c_{2} ⋅ε ⋅D(D(f))         \n",
       "⋅ε ⋅D(D(f)) + c_{1}⋅ε⋅D(f) + ──────────────────── + ───────────────── + c_{2}⋅\n",
       "                                      6                     2                 \n",
       "\n",
       "                          \n",
       "                          \n",
       "ε⋅D(f) + ω⋅(f - f__{(eq)})\n",
       "                          "
      ]
     },
     "execution_count": 5,
     "metadata": {},
     "output_type": "execute_result"
    }
   ],
   "source": [
    "rhs = f - ω * (f - feq) + ε * (1 - ω/2) * F_q\n",
    "latticeBoltzmannEq = taylorExpansionOfLhs - rhs\n",
    "latticeBoltzmannEq"
   ]
  },
  {
   "cell_type": "markdown",
   "metadata": {},
   "source": [
    "### Step 2: Chapman Enskog ansatz\n",
    "\n",
    "#### Step 2.1: Expanding $f$\n",
    "\n",
    "The particle distribution function is then formally expanded in ε. In *sympy* this is a simple substitution of $f \\rightarrow f^{(0)} + \\epsilon f^{(1)} +  \\epsilon^2 f^{(2)} + \\epsilon^3 f^{(3)}$"
   ]
  },
  {
   "cell_type": "code",
   "execution_count": 6,
   "metadata": {},
   "outputs": [
    {
     "data": {
      "image/png": "[encoded data removed]",
      "text/latex": [
       "$$f^{(0)} + f^{(1)} ε + f^{(2)} ε^{2} + f^{(3)} ε^{3}$$"
      ],
      "text/plain": [
       "                                  2             3\n",
       "f__{(0)} + f__{(1)}⋅ε + f__{(2)}⋅ε  + f__{(3)}⋅ε "
      ]
     },
     "execution_count": 6,
     "metadata": {},
     "output_type": "execute_result"
    }
   ],
   "source": [
    "expandedF = sum(ε**i * f for i, f in enumerate(fi))\n",
    "expandedF"
   ]
  },
  {
   "cell_type": "markdown",
   "metadata": {},
   "source": [
    "Inserting this into the LB equation gives us already a really lenghty and somewhat unreadable equation, since we cannot use Einstein summation convention in sympy - all terms are written out."
   ]
  },
  {
   "cell_type": "code",
   "execution_count": 7,
   "metadata": {},
   "outputs": [
    {
     "data": {
      "text/latex": [
       "$$f^{(0)} ω - f^{(eq)} ω + ε^{6} \\left(\\frac{c_{0}^{3}}{6} {\\partial_{0} {\\partial_{0} {\\partial_{0} f^{(3)}}}} + \\frac{c_{0}^{2} c_{1}}{2} {\\partial_{0} {\\partial_{0} {\\partial_{1} f^{(3)}}}} + \\frac{c_{0}^{2} c_{2}}{2} {\\partial_{0} {\\partial_{0} {\\partial_{2} f^{(3)}}}} + \\frac{c_{0} c_{1}^{2}}{2} {\\partial_{0} {\\partial_{1} {\\partial_{1} f^{(3)}}}} + c_{0} c_{1} c_{2} {\\partial_{0} {\\partial_{1} {\\partial_{2} f^{(3)}}}} + \\frac{c_{0} c_{2}^{2}}{2} {\\partial_{0} {\\partial_{2} {\\partial_{2} f^{(3)}}}} + \\frac{c_{1}^{3}}{6} {\\partial_{1} {\\partial_{1} {\\partial_{1} f^{(3)}}}} + \\frac{c_{1}^{2} c_{2}}{2} {\\partial_{1} {\\partial_{1} {\\partial_{2} f^{(3)}}}} + \\frac{c_{1} c_{2}^{2}}{2} {\\partial_{1} {\\partial_{2} {\\partial_{2} f^{(3)}}}} + \\frac{c_{2}^{3}}{6} {\\partial_{2} {\\partial_{2} {\\partial_{2} f^{(3)}}}}\\right) + ε^{5} \\left(\\frac{c_{0}^{3}}{6} {\\partial_{0} {\\partial_{0} {\\partial_{0} f^{(2)}}}} + \\frac{c_{0}^{2} c_{1}}{2} {\\partial_{0} {\\partial_{0} {\\partial_{1} f^{(2)}}}} + \\frac{c_{0}^{2} c_{2}}{2} {\\partial_{0} {\\partial_{0} {\\partial_{2} f^{(2)}}}} + \\frac{c_{0}^{2}}{2} {\\partial_{0} {\\partial_{0} f^{(3)}}} + \\frac{c_{0} c_{1}^{2}}{2} {\\partial_{0} {\\partial_{1} {\\partial_{1} f^{(2)}}}} + c_{0} c_{1} c_{2} {\\partial_{0} {\\partial_{1} {\\partial_{2} f^{(2)}}}} + c_{0} c_{1} {\\partial_{0} {\\partial_{1} f^{(3)}}} + \\frac{c_{0} c_{2}^{2}}{2} {\\partial_{0} {\\partial_{2} {\\partial_{2} f^{(2)}}}} + c_{0} c_{2} {\\partial_{0} {\\partial_{2} f^{(3)}}} + \\frac{c_{1}^{3}}{6} {\\partial_{1} {\\partial_{1} {\\partial_{1} f^{(2)}}}} + \\frac{c_{1}^{2} c_{2}}{2} {\\partial_{1} {\\partial_{1} {\\partial_{2} f^{(2)}}}} + \\frac{c_{1}^{2}}{2} {\\partial_{1} {\\partial_{1} f^{(3)}}} + \\frac{c_{1} c_{2}^{2}}{2} {\\partial_{1} {\\partial_{2} {\\partial_{2} f^{(2)}}}} + c_{1} c_{2} {\\partial_{1} {\\partial_{2} f^{(3)}}} + \\frac{c_{2}^{3}}{6} {\\partial_{2} {\\partial_{2} {\\partial_{2} f^{(2)}}}} + \\frac{c_{2}^{2}}{2} {\\partial_{2} {\\partial_{2} f^{(3)}}}\\right) + ε^{4} \\left(\\frac{c_{0}^{3}}{6} {\\partial_{0} {\\partial_{0} {\\partial_{0} f^{(1)}}}} + \\frac{c_{0}^{2} c_{1}}{2} {\\partial_{0} {\\partial_{0} {\\partial_{1} f^{(1)}}}} + \\frac{c_{0}^{2} c_{2}}{2} {\\partial_{0} {\\partial_{0} {\\partial_{2} f^{(1)}}}} + \\frac{c_{0}^{2}}{2} {\\partial_{0} {\\partial_{0} f^{(2)}}} + \\frac{c_{0} c_{1}^{2}}{2} {\\partial_{0} {\\partial_{1} {\\partial_{1} f^{(1)}}}} + c_{0} c_{1} c_{2} {\\partial_{0} {\\partial_{1} {\\partial_{2} f^{(1)}}}} + c_{0} c_{1} {\\partial_{0} {\\partial_{1} f^{(2)}}} + \\frac{c_{0} c_{2}^{2}}{2} {\\partial_{0} {\\partial_{2} {\\partial_{2} f^{(1)}}}} + c_{0} c_{2} {\\partial_{0} {\\partial_{2} f^{(2)}}} + c_{0} {\\partial_{0} f^{(3)}} + \\frac{c_{1}^{3}}{6} {\\partial_{1} {\\partial_{1} {\\partial_{1} f^{(1)}}}} + \\frac{c_{1}^{2} c_{2}}{2} {\\partial_{1} {\\partial_{1} {\\partial_{2} f^{(1)}}}} + \\frac{c_{1}^{2}}{2} {\\partial_{1} {\\partial_{1} f^{(2)}}} + \\frac{c_{1} c_{2}^{2}}{2} {\\partial_{1} {\\partial_{2} {\\partial_{2} f^{(1)}}}} + c_{1} c_{2} {\\partial_{1} {\\partial_{2} f^{(2)}}} + c_{1} {\\partial_{1} f^{(3)}} + \\frac{c_{2}^{3}}{6} {\\partial_{2} {\\partial_{2} {\\partial_{2} f^{(1)}}}} + \\frac{c_{2}^{2}}{2} {\\partial_{2} {\\partial_{2} f^{(2)}}} + c_{2} {\\partial_{2} f^{(3)}}\\right) + ε^{3} \\left(\\frac{c_{0}^{3}}{6} {\\partial_{0} {\\partial_{0} {\\partial_{0} f^{(0)}}}} + \\frac{c_{0}^{2} c_{1}}{2} {\\partial_{0} {\\partial_{0} {\\partial_{1} f^{(0)}}}} + \\frac{c_{0}^{2} c_{2}}{2} {\\partial_{0} {\\partial_{0} {\\partial_{2} f^{(0)}}}} + \\frac{c_{0}^{2}}{2} {\\partial_{0} {\\partial_{0} f^{(1)}}} + \\frac{c_{0} c_{1}^{2}}{2} {\\partial_{0} {\\partial_{1} {\\partial_{1} f^{(0)}}}} + c_{0} c_{1} c_{2} {\\partial_{0} {\\partial_{1} {\\partial_{2} f^{(0)}}}} + c_{0} c_{1} {\\partial_{0} {\\partial_{1} f^{(1)}}} + \\frac{c_{0} c_{2}^{2}}{2} {\\partial_{0} {\\partial_{2} {\\partial_{2} f^{(0)}}}} + c_{0} c_{2} {\\partial_{0} {\\partial_{2} f^{(1)}}} + c_{0} {\\partial_{0} f^{(2)}} + \\frac{c_{1}^{3}}{6} {\\partial_{1} {\\partial_{1} {\\partial_{1} f^{(0)}}}} + \\frac{c_{1}^{2} c_{2}}{2} {\\partial_{1} {\\partial_{1} {\\partial_{2} f^{(0)}}}} + \\frac{c_{1}^{2}}{2} {\\partial_{1} {\\partial_{1} f^{(1)}}} + \\frac{c_{1} c_{2}^{2}}{2} {\\partial_{1} {\\partial_{2} {\\partial_{2} f^{(0)}}}} + c_{1} c_{2} {\\partial_{1} {\\partial_{2} f^{(1)}}} + c_{1} {\\partial_{1} f^{(2)}} + \\frac{c_{2}^{3}}{6} {\\partial_{2} {\\partial_{2} {\\partial_{2} f^{(0)}}}} + \\frac{c_{2}^{2}}{2} {\\partial_{2} {\\partial_{2} f^{(1)}}} + c_{2} {\\partial_{2} f^{(2)}} + f^{(3)} ω\\right) + ε^{2} \\left(\\frac{c_{0}^{2}}{2} {\\partial_{0} {\\partial_{0} f^{(0)}}} + c_{0} c_{1} {\\partial_{0} {\\partial_{1} f^{(0)}}} + c_{0} c_{2} {\\partial_{0} {\\partial_{2} f^{(0)}}} + c_{0} {\\partial_{0} f^{(1)}} + \\frac{c_{1}^{2}}{2} {\\partial_{1} {\\partial_{1} f^{(0)}}} + c_{1} c_{2} {\\partial_{1} {\\partial_{2} f^{(0)}}} + c_{1} {\\partial_{1} f^{(1)}} + \\frac{c_{2}^{2}}{2} {\\partial_{2} {\\partial_{2} f^{(0)}}} + c_{2} {\\partial_{2} f^{(1)}} + f^{(2)} ω\\right) + ε \\left(\\frac{F_{q} ω}{2} - F_{q} + c_{0} {\\partial_{0} f^{(0)}} + c_{1} {\\partial_{1} f^{(0)}} + c_{2} {\\partial_{2} f^{(0)}} + f^{(1)} ω\\right)$$"
      ],
      "text/plain": [
       "                              ⎛     3                         2               \n",
       "                            6 ⎜c_{0} ⋅D(D(D(f^{(3)})))   c_{0} ⋅c_{1}⋅D(D(D(f^\n",
       "f__{(0)}⋅ω - f__{(eq)}⋅ω + ε ⋅⎜─────────────────────── + ─────────────────────\n",
       "                              ⎝           6                            2      \n",
       "\n",
       "                2                                     2                       \n",
       "{(3)})))   c_{0} ⋅c_{2}⋅D(D(D(f^{(3)})))   c_{0}⋅c_{1} ⋅D(D(D(f^{(3)})))      \n",
       "──────── + ───────────────────────────── + ───────────────────────────── + c_{\n",
       "                         2                               2                    \n",
       "\n",
       "                                             2                         3      \n",
       "                                  c_{0}⋅c_{2} ⋅D(D(D(f^{(3)})))   c_{1} ⋅D(D(D\n",
       "0}⋅c_{1}⋅c_{2}⋅D(D(D(f^{(3)}))) + ───────────────────────────── + ────────────\n",
       "                                                2                            6\n",
       "\n",
       "                   2                                     2                    \n",
       "(f^{(3)})))   c_{1} ⋅c_{2}⋅D(D(D(f^{(3)})))   c_{1}⋅c_{2} ⋅D(D(D(f^{(3)})))   \n",
       "─────────── + ───────────────────────────── + ───────────────────────────── + \n",
       "                            2                               2                 \n",
       "\n",
       "     3                 ⎞      ⎛     3                         2               \n",
       "c_{2} ⋅D(D(D(f^{(3)})))⎟    5 ⎜c_{0} ⋅D(D(D(f^{(2)})))   c_{0} ⋅c_{1}⋅D(D(D(f^\n",
       "───────────────────────⎟ + ε ⋅⎜─────────────────────── + ─────────────────────\n",
       "           6           ⎠      ⎝           6                            2      \n",
       "\n",
       "                2                               2                            2\n",
       "{(2)})))   c_{0} ⋅c_{2}⋅D(D(D(f^{(2)})))   c_{0} ⋅D(D(f^{(3)}))   c_{0}⋅c_{1} \n",
       "──────── + ───────────────────────────── + ──────────────────── + ────────────\n",
       "                         2                          2                         \n",
       "\n",
       "                                                                              \n",
       "⋅D(D(D(f^{(2)})))                                                             \n",
       "───────────────── + c_{0}⋅c_{1}⋅c_{2}⋅D(D(D(f^{(2)}))) + c_{0}⋅c_{1}⋅D(D(f^{(3\n",
       "  2                                                                           \n",
       "\n",
       "                  2                                                     3     \n",
       "       c_{0}⋅c_{2} ⋅D(D(D(f^{(2)})))                               c_{1} ⋅D(D(\n",
       ")})) + ───────────────────────────── + c_{0}⋅c_{2}⋅D(D(f^{(3)})) + ───────────\n",
       "                     2                                                        \n",
       "\n",
       "                    2                               2                         \n",
       "D(f^{(2)})))   c_{1} ⋅c_{2}⋅D(D(D(f^{(2)})))   c_{1} ⋅D(D(f^{(3)}))   c_{1}⋅c_\n",
       "──────────── + ───────────────────────────── + ──────────────────── + ────────\n",
       "6                            2                          2                     \n",
       "\n",
       "   2                                                     3                    \n",
       "{2} ⋅D(D(D(f^{(2)})))                               c_{2} ⋅D(D(D(f^{(2)})))   \n",
       "───────────────────── + c_{1}⋅c_{2}⋅D(D(f^{(3)})) + ─────────────────────── + \n",
       "      2                                                        6              \n",
       "\n",
       "     2              ⎞      ⎛     3                         2                  \n",
       "c_{2} ⋅D(D(f^{(3)}))⎟    4 ⎜c_{0} ⋅D(D(D(f^{(1)})))   c_{0} ⋅c_{1}⋅D(D(D(f^{(1\n",
       "────────────────────⎟ + ε ⋅⎜─────────────────────── + ────────────────────────\n",
       "         2          ⎠      ⎝           6                            2         \n",
       "\n",
       "             2                               2                            2   \n",
       ")})))   c_{0} ⋅c_{2}⋅D(D(D(f^{(1)})))   c_{0} ⋅D(D(f^{(2)}))   c_{0}⋅c_{1} ⋅D(\n",
       "───── + ───────────────────────────── + ──────────────────── + ───────────────\n",
       "                      2                          2                           2\n",
       "\n",
       "                                                                              \n",
       "D(D(f^{(1)})))                                                                \n",
       "────────────── + c_{0}⋅c_{1}⋅c_{2}⋅D(D(D(f^{(1)}))) + c_{0}⋅c_{1}⋅D(D(f^{(2)})\n",
       "                                                                              \n",
       "\n",
       "               2                                                              \n",
       "    c_{0}⋅c_{2} ⋅D(D(D(f^{(1)})))                                             \n",
       ") + ───────────────────────────── + c_{0}⋅c_{2}⋅D(D(f^{(2)})) + c_{0}⋅D(f^{(3)\n",
       "                  2                                                           \n",
       "\n",
       "          3                         2                               2         \n",
       "     c_{1} ⋅D(D(D(f^{(1)})))   c_{1} ⋅c_{2}⋅D(D(D(f^{(1)})))   c_{1} ⋅D(D(f^{(\n",
       "}) + ─────────────────────── + ───────────────────────────── + ───────────────\n",
       "                6                            2                          2     \n",
       "\n",
       "                   2                                                          \n",
       "2)}))   c_{1}⋅c_{2} ⋅D(D(D(f^{(1)})))                                         \n",
       "───── + ───────────────────────────── + c_{1}⋅c_{2}⋅D(D(f^{(2)})) + c_{1}⋅D(f^\n",
       "                      2                                                       \n",
       "\n",
       "              3                         2                                 ⎞   \n",
       "         c_{2} ⋅D(D(D(f^{(1)})))   c_{2} ⋅D(D(f^{(2)}))                   ⎟   \n",
       "{(3)}) + ─────────────────────── + ──────────────────── + c_{2}⋅D(f^{(3)})⎟ + \n",
       "                    6                       2                             ⎠   \n",
       "\n",
       "   ⎛     3                         2                               2          \n",
       " 3 ⎜c_{0} ⋅D(D(D(f^{(0)})))   c_{0} ⋅c_{1}⋅D(D(D(f^{(0)})))   c_{0} ⋅c_{2}⋅D(D\n",
       "ε ⋅⎜─────────────────────── + ───────────────────────────── + ────────────────\n",
       "   ⎝           6                            2                               2 \n",
       "\n",
       "                     2                            2                           \n",
       "(D(f^{(0)})))   c_{0} ⋅D(D(f^{(1)}))   c_{0}⋅c_{1} ⋅D(D(D(f^{(0)})))          \n",
       "───────────── + ──────────────────── + ───────────────────────────── + c_{0}⋅c\n",
       "                         2                           2                        \n",
       "\n",
       "                                                                     2        \n",
       "                                                          c_{0}⋅c_{2} ⋅D(D(D(f\n",
       "_{1}⋅c_{2}⋅D(D(D(f^{(0)}))) + c_{0}⋅c_{1}⋅D(D(f^{(1)})) + ────────────────────\n",
       "                                                                        2     \n",
       "\n",
       "                                                                3             \n",
       "^{(0)})))                                                  c_{1} ⋅D(D(D(f^{(0)\n",
       "───────── + c_{0}⋅c_{2}⋅D(D(f^{(1)})) + c_{0}⋅D(f^{(2)}) + ───────────────────\n",
       "                                                                      6       \n",
       "\n",
       "            2                               2                            2    \n",
       "})))   c_{1} ⋅c_{2}⋅D(D(D(f^{(0)})))   c_{1} ⋅D(D(f^{(1)}))   c_{1}⋅c_{2} ⋅D(D\n",
       "──── + ───────────────────────────── + ──────────────────── + ────────────────\n",
       "                     2                          2                           2 \n",
       "\n",
       "                                                                    3         \n",
       "(D(f^{(0)})))                                                  c_{2} ⋅D(D(D(f^\n",
       "───────────── + c_{1}⋅c_{2}⋅D(D(f^{(1)})) + c_{1}⋅D(f^{(2)}) + ───────────────\n",
       "                                                                          6   \n",
       "\n",
       "                2                                              ⎞      ⎛     2 \n",
       "{(0)})))   c_{2} ⋅D(D(f^{(1)}))                                ⎟    2 ⎜c_{0} ⋅\n",
       "──────── + ──────────────────── + c_{2}⋅D(f^{(2)}) + f__{(3)}⋅ω⎟ + ε ⋅⎜───────\n",
       "                    2                                          ⎠      ⎝       \n",
       "\n",
       "                                                                              \n",
       "D(D(f^{(0)}))                                                                 \n",
       "───────────── + c_{0}⋅c_{1}⋅D(D(f^{(0)})) + c_{0}⋅c_{2}⋅D(D(f^{(0)})) + c_{0}⋅\n",
       "  2                                                                           \n",
       "\n",
       "                  2                                                           \n",
       "             c_{1} ⋅D(D(f^{(0)}))                                             \n",
       "D(f^{(1)}) + ──────────────────── + c_{1}⋅c_{2}⋅D(D(f^{(0)})) + c_{1}⋅D(f^{(1)\n",
       "                      2                                                       \n",
       "\n",
       "          2                                              ⎞                    \n",
       "     c_{2} ⋅D(D(f^{(0)}))                                ⎟     ⎛F_q⋅ω         \n",
       "}) + ──────────────────── + c_{2}⋅D(f^{(1)}) + f__{(2)}⋅ω⎟ + ε⋅⎜───── - F_q + \n",
       "              2                                          ⎠     ⎝  2           \n",
       "\n",
       "                                                                    \n",
       "                                                                   ⎞\n",
       "c_{0}⋅D(f^{(0)}) + c_{1}⋅D(f^{(0)}) + c_{2}⋅D(f^{(0)}) + f__{(1)}⋅ω⎟\n",
       "                                                                   ⎠"
      ]
     },
     "execution_count": 7,
     "metadata": {},
     "output_type": "execute_result"
    }
   ],
   "source": [
    "expandedLbEquation = latticeBoltzmannEq.subs(f, expandedF)  # insert expanded f into Taylor expanded LB equation\n",
    "expandedLbEquation = expandUsingLinearity(expandedLbEquation, constants=[ε])  # split up derivatives and pull out ε\n",
    "expandedLbEquation = expandedLbEquation.collect(ε)  # factor out ε\n",
    "expandedLbEquation"
   ]
  },
  {
   "cell_type": "markdown",
   "metadata": {},
   "source": [
    "#### Step 2.2: Collecting by $\\epsilon$ order\n",
    "\n",
    "We are interested in the factors up to $\\epsilon^3$, so we extract them from the equation above and \n",
    "put them into a dictionary. This dictionary maps an $\\epsilon$ exponent to the corresponding equation."
   ]
  },
  {
   "cell_type": "code",
   "execution_count": 8,
   "metadata": {},
   "outputs": [],
   "source": [
    "eq = expandedLbEquation\n",
    "εCoefficientDict = {order: eq.coeff(ε**order) if order > 0 else eq.subs(ε,0) \n",
    "                    for order in range(4)}"
   ]
  },
  {
   "cell_type": "markdown",
   "metadata": {},
   "source": [
    "Lets, for example, check the term multiplying $\\epsilon^1$:"
   ]
  },
  {
   "cell_type": "code",
   "execution_count": 9,
   "metadata": {},
   "outputs": [
    {
     "data": {
      "text/latex": [
       "$$\\frac{F_{q} ω}{2} - F_{q} + c_{0} {\\partial_{0} f^{(0)}} + c_{1} {\\partial_{1} f^{(0)}} + c_{2} {\\partial_{2} f^{(0)}} + f^{(1)} ω$$"
      ],
      "text/plain": [
       "F_q⋅ω                                                                         \n",
       "───── - F_q + c_{0}⋅D(f^{(0)}) + c_{1}⋅D(f^{(0)}) + c_{2}⋅D(f^{(0)}) + f__{(1)\n",
       "  2                                                                           \n",
       "\n",
       "   \n",
       "}⋅ω\n",
       "   "
      ]
     },
     "execution_count": 9,
     "metadata": {},
     "output_type": "execute_result"
    }
   ],
   "source": [
    "εCoefficientDict[1]"
   ]
  },
  {
   "cell_type": "markdown",
   "metadata": {},
   "source": [
    "We require the equation to be true for each $\\epsilon$ order independently - thus these terms/equations can be used to determine the $f^{(i)}$.\n",
    "\n",
    "For example from the lowest order equation we can extract $f^{(0)} = f^{(eq)}$"
   ]
  },
  {
   "cell_type": "code",
   "execution_count": 10,
   "metadata": {},
   "outputs": [
    {
     "data": {
      "image/png": "[encoded data removed]",
      "text/latex": [
       "$$f^{(0)} ω - f^{(eq)} ω$$"
      ],
      "text/plain": [
       "f__{(0)}⋅ω - f__{(eq)}⋅ω"
      ]
     },
     "execution_count": 10,
     "metadata": {},
     "output_type": "execute_result"
    }
   ],
   "source": [
    "εCoefficientDict[0]"
   ]
  },
  {
   "cell_type": "markdown",
   "metadata": {},
   "source": [
    "We can explicitly solve for $f^{(0)}$ using *sympy*s `solve` function:"
   ]
  },
  {
   "cell_type": "code",
   "execution_count": 11,
   "metadata": {},
   "outputs": [
    {
     "data": {
      "image/png": "[encoded data removed]",
      "text/latex": [
       "$$\\left [ f^{(eq)}\\right ]$$"
      ],
      "text/plain": [
       "[f__{(eq)}]"
      ]
     },
     "execution_count": 11,
     "metadata": {},
     "output_type": "execute_result"
    }
   ],
   "source": [
    "sp.solve(εCoefficientDict[0], fi[0])"
   ]
  },
  {
   "cell_type": "markdown",
   "metadata": {},
   "source": [
    "This is now done hierarchically - $f^{(0)}$ is determined and inserted into the next higher equation, which is then solved for $f^{(1)}$. Then $f^{(0)}$ and $f^{(1)}$ are inserted into the next higher equation, that is solved for $f^{(3)}$."
   ]
  },
  {
   "cell_type": "code",
   "execution_count": 12,
   "metadata": {},
   "outputs": [
    {
     "data": {
      "text/latex": [
       "$$\\left \\{ f^{(0)} : f^{(eq)}, \\quad f^{(1)} : - \\frac{F_{q}}{2} + \\frac{F_{q}}{ω} - \\frac{c_{0}}{ω} {\\partial_{0} f^{(eq)}} - \\frac{c_{1}}{ω} {\\partial_{1} f^{(eq)}} - \\frac{c_{2}}{ω} {\\partial_{2} f^{(eq)}}, \\quad f^{(2)} : - \\frac{c_{0}^{2} {\\partial_{0} {\\partial_{0} f^{(eq)}}}}{2 ω} + \\frac{c_{0}^{2}}{ω^{2}} {\\partial_{0} {\\partial_{0} f^{(eq)}}} - \\frac{c_{0} c_{1}}{ω} {\\partial_{0} {\\partial_{1} f^{(eq)}}} + \\frac{c_{0} c_{1}}{ω^{2}} {\\partial_{1} {\\partial_{0} f^{(eq)}}} + \\frac{c_{0} c_{1}}{ω^{2}} {\\partial_{0} {\\partial_{1} f^{(eq)}}} - \\frac{c_{0} c_{2}}{ω} {\\partial_{0} {\\partial_{2} f^{(eq)}}} + \\frac{c_{0} c_{2}}{ω^{2}} {\\partial_{2} {\\partial_{0} f^{(eq)}}} + \\frac{c_{0} c_{2}}{ω^{2}} {\\partial_{0} {\\partial_{2} f^{(eq)}}} + \\frac{c_{0} {\\partial_{0} F_{q}}}{2 ω} - \\frac{c_{0}}{ω^{2}} {\\partial_{0} F_{q}} - \\frac{c_{1}^{2} {\\partial_{1} {\\partial_{1} f^{(eq)}}}}{2 ω} + \\frac{c_{1}^{2}}{ω^{2}} {\\partial_{1} {\\partial_{1} f^{(eq)}}} - \\frac{c_{1} c_{2}}{ω} {\\partial_{1} {\\partial_{2} f^{(eq)}}} + \\frac{c_{1} c_{2}}{ω^{2}} {\\partial_{2} {\\partial_{1} f^{(eq)}}} + \\frac{c_{1} c_{2}}{ω^{2}} {\\partial_{1} {\\partial_{2} f^{(eq)}}} + \\frac{c_{1} {\\partial_{1} F_{q}}}{2 ω} - \\frac{c_{1}}{ω^{2}} {\\partial_{1} F_{q}} - \\frac{c_{2}^{2} {\\partial_{2} {\\partial_{2} f^{(eq)}}}}{2 ω} + \\frac{c_{2}^{2}}{ω^{2}} {\\partial_{2} {\\partial_{2} f^{(eq)}}} + \\frac{c_{2} {\\partial_{2} F_{q}}}{2 ω} - \\frac{c_{2}}{ω^{2}} {\\partial_{2} F_{q}}, \\quad f^{(3)} : - \\frac{c_{0}^{3}}{6 ω} {\\partial_{0} {\\partial_{0} {\\partial_{0} f^{(eq)}}}} + \\frac{c_{0}^{3}}{ω^{2}} {\\partial_{0} {\\partial_{0} {\\partial_{0} f^{(eq)}}}} - \\frac{c_{0}^{3}}{ω^{3}} {\\partial_{0} {\\partial_{0} {\\partial_{0} f^{(eq)}}}} - \\frac{c_{0}^{2} c_{1}}{2 ω} {\\partial_{0} {\\partial_{0} {\\partial_{1} f^{(eq)}}}} + \\frac{c_{0}^{2} c_{1}}{2 ω^{2}} {\\partial_{1} {\\partial_{0} {\\partial_{0} f^{(eq)}}}} + \\frac{c_{0}^{2} c_{1}}{ω^{2}} {\\partial_{0} {\\partial_{1} {\\partial_{0} f^{(eq)}}}} + \\frac{3 c_{0}^{2} c_{1}}{2 ω^{2}} {\\partial_{0} {\\partial_{0} {\\partial_{1} f^{(eq)}}}} - \\frac{c_{0}^{2} c_{1}}{ω^{3}} {\\partial_{1} {\\partial_{0} {\\partial_{0} f^{(eq)}}}} - \\frac{c_{0}^{2} c_{1}}{ω^{3}} {\\partial_{0} {\\partial_{1} {\\partial_{0} f^{(eq)}}}} - \\frac{c_{0}^{2} c_{1}}{ω^{3}} {\\partial_{0} {\\partial_{0} {\\partial_{1} f^{(eq)}}}} - \\frac{c_{0}^{2} c_{2}}{2 ω} {\\partial_{0} {\\partial_{0} {\\partial_{2} f^{(eq)}}}} + \\frac{c_{0}^{2} c_{2}}{2 ω^{2}} {\\partial_{2} {\\partial_{0} {\\partial_{0} f^{(eq)}}}} + \\frac{c_{0}^{2} c_{2}}{ω^{2}} {\\partial_{0} {\\partial_{2} {\\partial_{0} f^{(eq)}}}} + \\frac{3 c_{0}^{2} c_{2}}{2 ω^{2}} {\\partial_{0} {\\partial_{0} {\\partial_{2} f^{(eq)}}}} - \\frac{c_{0}^{2} c_{2}}{ω^{3}} {\\partial_{2} {\\partial_{0} {\\partial_{0} f^{(eq)}}}} - \\frac{c_{0}^{2} c_{2}}{ω^{3}} {\\partial_{0} {\\partial_{2} {\\partial_{0} f^{(eq)}}}} - \\frac{c_{0}^{2} c_{2}}{ω^{3}} {\\partial_{0} {\\partial_{0} {\\partial_{2} f^{(eq)}}}} + \\frac{c_{0}^{2} {\\partial_{0} {\\partial_{0} F_{q}}}}{4 ω} - \\frac{c_{0}^{2}}{ω^{2}} {\\partial_{0} {\\partial_{0} F_{q}}} + \\frac{c_{0}^{2}}{ω^{3}} {\\partial_{0} {\\partial_{0} F_{q}}} - \\frac{c_{0} c_{1}^{2}}{2 ω} {\\partial_{0} {\\partial_{1} {\\partial_{1} f^{(eq)}}}} + \\frac{c_{0} c_{1}^{2}}{2 ω^{2}} {\\partial_{1} {\\partial_{1} {\\partial_{0} f^{(eq)}}}} + \\frac{c_{0} c_{1}^{2}}{ω^{2}} {\\partial_{1} {\\partial_{0} {\\partial_{1} f^{(eq)}}}} + \\frac{3 c_{0} c_{1}^{2}}{2 ω^{2}} {\\partial_{0} {\\partial_{1} {\\partial_{1} f^{(eq)}}}} - \\frac{c_{0} c_{1}^{2}}{ω^{3}} {\\partial_{1} {\\partial_{1} {\\partial_{0} f^{(eq)}}}} - \\frac{c_{0} c_{1}^{2}}{ω^{3}} {\\partial_{1} {\\partial_{0} {\\partial_{1} f^{(eq)}}}} - \\frac{c_{0} c_{1}^{2}}{ω^{3}} {\\partial_{0} {\\partial_{1} {\\partial_{1} f^{(eq)}}}} - \\frac{c_{0} c_{1}}{ω} c_{2} {\\partial_{0} {\\partial_{1} {\\partial_{2} f^{(eq)}}}} + \\frac{c_{0} c_{1}}{ω^{2}} c_{2} {\\partial_{1} {\\partial_{2} {\\partial_{0} f^{(eq)}}}} + \\frac{c_{0} c_{1}}{ω^{2}} c_{2} {\\partial_{2} {\\partial_{0} {\\partial_{1} f^{(eq)}}}} + \\frac{c_{0} c_{1}}{ω^{2}} c_{2} {\\partial_{0} {\\partial_{2} {\\partial_{1} f^{(eq)}}}} + \\frac{c_{0} c_{1}}{ω^{2}} c_{2} {\\partial_{1} {\\partial_{0} {\\partial_{2} f^{(eq)}}}} + \\frac{2 c_{0}}{ω^{2}} c_{1} c_{2} {\\partial_{0} {\\partial_{1} {\\partial_{2} f^{(eq)}}}} - \\frac{c_{0} c_{1}}{ω^{3}} c_{2} {\\partial_{2} {\\partial_{1} {\\partial_{0} f^{(eq)}}}} - \\frac{c_{0} c_{1}}{ω^{3}} c_{2} {\\partial_{1} {\\partial_{2} {\\partial_{0} f^{(eq)}}}} - \\frac{c_{0} c_{1}}{ω^{3}} c_{2} {\\partial_{2} {\\partial_{0} {\\partial_{1} f^{(eq)}}}} - \\frac{c_{0} c_{1}}{ω^{3}} c_{2} {\\partial_{0} {\\partial_{2} {\\partial_{1} f^{(eq)}}}} - \\frac{c_{0} c_{1}}{ω^{3}} c_{2} {\\partial_{1} {\\partial_{0} {\\partial_{2} f^{(eq)}}}} - \\frac{c_{0} c_{1}}{ω^{3}} c_{2} {\\partial_{0} {\\partial_{1} {\\partial_{2} f^{(eq)}}}} + \\frac{c_{0} c_{1}}{2 ω} {\\partial_{0} {\\partial_{1} F_{q}}} - \\frac{c_{0} c_{1}}{2 ω^{2}} {\\partial_{1} {\\partial_{0} F_{q}}} - \\frac{3 c_{0} c_{1}}{2 ω^{2}} {\\partial_{0} {\\partial_{1} F_{q}}} + \\frac{c_{0} c_{1}}{ω^{3}} {\\partial_{1} {\\partial_{0} F_{q}}} + \\frac{c_{0} c_{1}}{ω^{3}} {\\partial_{0} {\\partial_{1} F_{q}}} - \\frac{c_{0} c_{2}^{2}}{2 ω} {\\partial_{0} {\\partial_{2} {\\partial_{2} f^{(eq)}}}} + \\frac{c_{0} c_{2}^{2}}{2 ω^{2}} {\\partial_{2} {\\partial_{2} {\\partial_{0} f^{(eq)}}}} + \\frac{c_{0} c_{2}^{2}}{ω^{2}} {\\partial_{2} {\\partial_{0} {\\partial_{2} f^{(eq)}}}} + \\frac{3 c_{0} c_{2}^{2}}{2 ω^{2}} {\\partial_{0} {\\partial_{2} {\\partial_{2} f^{(eq)}}}} - \\frac{c_{0} c_{2}^{2}}{ω^{3}} {\\partial_{2} {\\partial_{2} {\\partial_{0} f^{(eq)}}}} - \\frac{c_{0} c_{2}^{2}}{ω^{3}} {\\partial_{2} {\\partial_{0} {\\partial_{2} f^{(eq)}}}} - \\frac{c_{0} c_{2}^{2}}{ω^{3}} {\\partial_{0} {\\partial_{2} {\\partial_{2} f^{(eq)}}}} + \\frac{c_{0} c_{2}}{2 ω} {\\partial_{0} {\\partial_{2} F_{q}}} - \\frac{c_{0} c_{2}}{2 ω^{2}} {\\partial_{2} {\\partial_{0} F_{q}}} - \\frac{3 c_{0} c_{2}}{2 ω^{2}} {\\partial_{0} {\\partial_{2} F_{q}}} + \\frac{c_{0} c_{2}}{ω^{3}} {\\partial_{2} {\\partial_{0} F_{q}}} + \\frac{c_{0} c_{2}}{ω^{3}} {\\partial_{0} {\\partial_{2} F_{q}}} - \\frac{c_{1}^{3}}{6 ω} {\\partial_{1} {\\partial_{1} {\\partial_{1} f^{(eq)}}}} + \\frac{c_{1}^{3}}{ω^{2}} {\\partial_{1} {\\partial_{1} {\\partial_{1} f^{(eq)}}}} - \\frac{c_{1}^{3}}{ω^{3}} {\\partial_{1} {\\partial_{1} {\\partial_{1} f^{(eq)}}}} - \\frac{c_{1}^{2} c_{2}}{2 ω} {\\partial_{1} {\\partial_{1} {\\partial_{2} f^{(eq)}}}} + \\frac{c_{1}^{2} c_{2}}{2 ω^{2}} {\\partial_{2} {\\partial_{1} {\\partial_{1} f^{(eq)}}}} + \\frac{c_{1}^{2} c_{2}}{ω^{2}} {\\partial_{1} {\\partial_{2} {\\partial_{1} f^{(eq)}}}} + \\frac{3 c_{1}^{2} c_{2}}{2 ω^{2}} {\\partial_{1} {\\partial_{1} {\\partial_{2} f^{(eq)}}}} - \\frac{c_{1}^{2} c_{2}}{ω^{3}} {\\partial_{2} {\\partial_{1} {\\partial_{1} f^{(eq)}}}} - \\frac{c_{1}^{2} c_{2}}{ω^{3}} {\\partial_{1} {\\partial_{2} {\\partial_{1} f^{(eq)}}}} - \\frac{c_{1}^{2} c_{2}}{ω^{3}} {\\partial_{1} {\\partial_{1} {\\partial_{2} f^{(eq)}}}} + \\frac{c_{1}^{2} {\\partial_{1} {\\partial_{1} F_{q}}}}{4 ω} - \\frac{c_{1}^{2}}{ω^{2}} {\\partial_{1} {\\partial_{1} F_{q}}} + \\frac{c_{1}^{2}}{ω^{3}} {\\partial_{1} {\\partial_{1} F_{q}}} - \\frac{c_{1} c_{2}^{2}}{2 ω} {\\partial_{1} {\\partial_{2} {\\partial_{2} f^{(eq)}}}} + \\frac{c_{1} c_{2}^{2}}{2 ω^{2}} {\\partial_{2} {\\partial_{2} {\\partial_{1} f^{(eq)}}}} + \\frac{c_{1} c_{2}^{2}}{ω^{2}} {\\partial_{2} {\\partial_{1} {\\partial_{2} f^{(eq)}}}} + \\frac{3 c_{1} c_{2}^{2}}{2 ω^{2}} {\\partial_{1} {\\partial_{2} {\\partial_{2} f^{(eq)}}}} - \\frac{c_{1} c_{2}^{2}}{ω^{3}} {\\partial_{2} {\\partial_{2} {\\partial_{1} f^{(eq)}}}} - \\frac{c_{1} c_{2}^{2}}{ω^{3}} {\\partial_{2} {\\partial_{1} {\\partial_{2} f^{(eq)}}}} - \\frac{c_{1} c_{2}^{2}}{ω^{3}} {\\partial_{1} {\\partial_{2} {\\partial_{2} f^{(eq)}}}} + \\frac{c_{1} c_{2}}{2 ω} {\\partial_{1} {\\partial_{2} F_{q}}} - \\frac{c_{1} c_{2}}{2 ω^{2}} {\\partial_{2} {\\partial_{1} F_{q}}} - \\frac{3 c_{1} c_{2}}{2 ω^{2}} {\\partial_{1} {\\partial_{2} F_{q}}} + \\frac{c_{1} c_{2}}{ω^{3}} {\\partial_{2} {\\partial_{1} F_{q}}} + \\frac{c_{1} c_{2}}{ω^{3}} {\\partial_{1} {\\partial_{2} F_{q}}} - \\frac{c_{2}^{3}}{6 ω} {\\partial_{2} {\\partial_{2} {\\partial_{2} f^{(eq)}}}} + \\frac{c_{2}^{3}}{ω^{2}} {\\partial_{2} {\\partial_{2} {\\partial_{2} f^{(eq)}}}} - \\frac{c_{2}^{3}}{ω^{3}} {\\partial_{2} {\\partial_{2} {\\partial_{2} f^{(eq)}}}} + \\frac{c_{2}^{2} {\\partial_{2} {\\partial_{2} F_{q}}}}{4 ω} - \\frac{c_{2}^{2}}{ω^{2}} {\\partial_{2} {\\partial_{2} F_{q}}} + \\frac{c_{2}^{2}}{ω^{3}} {\\partial_{2} {\\partial_{2} F_{q}}}\\right \\}$$"
      ],
      "text/plain": [
       "⎧                                                                             \n",
       "⎪                                 F_q   F_q   c_{0}⋅D(f^{(eq)})   c_{1}⋅D(f^{(\n",
       "⎨f__{(0)}: f__{(eq)}, f__{(1)}: - ─── + ─── - ───────────────── - ────────────\n",
       "⎪                                  2     ω            ω                   ω   \n",
       "⎩                                                                             \n",
       "\n",
       "                                            2                       2         \n",
       "eq)})   c_{2}⋅D(f^{(eq)})              c_{0} ⋅D(D(f^{(eq)}))   c_{0} ⋅D(D(f^{(\n",
       "───── - ─────────────────, f__{(2)}: - ───────────────────── + ───────────────\n",
       "                ω                               2⋅ω                       2   \n",
       "                                                                         ω    \n",
       "\n",
       "                                                                              \n",
       "eq)}))   c_{0}⋅c_{1}⋅D(D(f^{(eq)}))   c_{0}⋅c_{1}⋅D(D(f^{(eq)}))   c_{0}⋅c_{1}\n",
       "────── - ────────────────────────── + ────────────────────────── + ───────────\n",
       "                     ω                             2                          \n",
       "                                                  ω                           \n",
       "\n",
       "                                                                              \n",
       "⋅D(D(f^{(eq)}))   c_{0}⋅c_{2}⋅D(D(f^{(eq)}))   c_{0}⋅c_{2}⋅D(D(f^{(eq)}))   c_\n",
       "─────────────── - ────────────────────────── + ────────────────────────── + ──\n",
       "  2                           ω                             2                 \n",
       " ω                                                         ω                  \n",
       "\n",
       "                                                              2               \n",
       "{0}⋅c_{2}⋅D(D(f^{(eq)}))   c_{0}⋅D(F_q)   c_{0}⋅D(F_q)   c_{1} ⋅D(D(f^{(eq)}))\n",
       "──────────────────────── + ──────────── - ──────────── - ─────────────────────\n",
       "           2                   2⋅ω              2                 2⋅ω         \n",
       "          ω                                    ω                              \n",
       "\n",
       "        2                                                                     \n",
       "   c_{1} ⋅D(D(f^{(eq)}))   c_{1}⋅c_{2}⋅D(D(f^{(eq)}))   c_{1}⋅c_{2}⋅D(D(f^{(eq\n",
       " + ───────────────────── - ────────────────────────── + ──────────────────────\n",
       "              2                        ω                             2        \n",
       "             ω                                                      ω         \n",
       "\n",
       "                                                                       2      \n",
       ")}))   c_{1}⋅c_{2}⋅D(D(f^{(eq)}))   c_{1}⋅D(F_q)   c_{1}⋅D(F_q)   c_{2} ⋅D(D(f\n",
       "──── + ────────────────────────── + ──────────── - ──────────── - ────────────\n",
       "                    2                   2⋅ω              2                 2⋅ω\n",
       "                   ω                                    ω                     \n",
       "\n",
       "                 2                                                            \n",
       "^{(eq)}))   c_{2} ⋅D(D(f^{(eq)}))   c_{2}⋅D(F_q)   c_{2}⋅D(F_q)              c\n",
       "───────── + ───────────────────── + ──────────── - ────────────, f__{(3)}: - ─\n",
       "                       2                2⋅ω              2                    \n",
       "                      ω                                 ω                     \n",
       "\n",
       "    3                          3                          3                   \n",
       "_{0} ⋅D(D(D(f^{(eq)})))   c_{0} ⋅D(D(D(f^{(eq)})))   c_{0} ⋅D(D(D(f^{(eq)}))) \n",
       "─────────────────────── + ──────────────────────── - ──────────────────────── \n",
       "         6⋅ω                          2                          3            \n",
       "                                     ω                          ω             \n",
       "\n",
       "       2                                2                                2    \n",
       "  c_{0} ⋅c_{1}⋅D(D(D(f^{(eq)})))   c_{0} ⋅c_{1}⋅D(D(D(f^{(eq)})))   c_{0} ⋅c_{\n",
       "- ────────────────────────────── + ────────────────────────────── + ──────────\n",
       "               2⋅ω                                 2                          \n",
       "                                                2⋅ω                           \n",
       "\n",
       "                              2                                2              \n",
       "1}⋅D(D(D(f^{(eq)})))   3⋅c_{0} ⋅c_{1}⋅D(D(D(f^{(eq)})))   c_{0} ⋅c_{1}⋅D(D(D(f\n",
       "──────────────────── + ──────────────────────────────── - ────────────────────\n",
       "     2                                  2                                3    \n",
       "    ω                                2⋅ω                                ω     \n",
       "\n",
       "                  2                                2                          \n",
       "^{(eq)})))   c_{0} ⋅c_{1}⋅D(D(D(f^{(eq)})))   c_{0} ⋅c_{1}⋅D(D(D(f^{(eq)})))  \n",
       "────────── - ────────────────────────────── - ────────────────────────────── -\n",
       "                            3                                3                \n",
       "                           ω                                ω                 \n",
       "\n",
       "      2                                2                                2     \n",
       " c_{0} ⋅c_{2}⋅D(D(D(f^{(eq)})))   c_{0} ⋅c_{2}⋅D(D(D(f^{(eq)})))   c_{0} ⋅c_{2\n",
       " ────────────────────────────── + ────────────────────────────── + ───────────\n",
       "              2⋅ω                                 2                           \n",
       "                                               2⋅ω                            \n",
       "\n",
       "                             2                                2               \n",
       "}⋅D(D(D(f^{(eq)})))   3⋅c_{0} ⋅c_{2}⋅D(D(D(f^{(eq)})))   c_{0} ⋅c_{2}⋅D(D(D(f^\n",
       "─────────────────── + ──────────────────────────────── - ─────────────────────\n",
       "    2                                  2                                3     \n",
       "   ω                                2⋅ω                                ω      \n",
       "\n",
       "                 2                                2                           \n",
       "{(eq)})))   c_{0} ⋅c_{2}⋅D(D(D(f^{(eq)})))   c_{0} ⋅c_{2}⋅D(D(D(f^{(eq)})))   \n",
       "───────── - ────────────────────────────── - ────────────────────────────── + \n",
       "                           3                                3                 \n",
       "                          ω                                ω                  \n",
       "\n",
       "     2                  2                  2                        2         \n",
       "c_{0} ⋅D(D(F_q))   c_{0} ⋅D(D(F_q))   c_{0} ⋅D(D(F_q))   c_{0}⋅c_{1} ⋅D(D(D(f^\n",
       "──────────────── - ──────────────── + ──────────────── - ─────────────────────\n",
       "      4⋅ω                  2                  3                       2⋅ω     \n",
       "                          ω                  ω                                \n",
       "\n",
       "                       2                                2                     \n",
       "{(eq)})))   c_{0}⋅c_{1} ⋅D(D(D(f^{(eq)})))   c_{0}⋅c_{1} ⋅D(D(D(f^{(eq)})))   \n",
       "───────── + ────────────────────────────── + ────────────────────────────── + \n",
       "                            2                               2                 \n",
       "                         2⋅ω                               ω                  \n",
       "\n",
       "             2                                2                               \n",
       "3⋅c_{0}⋅c_{1} ⋅D(D(D(f^{(eq)})))   c_{0}⋅c_{1} ⋅D(D(D(f^{(eq)})))   c_{0}⋅c_{1\n",
       "──────────────────────────────── - ────────────────────────────── - ──────────\n",
       "                 2                                3                           \n",
       "              2⋅ω                                ω                            \n",
       "\n",
       " 2                                2                                           \n",
       "} ⋅D(D(D(f^{(eq)})))   c_{0}⋅c_{1} ⋅D(D(D(f^{(eq)})))   c_{0}⋅c_{1}⋅c_{2}⋅D(D(\n",
       "──────────────────── - ────────────────────────────── - ──────────────────────\n",
       "     3                                3                                  ω    \n",
       "    ω                                ω                                        \n",
       "\n",
       "                                                                              \n",
       "D(f^{(eq)})))   c_{0}⋅c_{1}⋅c_{2}⋅D(D(D(f^{(eq)})))   c_{0}⋅c_{1}⋅c_{2}⋅D(D(D(\n",
       "───────────── + ─────────────────────────────────── + ────────────────────────\n",
       "                                  2                                     2     \n",
       "                                 ω                                     ω      \n",
       "\n",
       "                                                                              \n",
       "f^{(eq)})))   c_{0}⋅c_{1}⋅c_{2}⋅D(D(D(f^{(eq)})))   c_{0}⋅c_{1}⋅c_{2}⋅D(D(D(f^\n",
       "─────────── + ─────────────────────────────────── + ──────────────────────────\n",
       "                                2                                     2       \n",
       "                               ω                                     ω        \n",
       "\n",
       "                                                                              \n",
       "{(eq)})))   2⋅c_{0}⋅c_{1}⋅c_{2}⋅D(D(D(f^{(eq)})))   c_{0}⋅c_{1}⋅c_{2}⋅D(D(D(f^\n",
       "───────── + ───────────────────────────────────── - ──────────────────────────\n",
       "                               2                                      3       \n",
       "                              ω                                      ω        \n",
       "\n",
       "                                                                              \n",
       "{(eq)})))   c_{0}⋅c_{1}⋅c_{2}⋅D(D(D(f^{(eq)})))   c_{0}⋅c_{1}⋅c_{2}⋅D(D(D(f^{(\n",
       "───────── - ─────────────────────────────────── - ────────────────────────────\n",
       "                              3                                     3         \n",
       "                             ω                                     ω          \n",
       "\n",
       "                                                                              \n",
       "eq)})))   c_{0}⋅c_{1}⋅c_{2}⋅D(D(D(f^{(eq)})))   c_{0}⋅c_{1}⋅c_{2}⋅D(D(D(f^{(eq\n",
       "─────── - ─────────────────────────────────── - ──────────────────────────────\n",
       "                            3                                     3           \n",
       "                           ω                                     ω            \n",
       "\n",
       "                                                                              \n",
       ")})))   c_{0}⋅c_{1}⋅c_{2}⋅D(D(D(f^{(eq)})))   c_{0}⋅c_{1}⋅D(D(F_q))   c_{0}⋅c_\n",
       "───── - ─────────────────────────────────── + ───────────────────── - ────────\n",
       "                          3                            2⋅ω                    \n",
       "                         ω                                                    \n",
       "\n",
       "                                                                              \n",
       "{1}⋅D(D(F_q))   3⋅c_{0}⋅c_{1}⋅D(D(F_q))   c_{0}⋅c_{1}⋅D(D(F_q))   c_{0}⋅c_{1}⋅\n",
       "───────────── - ─────────────────────── + ───────────────────── + ────────────\n",
       "    2                        2                       3                       3\n",
       " 2⋅ω                      2⋅ω                       ω                       ω \n",
       "\n",
       "                       2                                2                     \n",
       "D(D(F_q))   c_{0}⋅c_{2} ⋅D(D(D(f^{(eq)})))   c_{0}⋅c_{2} ⋅D(D(D(f^{(eq)})))   \n",
       "───────── - ────────────────────────────── + ────────────────────────────── + \n",
       "                         2⋅ω                                 2                \n",
       "                                                          2⋅ω                 \n",
       "\n",
       "           2                                  2                               \n",
       "c_{0}⋅c_{2} ⋅D(D(D(f^{(eq)})))   3⋅c_{0}⋅c_{2} ⋅D(D(D(f^{(eq)})))   c_{0}⋅c_{2\n",
       "────────────────────────────── + ──────────────────────────────── - ──────────\n",
       "               2                                  2                           \n",
       "              ω                                2⋅ω                            \n",
       "\n",
       " 2                                2                                2          \n",
       "} ⋅D(D(D(f^{(eq)})))   c_{0}⋅c_{2} ⋅D(D(D(f^{(eq)})))   c_{0}⋅c_{2} ⋅D(D(D(f^{\n",
       "──────────────────── - ────────────────────────────── - ──────────────────────\n",
       "     3                                3                                3      \n",
       "    ω                                ω                                ω       \n",
       "\n",
       "                                                                              \n",
       "(eq)})))   c_{0}⋅c_{2}⋅D(D(F_q))   c_{0}⋅c_{2}⋅D(D(F_q))   3⋅c_{0}⋅c_{2}⋅D(D(F\n",
       "──────── + ───────────────────── - ───────────────────── - ───────────────────\n",
       "                    2⋅ω                        2                        2     \n",
       "                                            2⋅ω                      2⋅ω      \n",
       "\n",
       "                                                            3                 \n",
       "_q))   c_{0}⋅c_{2}⋅D(D(F_q))   c_{0}⋅c_{2}⋅D(D(F_q))   c_{1} ⋅D(D(D(f^{(eq)}))\n",
       "──── + ───────────────────── + ───────────────────── - ───────────────────────\n",
       "                  3                       3                      6⋅ω          \n",
       "                 ω                       ω                                    \n",
       "\n",
       "         3                          3                          2              \n",
       ")   c_{1} ⋅D(D(D(f^{(eq)})))   c_{1} ⋅D(D(D(f^{(eq)})))   c_{1} ⋅c_{2}⋅D(D(D(f\n",
       "─ + ──────────────────────── - ──────────────────────── - ────────────────────\n",
       "                2                          3                           2⋅ω    \n",
       "               ω                          ω                                   \n",
       "\n",
       "                  2                                2                          \n",
       "^{(eq)})))   c_{1} ⋅c_{2}⋅D(D(D(f^{(eq)})))   c_{1} ⋅c_{2}⋅D(D(D(f^{(eq)})))  \n",
       "────────── + ────────────────────────────── + ────────────────────────────── +\n",
       "                             2                               2                \n",
       "                          2⋅ω                               ω                 \n",
       "\n",
       "        2                                2                                2   \n",
       " 3⋅c_{1} ⋅c_{2}⋅D(D(D(f^{(eq)})))   c_{1} ⋅c_{2}⋅D(D(D(f^{(eq)})))   c_{1} ⋅c_\n",
       " ──────────────────────────────── - ────────────────────────────── - ─────────\n",
       "                  2                                3                          \n",
       "               2⋅ω                                ω                           \n",
       "\n",
       "                             2                                2               \n",
       "{2}⋅D(D(D(f^{(eq)})))   c_{1} ⋅c_{2}⋅D(D(D(f^{(eq)})))   c_{1} ⋅D(D(F_q))   c_\n",
       "───────────────────── - ────────────────────────────── + ──────────────── - ──\n",
       "      3                                3                       4⋅ω            \n",
       "     ω                                ω                                       \n",
       "\n",
       "   2                  2                        2                              \n",
       "{1} ⋅D(D(F_q))   c_{1} ⋅D(D(F_q))   c_{1}⋅c_{2} ⋅D(D(D(f^{(eq)})))   c_{1}⋅c_{\n",
       "────────────── + ──────────────── - ────────────────────────────── + ─────────\n",
       "      2                  3                       2⋅ω                          \n",
       "     ω                  ω                                                     \n",
       "\n",
       "  2                                2                                  2       \n",
       "2} ⋅D(D(D(f^{(eq)})))   c_{1}⋅c_{2} ⋅D(D(D(f^{(eq)})))   3⋅c_{1}⋅c_{2} ⋅D(D(D(\n",
       "───────────────────── + ────────────────────────────── + ─────────────────────\n",
       "       2                               2                                  2   \n",
       "    2⋅ω                               ω                                2⋅ω    \n",
       "\n",
       "                         2                                2                   \n",
       "f^{(eq)})))   c_{1}⋅c_{2} ⋅D(D(D(f^{(eq)})))   c_{1}⋅c_{2} ⋅D(D(D(f^{(eq)}))) \n",
       "─────────── - ────────────────────────────── - ────────────────────────────── \n",
       "                             3                                3               \n",
       "                            ω                                ω                \n",
       "\n",
       "             2                                                                \n",
       "  c_{1}⋅c_{2} ⋅D(D(D(f^{(eq)})))   c_{1}⋅c_{2}⋅D(D(F_q))   c_{1}⋅c_{2}⋅D(D(F_q\n",
       "- ────────────────────────────── + ───────────────────── - ───────────────────\n",
       "                 3                          2⋅ω                        2      \n",
       "                ω                                                   2⋅ω       \n",
       "\n",
       "                                                                              \n",
       "))   3⋅c_{1}⋅c_{2}⋅D(D(F_q))   c_{1}⋅c_{2}⋅D(D(F_q))   c_{1}⋅c_{2}⋅D(D(F_q))  \n",
       "── - ─────────────────────── + ───────────────────── + ───────────────────── -\n",
       "                  2                       3                       3           \n",
       "               2⋅ω                       ω                       ω            \n",
       "\n",
       "      3                          3                          3                 \n",
       " c_{2} ⋅D(D(D(f^{(eq)})))   c_{2} ⋅D(D(D(f^{(eq)})))   c_{2} ⋅D(D(D(f^{(eq)}))\n",
       " ──────────────────────── + ──────────────────────── - ───────────────────────\n",
       "           6⋅ω                          2                          3          \n",
       "                                       ω                          ω           \n",
       "\n",
       "         2                  2                  2          ⎫\n",
       ")   c_{2} ⋅D(D(F_q))   c_{2} ⋅D(D(F_q))   c_{2} ⋅D(D(F_q))⎪\n",
       "─ + ──────────────── - ──────────────── + ────────────────⎬\n",
       "          4⋅ω                  2                  3       ⎪\n",
       "                              ω                  ω        ⎭"
      ]
     },
     "execution_count": 12,
     "metadata": {},
     "output_type": "execute_result"
    }
   ],
   "source": [
    "fHierarchy = {f: sp.solve(εCoefficientDict[i], f)[0] for i, f in enumerate(fi)}\n",
    "fHierarchyInserted = {fi[0]: fHierarchy[fi[0]] }\n",
    "for f in fi[1:]:\n",
    "    eq = fHierarchy[f].subs(fHierarchyInserted)\n",
    "    eq = expandUsingLinearity(eq, functions= fi + (F_q,feq))\n",
    "    fHierarchyInserted[f] = eq \n",
    "fHierarchyInserted    "
   ]
  },
  {
   "cell_type": "markdown",
   "metadata": {},
   "source": [
    "Above equations correspond to equation (23) in the paper - however without Einstein summation convention and without the replacement for $\\Lambda$.\n",
    "\n",
    "#### Step 2.3: Regrouping and moment computation\n",
    "\n",
    "In this step we regroup the separate equations for different orders in $\\epsilon$ to obtain the conservation equations for mass and momentum. We first do this in a generic way that is independent of the specific lattice model.\n",
    "\n",
    "##### Step 2.3.1 General continuity equation\n",
    "For the mass convervation (continuity) equation we start with  $\\rho = \\sum_q f = \\sum_q f^{(eq)}$. This is true by construction of the equilibrium distribution function. Because $f^{(0)} = f^{(eq)}$ this is equivalent to \n",
    "$$ \\sum_q \\left( f_q - f_q^{(eq)} \\right) = 0 $$\n",
    "Inserting the $ε$ expanded approximation for $f$ gives\n",
    "$$  \\sum_q \\left( \\epsilon f_q^{(1)} + \\epsilon^2 f_q^{(2)} + \\epsilon^3 f_q^{(3)} \\right)  = 0 $$\n",
    "\n",
    "All $f^{(i)}$ terms have a similar structure. They can be divided into a sum of terms that are built of a monomial in $c$, multiplied by a derivative of the equilibrium distribution $f^{(eq)}$ or the force term $F_q$ and some constant prefactor involving $\\omega$ and $\\epsilon$. Lets pick an arbitrary term as an example:\n",
    "\n",
    "$$ \\frac{\\epsilon}{\\omega^3} c_{q1} c_{q2}^2 \\partial_2 \\partial_2 \\partial_1 f^{(eq)} =  \n",
    " \\underbrace{\\frac{\\epsilon}{\\omega^3}}_{\\mbox{const. prefactor}} \\; \\;\n",
    "   \\underbrace{c_{q1} c_{q2}^2}_{\\mbox{polynomial in c}} \\;\\;\\\n",
    "   \\underbrace{\\partial_2 \\partial_2 \\partial_1 f^{(eq)}}_{\\mbox{derivative of equilibrium}}  $$\n",
    "\n",
    "\n",
    "Note that in the *sympy* output we write $c_i$ instead of $c_{qi}$ to not make the index cluttering worse.\n",
    "The recombination $\\epsilon f_q^{(1)} + \\epsilon^2 f_q^{(2)} + \\epsilon^3 f_q^{(3)}$ is a sum of such terms and we want to compute \"$\\sum_q$\" of it. This sum is splitted up into single terms of the form described above. Lets see how this looks like for the example term\n",
    "\n",
    "$$ \\sum_q \\frac{\\epsilon}{\\omega^3} c_{q1} c_{q2}^2 \\partial_2 \\partial_2 \\partial_1 f^{(eq)} =\n",
    "   \\frac{\\epsilon}{\\omega^3}  \\partial_2 \\partial_2 \\partial_1 \\left(  \\sum_q c_{q1} c_{q2}^2 f^{(eq)} \\right) =\n",
    "   \\frac{\\epsilon}{\\omega^3}  \\partial_2 \\partial_2 \\partial_1  \\Pi^{(eq)}_{122}\n",
    "$$  \n",
    "\n",
    "We pull the constant $c$-terms and the q-sum into the derivative and write this construct as an equilibrium moment.\n",
    "This transformation is handled by the following Python function `takeMoments`. It splits a product into prefactor, $c$ product and equilibrium derivative and inserts a special symbol `CeMoment`  i.e. $\\Pi^{(eq)}$. The `CeMoment` behaves like a normal *sympy* symbol but additionally has index information attached to it in its `momentTuple` attribute. This `momentTuple` stores the exponents of the velocities e.g. $c_{q0}^3 c_{q1}^2$ is stored as $(3,2,0)$.\n",
    "\n",
    "Not all terms have the form described above, since we included a force term in the LB equation. If the `takeMoments` method encounters $F_q$ instead of $f^{(eq)}$ as argument of the derivative, it replaces it with a `CeMoment` called $\\Pi^{(F)}$.\n",
    "\n",
    "In this work we assume that a first order force model is used (e.g. Buick et al.). This means that all moments are zero, except the first order moment $\\sum_q c_{qi} F_q = a_i$, which is equal to the acceleration. \n",
    "The function `insertForceMoments` replaces the $\\Pi^{(F)}$'s with their value."
   ]
  },
  {
   "cell_type": "code",
   "execution_count": 13,
   "metadata": {},
   "outputs": [],
   "source": [
    "feqMomentName = \"\\\\Pi^{(eq)}\"\n",
    "forceMomentName = \"\\\\Pi^{(F)}\"\n",
    "\n",
    "def takeMoments(expr):\n",
    "    expr = expr.expand()\n",
    "    result = 0\n",
    "\n",
    "    for product in expr.args if expr.func is sp.Add else [expr]:\n",
    "        otherFactors = []\n",
    "        indices = [0, 0, 0]\n",
    "        diff = None\n",
    "        for factor in normalizeProduct(product):\n",
    "            if factor in c:\n",
    "                i = list(c).index(factor)\n",
    "                indices[i] += 1\n",
    "            elif isinstance(factor, Diff):\n",
    "                assert diff is None, \"More than one differential in term \" + str(product)\n",
    "                diff = factor\n",
    "            else:\n",
    "                otherFactors.append(factor)\n",
    "        if diff is None:\n",
    "            assert feq in otherFactors or F_q in otherFactors, str(otherFactors)\n",
    "            arg = feq if feq in otherFactors else F_q\n",
    "            otherFactors = [e for e in otherFactors if e not in (feq, F_q)]\n",
    "            moment = CeMoment(feqMomentName if arg == feq else forceMomentName, tuple(indices))\n",
    "            result += prod(otherFactors) * moment           \n",
    "        else:\n",
    "            arg = diff.getArgRecursive()\n",
    "            assert arg in (feq, F_q)\n",
    "            moment = CeMoment(feqMomentName if arg == feq else forceMomentName, tuple(indices))\n",
    "            result += prod(otherFactors) * diff.changeArgRecursive(moment)\n",
    "    return normalizeDiffOrder(result)\n",
    "\n",
    "def insertForceMoments(eq):\n",
    "    # replace first order force moments with acceleration\n",
    "    eq = eq.subs({CeMoment(forceMomentName, (1,0,0)): a[0], \n",
    "                  CeMoment(forceMomentName, (0,1,0)): a[1], \n",
    "                  CeMoment(forceMomentName, (0,0,1)): a[2]})\n",
    "\n",
    "    # all other force moments are zero\n",
    "    eq = eq.subs({m: 0 for m in eq.atoms(CeMoment) if m.name == forceMomentName})\n",
    "    return eq"
   ]
  },
  {
   "cell_type": "markdown",
   "metadata": {},
   "source": [
    "With these function we have all building blocks in place to formulate the recombined continuity equation in its lattice model independent formulation, using equilibrium moments. To simplify the equations we substitute the relaxation parameter $\\omega$ by $\\frac{1}{\\Lambda + \\frac{1}{2}}$"
   ]
  },
  {
   "cell_type": "code",
   "execution_count": 14,
   "metadata": {},
   "outputs": [
    {
     "data": {
      "image/png": "[encoded data removed]",
      "text/latex": [
       "$$\\left \\{ ω : \\frac{1}{Λ + \\frac{1}{2}}\\right \\}$$"
      ],
      "text/plain": [
       "⎧      1   ⎫\n",
       "⎨ω: ───────⎬\n",
       "⎩   Λ + 1/2⎭"
      ]
     },
     "execution_count": 14,
     "metadata": {},
     "output_type": "execute_result"
    }
   ],
   "source": [
    "ΛSubs = { ω : 1 / (Λ + S(1)/2) }\n",
    "ΛSubs"
   ]
  },
  {
   "cell_type": "code",
   "execution_count": 15,
   "metadata": {},
   "outputs": [
    {
     "data": {
      "text/latex": [
       "$$ε^{2} \\left(- Λ^{2} {\\partial_{2} {\\partial_{2} {\\partial_{2} {\\Pi^{(eq)}_{222}}}}} - 3 Λ^{2} {\\partial_{1} {\\partial_{2} {\\partial_{2} {\\Pi^{(eq)}_{122}}}}} - 3 Λ^{2} {\\partial_{1} {\\partial_{1} {\\partial_{2} {\\Pi^{(eq)}_{112}}}}} - Λ^{2} {\\partial_{1} {\\partial_{1} {\\partial_{1} {\\Pi^{(eq)}_{111}}}}} - 3 Λ^{2} {\\partial_{0} {\\partial_{2} {\\partial_{2} {\\Pi^{(eq)}_{022}}}}} - 6 Λ^{2} {\\partial_{0} {\\partial_{1} {\\partial_{2} {\\Pi^{(eq)}_{012}}}}} - 3 Λ^{2} {\\partial_{0} {\\partial_{1} {\\partial_{1} {\\Pi^{(eq)}_{011}}}}} - 3 Λ^{2} {\\partial_{0} {\\partial_{0} {\\partial_{2} {\\Pi^{(eq)}_{002}}}}} - 3 Λ^{2} {\\partial_{0} {\\partial_{0} {\\partial_{1} {\\Pi^{(eq)}_{001}}}}} - Λ^{2} {\\partial_{0} {\\partial_{0} {\\partial_{0} {\\Pi^{(eq)}_{000}}}}} + \\frac{1}{12} {\\partial_{2} {\\partial_{2} {\\partial_{2} {\\Pi^{(eq)}_{222}}}}} + \\frac{1}{4} {\\partial_{1} {\\partial_{2} {\\partial_{2} {\\Pi^{(eq)}_{122}}}}} + \\frac{1}{4} {\\partial_{1} {\\partial_{1} {\\partial_{2} {\\Pi^{(eq)}_{112}}}}} + \\frac{1}{12} {\\partial_{1} {\\partial_{1} {\\partial_{1} {\\Pi^{(eq)}_{111}}}}} + \\frac{1}{4} {\\partial_{0} {\\partial_{2} {\\partial_{2} {\\Pi^{(eq)}_{022}}}}} + \\frac{1}{2} {\\partial_{0} {\\partial_{1} {\\partial_{2} {\\Pi^{(eq)}_{012}}}}} + \\frac{1}{4} {\\partial_{0} {\\partial_{1} {\\partial_{1} {\\Pi^{(eq)}_{011}}}}} + \\frac{1}{4} {\\partial_{0} {\\partial_{0} {\\partial_{2} {\\Pi^{(eq)}_{002}}}}} + \\frac{1}{4} {\\partial_{0} {\\partial_{0} {\\partial_{1} {\\Pi^{(eq)}_{001}}}}} + \\frac{1}{12} {\\partial_{0} {\\partial_{0} {\\partial_{0} {\\Pi^{(eq)}_{000}}}}}\\right) + ε \\left(- Λ {\\partial_{0} a_{0}} - Λ {\\partial_{1} a_{1}} - Λ {\\partial_{2} a_{2}} + Λ {\\partial_{2} {\\partial_{2} {\\Pi^{(eq)}_{22}}}} + 2 Λ {\\partial_{1} {\\partial_{2} {\\Pi^{(eq)}_{12}}}} + Λ {\\partial_{1} {\\partial_{1} {\\Pi^{(eq)}_{11}}}} + 2 Λ {\\partial_{0} {\\partial_{2} {\\Pi^{(eq)}_{02}}}} + 2 Λ {\\partial_{0} {\\partial_{1} {\\Pi^{(eq)}_{01}}}} + Λ {\\partial_{0} {\\partial_{0} {\\Pi^{(eq)}_{00}}}}\\right) - {\\partial_{2} {\\Pi^{(eq)}_{2}}} - {\\partial_{1} {\\Pi^{(eq)}_{1}}} - {\\partial_{0} {\\Pi^{(eq)}_{0}}}$$"
      ],
      "text/plain": [
       " 2 ⎛   2                                         2                            \n",
       "ε ⋅⎜- Λ ⋅D(D(D(\\Pi^{(eq)}_(-1)_(0, 0, 3)))) - 3⋅Λ ⋅D(D(D(\\Pi^{(eq)}_(-1)_(0, 1\n",
       "   ⎝                                                                          \n",
       "\n",
       "             2                                       2                        \n",
       ", 2)))) - 3⋅Λ ⋅D(D(D(\\Pi^{(eq)}_(-1)_(0, 2, 1)))) - Λ ⋅D(D(D(\\Pi^{(eq)}_(-1)_(\n",
       "                                                                              \n",
       "\n",
       "                 2                                         2                  \n",
       "0, 3, 0)))) - 3⋅Λ ⋅D(D(D(\\Pi^{(eq)}_(-1)_(1, 0, 2)))) - 6⋅Λ ⋅D(D(D(\\Pi^{(eq)}_\n",
       "                                                                              \n",
       "\n",
       "                       2                                         2            \n",
       "(-1)_(1, 1, 1)))) - 3⋅Λ ⋅D(D(D(\\Pi^{(eq)}_(-1)_(1, 2, 0)))) - 3⋅Λ ⋅D(D(D(\\Pi^{\n",
       "                                                                              \n",
       "\n",
       "                             2                                       2        \n",
       "(eq)}_(-1)_(2, 0, 1)))) - 3⋅Λ ⋅D(D(D(\\Pi^{(eq)}_(-1)_(2, 1, 0)))) - Λ ⋅D(D(D(\\\n",
       "                                                                              \n",
       "\n",
       "                              D(D(D(\\Pi^{(eq)}_(-1)_(0, 0, 3))))   D(D(D(\\Pi^{\n",
       "Pi^{(eq)}_(-1)_(3, 0, 0)))) + ────────────────────────────────── + ───────────\n",
       "                                              12                              \n",
       "\n",
       "(eq)}_(-1)_(0, 1, 2))))   D(D(D(\\Pi^{(eq)}_(-1)_(0, 2, 1))))   D(D(D(\\Pi^{(eq)\n",
       "─────────────────────── + ────────────────────────────────── + ───────────────\n",
       "     4                                    4                                   \n",
       "\n",
       "}_(-1)_(0, 3, 0))))   D(D(D(\\Pi^{(eq)}_(-1)_(1, 0, 2))))   D(D(D(\\Pi^{(eq)}_(-\n",
       "─────────────────── + ────────────────────────────────── + ───────────────────\n",
       " 12                                   4                                    2  \n",
       "\n",
       "1)_(1, 1, 1))))   D(D(D(\\Pi^{(eq)}_(-1)_(1, 2, 0))))   D(D(D(\\Pi^{(eq)}_(-1)_(\n",
       "─────────────── + ────────────────────────────────── + ───────────────────────\n",
       "                                  4                                    4      \n",
       "\n",
       "2, 0, 1))))   D(D(D(\\Pi^{(eq)}_(-1)_(2, 1, 0))))   D(D(D(\\Pi^{(eq)}_(-1)_(3, 0\n",
       "─────────── + ────────────────────────────────── + ───────────────────────────\n",
       "                              4                                    12         \n",
       "\n",
       ", 0))))⎞                                                                      \n",
       "───────⎟ + ε⋅(-Λ⋅D(a_{0}) - Λ⋅D(a_{1}) - Λ⋅D(a_{2}) + Λ⋅D(D(\\Pi^{(eq)}_(-1)_(0\n",
       "       ⎠                                                                      \n",
       "\n",
       "                                                                              \n",
       ", 0, 2))) + 2⋅Λ⋅D(D(\\Pi^{(eq)}_(-1)_(0, 1, 1))) + Λ⋅D(D(\\Pi^{(eq)}_(-1)_(0, 2,\n",
       "                                                                              \n",
       "\n",
       "                                                                              \n",
       " 0))) + 2⋅Λ⋅D(D(\\Pi^{(eq)}_(-1)_(1, 0, 1))) + 2⋅Λ⋅D(D(\\Pi^{(eq)}_(-1)_(1, 1, 0\n",
       "                                                                              \n",
       "\n",
       "                                                                              \n",
       "))) + Λ⋅D(D(\\Pi^{(eq)}_(-1)_(2, 0, 0)))) - D(\\Pi^{(eq)}_(-1)_(0, 0, 1)) - D(\\P\n",
       "                                                                              \n",
       "\n",
       "                                                       \n",
       "i^{(eq)}_(-1)_(0, 1, 0)) - D(\\Pi^{(eq)}_(-1)_(1, 0, 0))\n",
       "                                                       "
      ]
     },
     "execution_count": 15,
     "metadata": {},
     "output_type": "execute_result"
    }
   ],
   "source": [
    "genericContinuityEq = takeMoments((expandedF - feq).subs(fHierarchyInserted) / ε * ω)\n",
    "genericContinuityEq = insertForceMoments(genericContinuityEq).subs(ΛSubs).expand().collect(ε)\n",
    "genericContinuityEq"
   ]
  },
  {
   "cell_type": "markdown",
   "metadata": {},
   "source": [
    "This is equation (25) of the paper, but very hard to read since no Einstein summation convention can be used in *sympy*.\n",
    "$$- \\partial_i \\Pi^{(eq)}_i + \n",
    "\\epsilon \\Lambda  \\left( \\partial_i \\partial_j \\Pi^{(eq)}_{ij} - \\partial_i a_i \\right)\n",
    "- \\epsilon^2 \\left( \\Lambda^2 - \\frac{1}{12} \\right) \\partial_i \\partial_j \\partial_k \\Pi^{(eq)}_{ijk} \n",
    "% + \\epsilon^3 \\left(  \\Lambda^3 - \\frac{\\Lambda}{6} \\right) \\partial_i \\partial_j \\partial_k \\partial_l \\Pi^_{(eq)}_{ijkl} + \\cdots \n",
    "= 0$$\n",
    "\n",
    "To make sure both equations are indeed equal, we write down equation (25) in sympy and check for equality. Additionally the function `normalizeDiffOrder` is used to bring all derivatives into the same order, since e.g. $\\partial_1 \\partial_2$ is not considered equal to $\\partial_2 \\partial_1$ by *sympy*."
   ]
  },
  {
   "cell_type": "code",
   "execution_count": 16,
   "metadata": {},
   "outputs": [],
   "source": [
    "# Define summation over 1, 2 and 3 indices\n",
    "s1 = [0,1,2]\n",
    "s2 = list(itertools.product(s1,s1))\n",
    "s3 = list(itertools.product(s1,s1,s1))\n",
    "\n",
    "# shorthand function to create equilibrium moment symbols\n",
    "Pi = lambda *i: CeMoment(feqMomentName, tuple(sum(1 if e==k else 0 for e in i) for k in range(3)))\n",
    "\n",
    "# equation (25) from the paper\n",
    "referenceContinuityEq = - ε**0 * sum(Diff(Pi(i),i) for i in s1) \\\n",
    "                        + ε**1 * Λ * ( sum( d(Pi(i,j), i,j) for i,j in s2) - sum(Diff(a[i],i) for i in s1)) \\\n",
    "                        - ε**2 * (Λ**2 - S(1)/12) * sum( d(Pi(i,j,k), i,j,k) for i,j,k in s3 )\n",
    "normalizeDiffOrder(referenceContinuityEq).collect(ε)\n",
    "\n",
    "assert sp.expand(referenceContinuityEq - genericContinuityEq) == 0, \"Automatically derived version is not the same as version in paper\""
   ]
  },
  {
   "cell_type": "markdown",
   "metadata": {},
   "source": [
    "##### Step 2.3.1 General momentum conservation equation\n",
    "\n",
    "Similarly the momentum conservation equations can be obtained, by taking the first instead of the zeroth moment.\n",
    "In addition the velocity shift due to the force model has to be considered as well.\n",
    "\n",
    "$$ \\sum_q c_{qh} \\left( \\epsilon f_q^{(1)} + \\epsilon^2 f_q^{(2)} + \\epsilon^3 f_q^{(3)} \\right)  = - \\frac{\\epsilon}{2} \\sum_q c_{qh} F_q  $$\n",
    "\n",
    "Starting with this equation, applying the `takeMoments` and `insertForceMoments` from above, we obtain the generic momentum conservation equation for the x-momentum, since `h` is chosen as 0."
   ]
  },
  {
   "cell_type": "code",
   "execution_count": 17,
   "metadata": {
    "scrolled": true
   },
   "outputs": [
    {
     "data": {
      "text/latex": [
       "$$- a_{0} + Λ^{2} ε^{2} {\\partial_{2} {\\partial_{2} {\\partial_{2} {\\Pi^{(eq)}_{0222}}}}} + 3 Λ^{2} ε^{2} {\\partial_{1} {\\partial_{2} {\\partial_{2} {\\Pi^{(eq)}_{0122}}}}} + 3 Λ^{2} ε^{2} {\\partial_{1} {\\partial_{1} {\\partial_{2} {\\Pi^{(eq)}_{0112}}}}} + Λ^{2} ε^{2} {\\partial_{1} {\\partial_{1} {\\partial_{1} {\\Pi^{(eq)}_{0111}}}}} + 3 Λ^{2} ε^{2} {\\partial_{0} {\\partial_{2} {\\partial_{2} {\\Pi^{(eq)}_{0022}}}}} + 6 Λ^{2} ε^{2} {\\partial_{0} {\\partial_{1} {\\partial_{2} {\\Pi^{(eq)}_{0012}}}}} + 3 Λ^{2} ε^{2} {\\partial_{0} {\\partial_{1} {\\partial_{1} {\\Pi^{(eq)}_{0011}}}}} + 3 Λ^{2} ε^{2} {\\partial_{0} {\\partial_{0} {\\partial_{2} {\\Pi^{(eq)}_{0002}}}}} + 3 Λ^{2} ε^{2} {\\partial_{0} {\\partial_{0} {\\partial_{1} {\\Pi^{(eq)}_{0001}}}}} + Λ^{2} ε^{2} {\\partial_{0} {\\partial_{0} {\\partial_{0} {\\Pi^{(eq)}_{0000}}}}} - Λ ε {\\partial_{2} {\\partial_{2} {\\Pi^{(eq)}_{022}}}} - 2 Λ ε {\\partial_{1} {\\partial_{2} {\\Pi^{(eq)}_{012}}}} - Λ ε {\\partial_{1} {\\partial_{1} {\\Pi^{(eq)}_{011}}}} - 2 Λ ε {\\partial_{0} {\\partial_{2} {\\Pi^{(eq)}_{002}}}} - 2 Λ ε {\\partial_{0} {\\partial_{1} {\\Pi^{(eq)}_{001}}}} - Λ ε {\\partial_{0} {\\partial_{0} {\\Pi^{(eq)}_{000}}}} - \\frac{ε^{2}}{12} {\\partial_{2} {\\partial_{2} {\\partial_{2} {\\Pi^{(eq)}_{0222}}}}} - \\frac{ε^{2}}{4} {\\partial_{1} {\\partial_{2} {\\partial_{2} {\\Pi^{(eq)}_{0122}}}}} - \\frac{ε^{2}}{4} {\\partial_{1} {\\partial_{1} {\\partial_{2} {\\Pi^{(eq)}_{0112}}}}} - \\frac{ε^{2}}{12} {\\partial_{1} {\\partial_{1} {\\partial_{1} {\\Pi^{(eq)}_{0111}}}}} - \\frac{ε^{2}}{4} {\\partial_{0} {\\partial_{2} {\\partial_{2} {\\Pi^{(eq)}_{0022}}}}} - \\frac{ε^{2}}{2} {\\partial_{0} {\\partial_{1} {\\partial_{2} {\\Pi^{(eq)}_{0012}}}}} - \\frac{ε^{2}}{4} {\\partial_{0} {\\partial_{1} {\\partial_{1} {\\Pi^{(eq)}_{0011}}}}} - \\frac{ε^{2}}{4} {\\partial_{0} {\\partial_{0} {\\partial_{2} {\\Pi^{(eq)}_{0002}}}}} - \\frac{ε^{2}}{4} {\\partial_{0} {\\partial_{0} {\\partial_{1} {\\Pi^{(eq)}_{0001}}}}} - \\frac{ε^{2}}{12} {\\partial_{0} {\\partial_{0} {\\partial_{0} {\\Pi^{(eq)}_{0000}}}}} + {\\partial_{2} {\\Pi^{(eq)}_{02}}} + {\\partial_{1} {\\Pi^{(eq)}_{01}}} + {\\partial_{0} {\\Pi^{(eq)}_{00}}}$$"
      ],
      "text/plain": [
       "                                                                              \n",
       "          2  2                                         2  2                   \n",
       "-a_{0} + Λ ⋅ε ⋅D(D(D(\\Pi^{(eq)}_(-1)_(1, 0, 3)))) + 3⋅Λ ⋅ε ⋅D(D(D(\\Pi^{(eq)}_(\n",
       "                                                                              \n",
       "\n",
       "                                                                              \n",
       "                      2  2                                       2  2         \n",
       "-1)_(1, 1, 2)))) + 3⋅Λ ⋅ε ⋅D(D(D(\\Pi^{(eq)}_(-1)_(1, 2, 1)))) + Λ ⋅ε ⋅D(D(D(\\P\n",
       "                                                                              \n",
       "\n",
       "                                                                              \n",
       "                                2  2                                         2\n",
       "i^{(eq)}_(-1)_(1, 3, 0)))) + 3⋅Λ ⋅ε ⋅D(D(D(\\Pi^{(eq)}_(-1)_(2, 0, 2)))) + 6⋅Λ \n",
       "                                                                              \n",
       "\n",
       "                                                                              \n",
       "  2                                         2  2                              \n",
       "⋅ε ⋅D(D(D(\\Pi^{(eq)}_(-1)_(2, 1, 1)))) + 3⋅Λ ⋅ε ⋅D(D(D(\\Pi^{(eq)}_(-1)_(2, 2, \n",
       "                                                                              \n",
       "\n",
       "                                                                              \n",
       "           2  2                                         2  2                  \n",
       "0)))) + 3⋅Λ ⋅ε ⋅D(D(D(\\Pi^{(eq)}_(-1)_(3, 0, 1)))) + 3⋅Λ ⋅ε ⋅D(D(D(\\Pi^{(eq)}_\n",
       "                                                                              \n",
       "\n",
       "                                                                              \n",
       "                     2  2                                                     \n",
       "(-1)_(3, 1, 0)))) + Λ ⋅ε ⋅D(D(D(\\Pi^{(eq)}_(-1)_(4, 0, 0)))) - Λ⋅ε⋅D(D(\\Pi^{(e\n",
       "                                                                              \n",
       "\n",
       "                                                                              \n",
       "                                                                              \n",
       "q)}_(-1)_(1, 0, 2))) - 2⋅Λ⋅ε⋅D(D(\\Pi^{(eq)}_(-1)_(1, 1, 1))) - Λ⋅ε⋅D(D(\\Pi^{(e\n",
       "                                                                              \n",
       "\n",
       "                                                                              \n",
       "                                                                              \n",
       "q)}_(-1)_(1, 2, 0))) - 2⋅Λ⋅ε⋅D(D(\\Pi^{(eq)}_(-1)_(2, 0, 1))) - 2⋅Λ⋅ε⋅D(D(\\Pi^{\n",
       "                                                                              \n",
       "\n",
       "                                                                2             \n",
       "                                                               ε ⋅D(D(D(\\Pi^{(\n",
       "(eq)}_(-1)_(2, 1, 0))) - Λ⋅ε⋅D(D(\\Pi^{(eq)}_(-1)_(3, 0, 0))) - ───────────────\n",
       "                                                                              \n",
       "\n",
       "                          2                                       2           \n",
       "eq)}_(-1)_(1, 0, 3))))   ε ⋅D(D(D(\\Pi^{(eq)}_(-1)_(1, 1, 2))))   ε ⋅D(D(D(\\Pi^\n",
       "────────────────────── - ───────────────────────────────────── - ─────────────\n",
       "   12                                      4                                  \n",
       "\n",
       "                            2                                       2         \n",
       "{(eq)}_(-1)_(1, 2, 1))))   ε ⋅D(D(D(\\Pi^{(eq)}_(-1)_(1, 3, 0))))   ε ⋅D(D(D(\\P\n",
       "──────────────────────── - ───────────────────────────────────── - ───────────\n",
       "     4                                       12                               \n",
       "\n",
       "                              2                                       2       \n",
       "i^{(eq)}_(-1)_(2, 0, 2))))   ε ⋅D(D(D(\\Pi^{(eq)}_(-1)_(2, 1, 1))))   ε ⋅D(D(D(\n",
       "────────────────────────── - ───────────────────────────────────── - ─────────\n",
       "       4                                       2                              \n",
       "\n",
       "                                2                                       2     \n",
       "\\Pi^{(eq)}_(-1)_(2, 2, 0))))   ε ⋅D(D(D(\\Pi^{(eq)}_(-1)_(3, 0, 1))))   ε ⋅D(D(\n",
       "──────────────────────────── - ───────────────────────────────────── - ───────\n",
       "         4                                       4                            \n",
       "\n",
       "                                  2                                           \n",
       "D(\\Pi^{(eq)}_(-1)_(3, 1, 0))))   ε ⋅D(D(D(\\Pi^{(eq)}_(-1)_(4, 0, 0))))        \n",
       "────────────────────────────── - ───────────────────────────────────── + D(\\Pi\n",
       "           4                                       12                         \n",
       "\n",
       "                                                                              \n",
       "                                                                              \n",
       "^{(eq)}_(-1)_(1, 0, 1)) + D(\\Pi^{(eq)}_(-1)_(1, 1, 0)) + D(\\Pi^{(eq)}_(-1)_(2,\n",
       "                                                                              \n",
       "\n",
       "       \n",
       "       \n",
       " 0, 0))\n",
       "       "
      ]
     },
     "execution_count": 17,
     "metadata": {},
     "output_type": "execute_result"
    }
   ],
   "source": [
    "genericMomentumEq = -sp.Matrix([(expandedF - feq) * c[h] + ε/2 * c[h] * F_q for h in range(3)])\n",
    "genericMomentumEq = genericMomentumEq.subs(fHierarchyInserted) / ε * ω\n",
    "genericMomentumEq = genericMomentumEq.applyfunc(takeMoments).applyfunc(insertForceMoments).applyfunc(lambda t: t.collect(ε))\n",
    "genericMomentumEq = genericMomentumEq.subs(ΛSubs).applyfunc(normalizeDiffOrder)\n",
    "genericMomentumEq[0]"
   ]
  },
  {
   "cell_type": "markdown",
   "metadata": {},
   "source": [
    "In the next cell we check that this is indeed equation (28) of the paper"
   ]
  },
  {
   "cell_type": "code",
   "execution_count": 18,
   "metadata": {},
   "outputs": [],
   "source": [
    "for h in range(3):\n",
    "    referenceMomentumEq =  sum(Diff(Pi(i, h), i) for i in s1) \\\n",
    "                          - ε * Λ * sum( d(Pi(i,j,h), i, j) for i,j in s2) \\\n",
    "                          + ε**2 * (Λ**2 - S(1)/12) * sum(d(Pi(i,j,k,h), i,j,k) for i,j,k in s3) \\\n",
    "                          - a[h]\n",
    "    assert sp.expand(referenceMomentumEq - genericMomentumEq[h]) == 0,  \"Automatically derived version is not the same as version in paper\""
   ]
  },
  {
   "cell_type": "markdown",
   "metadata": {},
   "source": [
    "### Step 3: Lattice Model specific equations\n",
    "\n",
    "The lattice model specific equations can be obtained by inserting values for the equilibrium moment symbols. \n",
    "In the supplementary material notebook for section 3 we have already demonstrated how equilibrium moment can be computed in *sympy*. Therefor, the stencil directions have to be defined,"
   ]
  },
  {
   "cell_type": "code",
   "execution_count": 19,
   "metadata": {},
   "outputs": [],
   "source": [
    "D3Q19 = ((0, 0, 0),\n",
    "        (0, 1, 0), (0, -1, 0), (-1, 0, 0), (1, 0, 0), (0, 0, 1), (0, 0, -1),\n",
    "        (-1, 1, 0), (1, 1, 0), (-1, -1, 0), (1, -1, 0),\n",
    "        (0, 1, 1), (0, -1, 1), (-1, 0, 1), (1, 0, 1),\n",
    "        (0, 1, -1), (0, -1, -1), (-1, 0, -1), (1, 0, -1))\n",
    "D3Q27 = ((0, 0, 0),\n",
    "         (0, 1, 0), (0, -1, 0), (-1, 0, 0), (1, 0, 0), (0, 0, 1), (0, 0, -1),\n",
    "         (-1, 1, 0), (1, 1, 0), (-1, -1, 0), (1, -1, 0),\n",
    "         (0, 1, 1), (0, -1, 1), (-1, 0, 1), (1, 0, 1),\n",
    "         (0, 1, -1), (0, -1, -1), (-1, 0, -1), (1, 0, -1),\n",
    "         (1, 1, 1), (-1, 1, 1), (1, -1, 1), (-1, -1, 1), (1, 1, -1), (-1, 1, -1), (1, -1, -1), (-1, -1, -1))"
   ]
  },
  {
   "cell_type": "markdown",
   "metadata": {},
   "source": [
    "The D3Q27 and D3Q19-S model are obtained by taking the Hermite-discretized well-known LB equilibrium and compute the moments from the discrete forms."
   ]
  },
  {
   "cell_type": "code",
   "execution_count": 20,
   "metadata": {},
   "outputs": [],
   "source": [
    "eqD3Q27  = discreteMaxwellianEquilibrium(D3Q27, order=2, compressible=False)\n",
    "eqD3Q19S = discreteMaxwellianEquilibrium(D3Q19, order=2, compressible=False)\n",
    "\n",
    "D3Q19S_moment = lambda expTuple: discreteMoment(eqD3Q19S, expTuple, D3Q19).expand()\n",
    "D3Q27_moment  = lambda expTuple: discreteMoment(eqD3Q27,  expTuple, D3Q27).expand()"
   ]
  },
  {
   "cell_type": "markdown",
   "metadata": {},
   "source": [
    "The improved D3Q19-I equilibrium is constructed as described in the previous notebook "
   ]
  },
  {
   "cell_type": "code",
   "execution_count": 21,
   "metadata": {},
   "outputs": [],
   "source": [
    "d3q27moments = momentsUpToComponentOrder(2, dim=3)\n",
    "exponentsToLeaveOut = extendMomentsWithPermutations([(1, 2, 2), (1, 1, 2), (2, 2, 2), (1, 1, 1)])\n",
    "d3q19moments = tuple(m for m in d3q27moments if m not in exponentsToLeaveOut)\n",
    "\n",
    "d3q19meq = getMomentsOfContinuousMaxwellianEquilibrium(d3q19moments, dim=3, order=2, c_s_sq=S(1)/3)\n",
    "d3q19meq = tuple(compressibleToIncompressibleMomentValue(v) for v in d3q19meq)\n",
    "\n",
    "eqD3Q19I = momentMatrix(moments=d3q19moments, stencil=D3Q19).inv() * sp.Matrix(d3q19meq)\n",
    "D3Q19I_moment = lambda expTuple: discreteMoment(eqD3Q19I, expTuple, D3Q19).expand()"
   ]
  },
  {
   "cell_type": "markdown",
   "metadata": {},
   "source": [
    "The function `insertMoments` receives an expression with symbolic moments $\\Pi^{(eq)}$ and inserts their value, that is obtained by calling the passed `momentGetter` function."
   ]
  },
  {
   "cell_type": "code",
   "execution_count": 22,
   "metadata": {},
   "outputs": [],
   "source": [
    "def insertMoments(expr, momentGetter):\n",
    "    moments = expr.atoms(CeMoment)\n",
    "    result = expr.subs({m: momentGetter(m.momentTuple) for m in moments})\n",
    "    return result.applyfunc(expandUsingLinearity) if isinstance(result, sp.Matrix) else expandUsingLinearity(result)"
   ]
  },
  {
   "cell_type": "markdown",
   "metadata": {},
   "source": [
    "#### Step  3.1: Continuity equation\n",
    "\n",
    "\n",
    "The continuity equation for the D3Q27 model reads"
   ]
  },
  {
   "cell_type": "code",
   "execution_count": 23,
   "metadata": {},
   "outputs": [
    {
     "data": {
      "text/latex": [
       "$$- Λ^{2} ε^{2} {\\partial_{0} {\\partial_{0} {\\partial_{0} u_{0}}}} - Λ^{2} ε^{2} {\\partial_{0} {\\partial_{1} {\\partial_{1} u_{0}}}} - Λ^{2} ε^{2} {\\partial_{0} {\\partial_{2} {\\partial_{2} u_{0}}}} - Λ^{2} ε^{2} {\\partial_{0} {\\partial_{0} {\\partial_{1} u_{1}}}} - Λ^{2} ε^{2} {\\partial_{1} {\\partial_{1} {\\partial_{1} u_{1}}}} - Λ^{2} ε^{2} {\\partial_{1} {\\partial_{2} {\\partial_{2} u_{1}}}} - Λ^{2} ε^{2} {\\partial_{0} {\\partial_{0} {\\partial_{2} u_{2}}}} - Λ^{2} ε^{2} {\\partial_{1} {\\partial_{1} {\\partial_{2} u_{2}}}} - Λ^{2} ε^{2} {\\partial_{2} {\\partial_{2} {\\partial_{2} u_{2}}}} - Λ ε {\\partial_{0} a_{0}} - Λ ε {\\partial_{1} a_{1}} - Λ ε {\\partial_{2} a_{2}} + \\frac{Λ ε}{3} {\\partial_{0} {\\partial_{0} \\rho}} + \\frac{Λ ε}{3} {\\partial_{1} {\\partial_{1} \\rho}} + \\frac{Λ ε}{3} {\\partial_{2} {\\partial_{2} \\rho}} + Λ ε {\\partial_{0} {\\partial_{0} (u_{0}^{2}) }} + Λ ε {\\partial_{1} {\\partial_{1} (u_{1}^{2}) }} + Λ ε {\\partial_{2} {\\partial_{2} (u_{2}^{2}) }} + 2 Λ ε {\\partial_{0} {\\partial_{1} (u_{0} u_{1}) }} + 2 Λ ε {\\partial_{0} {\\partial_{2} (u_{0} u_{2}) }} + 2 Λ ε {\\partial_{1} {\\partial_{2} (u_{1} u_{2}) }} + \\frac{ε^{2}}{12} {\\partial_{0} {\\partial_{0} {\\partial_{0} u_{0}}}} + \\frac{ε^{2}}{12} {\\partial_{0} {\\partial_{1} {\\partial_{1} u_{0}}}} + \\frac{ε^{2}}{12} {\\partial_{0} {\\partial_{2} {\\partial_{2} u_{0}}}} + \\frac{ε^{2}}{12} {\\partial_{0} {\\partial_{0} {\\partial_{1} u_{1}}}} + \\frac{ε^{2}}{12} {\\partial_{1} {\\partial_{1} {\\partial_{1} u_{1}}}} + \\frac{ε^{2}}{12} {\\partial_{1} {\\partial_{2} {\\partial_{2} u_{1}}}} + \\frac{ε^{2}}{12} {\\partial_{0} {\\partial_{0} {\\partial_{2} u_{2}}}} + \\frac{ε^{2}}{12} {\\partial_{1} {\\partial_{1} {\\partial_{2} u_{2}}}} + \\frac{ε^{2}}{12} {\\partial_{2} {\\partial_{2} {\\partial_{2} u_{2}}}} - {\\partial_{0} u_{0}} - {\\partial_{1} u_{1}} - {\\partial_{2} u_{2}}$$"
      ],
      "text/plain": [
       "                                                                              \n",
       "   2  2                 2  2                 2  2                 2  2        \n",
       "- Λ ⋅ε ⋅D(D(D(u_0))) - Λ ⋅ε ⋅D(D(D(u_0))) - Λ ⋅ε ⋅D(D(D(u_0))) - Λ ⋅ε ⋅D(D(D(u\n",
       "                                                                              \n",
       "\n",
       "                                                                              \n",
       "         2  2                 2  2                 2  2                 2  2  \n",
       "_1))) - Λ ⋅ε ⋅D(D(D(u_1))) - Λ ⋅ε ⋅D(D(D(u_1))) - Λ ⋅ε ⋅D(D(D(u_2))) - Λ ⋅ε ⋅D\n",
       "                                                                              \n",
       "\n",
       "                                                                              \n",
       "               2  2                                                           \n",
       "(D(D(u_2))) - Λ ⋅ε ⋅D(D(D(u_2))) - Λ⋅ε⋅D(a_{0}) - Λ⋅ε⋅D(a_{1}) - Λ⋅ε⋅D(a_{2}) \n",
       "                                                                              \n",
       "\n",
       "                                                                              \n",
       "  Λ⋅ε⋅D(D(rho))   Λ⋅ε⋅D(D(rho))   Λ⋅ε⋅D(D(rho))                               \n",
       "+ ───────────── + ───────────── + ───────────── + Λ⋅ε⋅D(D(u_0**2)) + Λ⋅ε⋅D(D(u\n",
       "        3               3               3                                     \n",
       "\n",
       "                                                                              \n",
       "                                                                              \n",
       "_1**2)) + Λ⋅ε⋅D(D(u_2**2)) + 2⋅Λ⋅ε⋅D(D(u_0*u_1)) + 2⋅Λ⋅ε⋅D(D(u_0*u_2)) + 2⋅Λ⋅ε\n",
       "                                                                              \n",
       "\n",
       "                  2                 2                 2                 2     \n",
       "                 ε ⋅D(D(D(u_0)))   ε ⋅D(D(D(u_0)))   ε ⋅D(D(D(u_0)))   ε ⋅D(D(\n",
       "⋅D(D(u_1*u_2)) + ─────────────── + ─────────────── + ─────────────── + ───────\n",
       "                        12                12                12                \n",
       "\n",
       "            2                 2                 2                 2           \n",
       "D(u_1)))   ε ⋅D(D(D(u_1)))   ε ⋅D(D(D(u_1)))   ε ⋅D(D(D(u_2)))   ε ⋅D(D(D(u_2)\n",
       "──────── + ─────────────── + ─────────────── + ─────────────── + ─────────────\n",
       "12                12                12                12                12    \n",
       "\n",
       "      2                                        \n",
       "))   ε ⋅D(D(D(u_2)))                           \n",
       "── + ─────────────── - D(u_0) - D(u_1) - D(u_2)\n",
       "            12                                 "
      ]
     },
     "execution_count": 23,
     "metadata": {},
     "output_type": "execute_result"
    }
   ],
   "source": [
    "d3q27_continuity_eq = insertMoments(genericContinuityEq, D3Q27_moment)\n",
    "d3q27_continuity_eq"
   ]
  },
  {
   "cell_type": "markdown",
   "metadata": {},
   "source": [
    "We get the incompressible continuity equation $\\partial_i u_i = 0$ with error terms that vanish if $\\epsilon \\rightarrow 0$.\n",
    "\n",
    "\n",
    "The continuity equation is the same up to second order in $\\epsilon$ for all three models. This is checked in the next cell"
   ]
  },
  {
   "cell_type": "code",
   "execution_count": 24,
   "metadata": {},
   "outputs": [],
   "source": [
    "assert d3q27_continuity_eq - insertMoments(genericContinuityEq, D3Q19I_moment) == 0\n",
    "assert d3q27_continuity_eq - insertMoments(genericContinuityEq, D3Q19S_moment) == 0"
   ]
  },
  {
   "cell_type": "markdown",
   "metadata": {},
   "source": [
    "The interesting part is to compare the higher order error terms of the momentum conservation equations. These are different for the three investigated lattice models."
   ]
  },
  {
   "cell_type": "markdown",
   "metadata": {},
   "source": [
    "#### Step 3.3: Momentum conservation equation\n",
    "\n",
    "Next, we insert the equilibrium moments of the three different lattice models into the generic momentum conservation equation."
   ]
  },
  {
   "cell_type": "code",
   "execution_count": 25,
   "metadata": {},
   "outputs": [],
   "source": [
    "d3q27_momentum_eq =  insertMoments(genericMomentumEq, D3Q27_moment)\n",
    "d3q19i_momentum_eq = insertMoments(genericMomentumEq, D3Q19I_moment)\n",
    "d3q19s_momentum_eq = insertMoments(genericMomentumEq, D3Q19S_moment)"
   ]
  },
  {
   "cell_type": "markdown",
   "metadata": {},
   "source": [
    "Up to order $\\epsilon$ they should all give the same result, namely the left hand side of equation (30).\n",
    "This is checked in the next cell. \n",
    "\n",
    "To check for equivalence we write down the equation with Einstein summation convention named `eq_30_ref` and compare its value to the automatically derived terms."
   ]
  },
  {
   "cell_type": "code",
   "execution_count": 26,
   "metadata": {},
   "outputs": [],
   "source": [
    "def equalUpToEpsilonOrder3(e1, e2):\n",
    "    diff = e1 - e2 + sp.Order(ε**2)\n",
    "    diff = expandUsingLinearity(diff.removeO())\n",
    "    return diff.expand() == 0\n",
    "\n",
    "# Eq (30) without error terms\n",
    "for h in range(3):\n",
    "    eq_30_ref = sum(Diff(ρ/3 * δ(i, h) + u[i] * u[h], i) for i in s1) - a[h] \\\n",
    "                    - ε * Λ / 3 * sum( d(u[h], i, i) + 2 * d(u[i], i, h) for i in s1)\n",
    "    \n",
    "    assert equalUpToEpsilonOrder3(eq_30_ref, d3q27_momentum_eq[h])\n",
    "    assert equalUpToEpsilonOrder3(eq_30_ref, d3q19i_momentum_eq[h])\n",
    "    assert equalUpToEpsilonOrder3(eq_30_ref, d3q19s_momentum_eq[h])"
   ]
  },
  {
   "cell_type": "markdown",
   "metadata": {},
   "source": [
    "The terms multiplied by $\\epsilon^2$ in the momentum conservation equations actually differ between the three lattice models. In the next cell we implement a function that extracts this second order contribution $E_2$.\n",
    "\n",
    "To better see the differences between the models we assume that $\\rho$ is constant in the complete domain."
   ]
  },
  {
   "cell_type": "code",
   "execution_count": 27,
   "metadata": {},
   "outputs": [],
   "source": [
    "def get_e2_term(expr):\n",
    "    prefactor = -(Λ**2 - S(1)/12)\n",
    "    expr = expr.applyfunc(lambda e: e.collect(ε))\n",
    "    expr = expr.applyfunc(lambda e: e.coeff(ε**2))\n",
    "    expr = expr.applyfunc(lambda e: expandUsingLinearity(e, constants=[ρ]))\n",
    "    return -(expr / prefactor).applyfunc(sp.cancel)"
   ]
  },
  {
   "cell_type": "markdown",
   "metadata": {},
   "source": [
    "Again, we explicitly check that the automatically derived version is equal to the version in the paper for equations (31)-(33)."
   ]
  },
  {
   "cell_type": "code",
   "execution_count": 28,
   "metadata": {},
   "outputs": [],
   "source": [
    "# Equation (31)\n",
    "e2_d3q27_ref = sp.Matrix([  sum(d(u[h] * u[j], i, i, j) for i,j in s2)\\\n",
    "                          + sum(d(u[i] * u[j], i, j, h) for i,j in s2)\\\n",
    "                          - d(u[h] ** 2, h, h, h) \\\n",
    "                          for h in range(3)])\n",
    "assert e2_d3q27_ref  == get_e2_term(d3q27_momentum_eq)\n",
    "\n",
    "\n",
    "# Equation (32)\n",
    "e2_d3q19i_ref =  sp.Matrix([      sum(d(u[h] * u[h], h, i, i) for i in s1)\\\n",
    "                            + 3 * sum(d(u[h] * u[i], h, h, i) for i in s1)\\\n",
    "                            +     sum(δ(i, j) * d(u[j] * u[h], i, i, j) for i, j in s2)\\\n",
    "                            +     sum(δ(i, j) * d(u[j] * u[j], h, i, i) for i, j in s2)\\\n",
    "                            - 5 * d(u[h] * u[h], h, h, h)\\\n",
    "                            for h in range(3)])\n",
    "assert e2_d3q19i_ref == get_e2_term(d3q19i_momentum_eq)\n",
    "\n",
    "\n",
    "# Equation (33)\n",
    "e2_d3q19s_ref =  e2_d3q19i_ref - \\\n",
    "                sp.Matrix([sum( (1 - δ(i,j)) * (1 - δ(i,h)) * (1 - δ(j, h)) * d(u[j]**2, i, i, h) for i,j in s2) / 2\n",
    "                           for h in range(3)])\n",
    "assert e2_d3q19s_ref == get_e2_term(d3q19s_momentum_eq)"
   ]
  },
  {
   "cell_type": "markdown",
   "metadata": {},
   "source": [
    "To better see why the three lattice models behave differently in the flows investigated, we restrict ourselves to the case where there is no velocity change in $x$ direction, i.e. $\\partial_0 (\\cdot) = 0$. \n",
    "This is true for the channel flows investigated in the paper. \n",
    "\n",
    "The next three cells correspond to equations (34)-(36) in the paper."
   ]
  },
  {
   "cell_type": "code",
   "execution_count": 29,
   "metadata": {},
   "outputs": [
    {
     "data": {
      "text/latex": [
       "$$\\left[\\begin{matrix}{\\partial_{1} {\\partial_{1} {\\partial_{1} (u_{0} u_{1}) }}} + {\\partial_{1} {\\partial_{2} {\\partial_{2} (u_{0} u_{1}) }}} + {\\partial_{1} {\\partial_{1} {\\partial_{2} (u_{0} u_{2}) }}} + {\\partial_{2} {\\partial_{2} {\\partial_{2} (u_{0} u_{2}) }}}\\\\{\\partial_{1} {\\partial_{1} {\\partial_{1} (u_{1}^{2}) }}} + {\\partial_{1} {\\partial_{2} {\\partial_{2} (u_{1}^{2}) }}} + {\\partial_{1} {\\partial_{2} {\\partial_{2} (u_{2}^{2}) }}} + 3 {\\partial_{1} {\\partial_{1} {\\partial_{2} (u_{1} u_{2}) }}} + {\\partial_{2} {\\partial_{2} {\\partial_{2} (u_{1} u_{2}) }}}\\\\{\\partial_{1} {\\partial_{1} {\\partial_{2} (u_{1}^{2}) }}} + {\\partial_{1} {\\partial_{1} {\\partial_{2} (u_{2}^{2}) }}} + {\\partial_{2} {\\partial_{2} {\\partial_{2} (u_{2}^{2}) }}} + {\\partial_{1} {\\partial_{1} {\\partial_{1} (u_{1} u_{2}) }}} + 3 {\\partial_{1} {\\partial_{2} {\\partial_{2} (u_{1} u_{2}) }}}\\end{matrix}\\right]$$"
      ],
      "text/plain": [
       "⎡         D(D(D(u_0*u_1))) + D(D(D(u_0*u_1))) + D(D(D(u_0*u_2))) + D(D(D(u_0*u\n",
       "⎢                                                                             \n",
       "⎢D(D(D(u_1**2))) + D(D(D(u_1**2))) + D(D(D(u_2**2))) + 3⋅D(D(D(u_1*u_2))) + D(\n",
       "⎢                                                                             \n",
       "⎣D(D(D(u_1**2))) + D(D(D(u_2**2))) + D(D(D(u_2**2))) + D(D(D(u_1*u_2))) + 3⋅D(\n",
       "\n",
       "_2)))         ⎤\n",
       "              ⎥\n",
       "D(D(u_1*u_2)))⎥\n",
       "              ⎥\n",
       "D(D(u_1*u_2)))⎦"
      ]
     },
     "execution_count": 29,
     "metadata": {},
     "output_type": "execute_result"
    }
   ],
   "source": [
    "e2_d3q27 = get_e2_term(d3q27_momentum_eq)\n",
    "e2_d3q27.applyfunc(lambda e: zeroDiffs(e, 0)) "
   ]
  },
  {
   "cell_type": "code",
   "execution_count": 30,
   "metadata": {},
   "outputs": [
    {
     "data": {
      "text/latex": [
       "$$\\left[\\begin{matrix}{\\partial_{1} {\\partial_{1} {\\partial_{1} (u_{0} u_{1}) }}} + {\\partial_{2} {\\partial_{2} {\\partial_{2} (u_{0} u_{2}) }}}\\\\{\\partial_{1} {\\partial_{1} {\\partial_{1} (u_{1}^{2}) }}} + {\\partial_{1} {\\partial_{2} {\\partial_{2} (u_{1}^{2}) }}} + {\\partial_{1} {\\partial_{2} {\\partial_{2} (u_{2}^{2}) }}} + 3 {\\partial_{1} {\\partial_{1} {\\partial_{2} (u_{1} u_{2}) }}} + {\\partial_{2} {\\partial_{2} {\\partial_{2} (u_{1} u_{2}) }}}\\\\{\\partial_{1} {\\partial_{1} {\\partial_{2} (u_{1}^{2}) }}} + {\\partial_{1} {\\partial_{1} {\\partial_{2} (u_{2}^{2}) }}} + {\\partial_{2} {\\partial_{2} {\\partial_{2} (u_{2}^{2}) }}} + {\\partial_{1} {\\partial_{1} {\\partial_{1} (u_{1} u_{2}) }}} + 3 {\\partial_{1} {\\partial_{2} {\\partial_{2} (u_{1} u_{2}) }}}\\end{matrix}\\right]$$"
      ],
      "text/plain": [
       "⎡                            D(D(D(u_0*u_1))) + D(D(D(u_0*u_2)))              \n",
       "⎢                                                                             \n",
       "⎢D(D(D(u_1**2))) + D(D(D(u_1**2))) + D(D(D(u_2**2))) + 3⋅D(D(D(u_1*u_2))) + D(\n",
       "⎢                                                                             \n",
       "⎣D(D(D(u_1**2))) + D(D(D(u_2**2))) + D(D(D(u_2**2))) + D(D(D(u_1*u_2))) + 3⋅D(\n",
       "\n",
       "              ⎤\n",
       "              ⎥\n",
       "D(D(u_1*u_2)))⎥\n",
       "              ⎥\n",
       "D(D(u_1*u_2)))⎦"
      ]
     },
     "execution_count": 30,
     "metadata": {},
     "output_type": "execute_result"
    }
   ],
   "source": [
    "e2_d3q19i = get_e2_term(d3q19i_momentum_eq)\n",
    "e2_d3q19i.applyfunc(lambda e: zeroDiffs(e, 0)) "
   ]
  },
  {
   "cell_type": "code",
   "execution_count": 31,
   "metadata": {},
   "outputs": [
    {
     "data": {
      "text/latex": [
       "$$\\left[\\begin{matrix}{\\partial_{1} {\\partial_{1} {\\partial_{1} (u_{0} u_{1}) }}} + {\\partial_{2} {\\partial_{2} {\\partial_{2} (u_{0} u_{2}) }}}\\\\- \\frac{1}{2} {\\partial_{1} {\\partial_{2} {\\partial_{2} (u_{0}^{2}) }}} + {\\partial_{1} {\\partial_{1} {\\partial_{1} (u_{1}^{2}) }}} + {\\partial_{1} {\\partial_{2} {\\partial_{2} (u_{1}^{2}) }}} + {\\partial_{1} {\\partial_{2} {\\partial_{2} (u_{2}^{2}) }}} + 3 {\\partial_{1} {\\partial_{1} {\\partial_{2} (u_{1} u_{2}) }}} + {\\partial_{2} {\\partial_{2} {\\partial_{2} (u_{1} u_{2}) }}}\\\\- \\frac{1}{2} {\\partial_{1} {\\partial_{1} {\\partial_{2} (u_{0}^{2}) }}} + {\\partial_{1} {\\partial_{1} {\\partial_{2} (u_{1}^{2}) }}} + {\\partial_{1} {\\partial_{1} {\\partial_{2} (u_{2}^{2}) }}} + {\\partial_{2} {\\partial_{2} {\\partial_{2} (u_{2}^{2}) }}} + {\\partial_{1} {\\partial_{1} {\\partial_{1} (u_{1} u_{2}) }}} + 3 {\\partial_{1} {\\partial_{2} {\\partial_{2} (u_{1} u_{2}) }}}\\end{matrix}\\right]$$"
      ],
      "text/plain": [
       "⎡                                      D(D(D(u_0*u_1))) + D(D(D(u_0*u_2)))    \n",
       "⎢                                                                             \n",
       "⎢  D(D(D(u_0**2)))                                                            \n",
       "⎢- ─────────────── + D(D(D(u_1**2))) + D(D(D(u_1**2))) + D(D(D(u_2**2))) + 3⋅D\n",
       "⎢         2                                                                   \n",
       "⎢                                                                             \n",
       "⎢  D(D(D(u_0**2)))                                                            \n",
       "⎢- ─────────────── + D(D(D(u_1**2))) + D(D(D(u_2**2))) + D(D(D(u_2**2))) + D(D\n",
       "⎣         2                                                                   \n",
       "\n",
       "                                  ⎤\n",
       "                                  ⎥\n",
       "                                  ⎥\n",
       "(D(D(u_1*u_2))) + D(D(D(u_1*u_2)))⎥\n",
       "                                  ⎥\n",
       "                                  ⎥\n",
       "                                  ⎥\n",
       "(D(u_1*u_2))) + 3⋅D(D(D(u_1*u_2)))⎥\n",
       "                                  ⎦"
      ]
     },
     "execution_count": 31,
     "metadata": {},
     "output_type": "execute_result"
    }
   ],
   "source": [
    "e2_d3q19s = get_e2_term(d3q19s_momentum_eq)\n",
    "e2_d3q19s.applyfunc(lambda e: zeroDiffs(e, 0))"
   ]
  },
  {
   "cell_type": "markdown",
   "metadata": {},
   "source": [
    "Only the D3Q19S model has a $u_0$ error contribution in the y and z coordinate of the momentum conservation equation. Because of these error terms we can observe spurious currents normal to the flow direction (in y-z plane) of the channel. "
   ]
  }
 ],
 "metadata": {
  "kernelspec": {
   "display_name": "Python 3",
   "language": "python",
   "name": "python3"
  },
  "language_info": {
   "codemirror_mode": {
    "name": "ipython",
    "version": 3
   },
   "file_extension": ".py",
   "mimetype": "text/x-python",
   "name": "python",
   "nbconvert_exporter": "python",
   "pygments_lexer": "ipython3",
   "version": "3.6.4"
  }
 },
 "nbformat": 4,
 "nbformat_minor": 2
}
