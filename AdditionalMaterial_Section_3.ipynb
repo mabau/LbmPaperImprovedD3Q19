{
 "cells": [
  {
   "cell_type": "code",
   "execution_count": 1,
   "metadata": {},
   "outputs": [],
   "source": [
    "import sympy as sp\n",
    "import numpy as np\n",
    "from moments import *\n",
    "from maxwellian_equilibrium import *\n",
    "import matplotlib.pyplot as plt\n",
    "\n",
    "def plotSympyFunction(f, var, bounds, **kwargs):\n",
    "    xArr = np.linspace(bounds[0], bounds[1], 101)\n",
    "    yArr = sp.lambdify(var, f)(xArr)\n",
    "    plt.plot(xArr, yArr, **kwargs)\n",
    "    plt.xlabel(var.name)\n",
    "\n",
    "x, y, z, ζ = sp.symbols(\"x y z ζ\")\n",
    "frac = sp.Rational\n",
    "\n",
    "%matplotlib inline\n",
    "sp.init_printing()"
   ]
  },
  {
   "cell_type": "markdown",
   "metadata": {},
   "source": [
    "# Construction of improved D3Q19 equilibria\n",
    "\n",
    "This notebook demonstrates the construction technique of discrete lattice Boltzmann equilibria \n",
    "by matching moments of the continuous Maxwellian equilibrium. All steps are implemented in short Python snippets, so that the process can be easily generalized for different stencils or approximation orders if the notebook is run interactively.\n",
    "\n",
    "\n",
    "The connection between a (lattice) Boltzmann equation to its macroscopic counterpart, the Navier Stokes equations (NSE), can be seen by a Chapman-Enskog expansion. \n",
    "The LB equilibrium does not enter the Chapman Enskog analysis directly, only via its moments. \n",
    "The idea of our LB equilibrium construction technique is, that if we only approximate the continuous Maxwellian equilibrium, and especially its moments good enough, we are modeling the microscopic system behavior sufficiently accurate, such that in the macroscopic limit the NSE are obtained.\n",
    "\n",
    "\n",
    "## 1) Moments of continuous Maxwellian equilibrium\n",
    "\n",
    "Lets first have a look at the continuous Maxwellian equilibrium and how we can compute moments of it using the symbolic algebra toolkit `sympy`. \n",
    "\n",
    "We can obtain the Maxwellian equilibrium using a function that is part of the `maxwellian_equilibrium.py` file. It is parametrized with the local density $\\rho$, macroscopic velocity $u$ and the speed of sound $c_s$ that is a measure of the temperature."
   ]
  },
  {
   "cell_type": "code",
   "execution_count": 2,
   "metadata": {},
   "outputs": [
    {
     "data": {
      "image/png": "[encoded data removed]",
      "text/latex": [
       "$$\\frac{\\sqrt{2} \\rho}{4 \\pi^{\\frac{3}{2}} \\left(c_{s}^{2}\\right)^{\\frac{3}{2}}} e^{\\frac{1}{2 c_{s}^{2}} \\left(- \\left(- u_{0} + ζ_{0}\\right)^{2} - \\left(- u_{1} + ζ_{1}\\right)^{2} - \\left(- u_{2} + ζ_{2}\\right)^{2}\\right)}$$"
      ],
      "text/plain": [
       "                  2             2             2\n",
       "      - (-u₀ + ζ₀)  - (-u₁ + ζ₁)  - (-u₂ + ζ₂) \n",
       "      ─────────────────────────────────────────\n",
       "                            2                  \n",
       "                        2⋅cₛ                   \n",
       "√2⋅ρ⋅ℯ                                         \n",
       "───────────────────────────────────────────────\n",
       "                            3/2                \n",
       "                   3/2 ⎛  2⎞                   \n",
       "                4⋅π   ⋅⎝cₛ ⎠                   "
      ]
     },
     "execution_count": 2,
     "metadata": {},
     "output_type": "execute_result"
    }
   ],
   "source": [
    "continuousMaxwellianEquilibrium(dim=3)"
   ]
  },
  {
   "cell_type": "markdown",
   "metadata": {},
   "source": [
    "Lets visualize the 1D version of this distribution:"
   ]
  },
  {
   "cell_type": "code",
   "execution_count": 3,
   "metadata": {},
   "outputs": [
    {
     "data": {
      "image/png": "[encoded data removed]",
      "text/plain": [
       "<matplotlib.figure.Figure at 0x7fedd3b21f28>"
      ]
     },
     "metadata": {},
     "output_type": "display_data"
    }
   ],
   "source": [
    "plotSympyFunction(continuousMaxwellianEquilibrium(dim=1, rho=1, u=(1,), ζ=(ζ,), c_s_sq=1),\n",
    "                  ζ, bounds=(-5, 5),\n",
    "                  label='u=1, $c_s$=1')\n",
    "plotSympyFunction(continuousMaxwellianEquilibrium(dim=1, rho=1, u=(0,), ζ=(ζ,), c_s_sq=4),\n",
    "                  ζ, bounds=(-5, 5),\n",
    "                  label='u=0, $c_s$=2')\n",
    "plt.legend();"
   ]
  },
  {
   "cell_type": "markdown",
   "metadata": {},
   "source": [
    "The continuous equilibrium is a Gaussian bell curve, with mean $u$ and variance related to the speed of sound $c_s$.\n",
    "\n",
    "The moments of the distribution are integrals over the microscopic velocity $\\xi$ over the complete velocity space. `sympy` can evaluate these integrals for us, as can be seen in the next cell with a 1D example."
   ]
  },
  {
   "cell_type": "code",
   "execution_count": 4,
   "metadata": {},
   "outputs": [
    {
     "data": {
      "image/png": "[encoded data removed]",
      "text/latex": [
       "$$\\int_{-\\infty}^{\\infty} \\frac{\\sqrt{2} \\rho}{2 \\sqrt{\\pi} c_{s}} e^{- \\frac{\\left(- u_{0} + ζ\\right)^{2}}{2 c_{s}^{2}}}\\, dζ$$"
      ],
      "text/plain": [
       "∞                       \n",
       "⌠                       \n",
       "⎮                  2    \n",
       "⎮        -(-u₀ + ζ)     \n",
       "⎮        ────────────   \n",
       "⎮               2       \n",
       "⎮           2⋅cₛ        \n",
       "⎮  √2⋅ρ⋅ℯ               \n",
       "⎮  ────────────────── dζ\n",
       "⎮       2⋅√π⋅cₛ         \n",
       "⌡                       \n",
       "-∞                      "
      ]
     },
     "execution_count": 4,
     "metadata": {},
     "output_type": "execute_result"
    }
   ],
   "source": [
    "# sympy needs some additional information about c_s to do the integral i.e. that its real and positive\n",
    "c_s_sq = sp.Symbol(\"c_s\", real=True, positive=True) ** 2   \n",
    "\n",
    "integral = sp.Integral(continuousMaxwellianEquilibrium(dim=1, ζ=(ζ,), c_s_sq=c_s_sq), \n",
    "                       (ζ, -sp.oo, sp.oo))\n",
    "integral"
   ]
  },
  {
   "cell_type": "code",
   "execution_count": 5,
   "metadata": {},
   "outputs": [
    {
     "data": {
      "image/png": "[encoded data removed]",
      "text/latex": [
       "$$\\rho$$"
      ],
      "text/plain": [
       "ρ"
      ]
     },
     "execution_count": 5,
     "metadata": {},
     "output_type": "execute_result"
    }
   ],
   "source": [
    "sp.simplify(integral.doit())"
   ]
  },
  {
   "cell_type": "markdown",
   "metadata": {},
   "source": [
    "In 1D, continuous moments are defined as: \n",
    "\n",
    "$$ \\int \\xi^n f(\\xi) \\, dx$$\n",
    "\n",
    "where $n$ is the order of the moment. Since the distribution function is not normalized to 1 but to $\\rho$ the first moment is the expected value times $\\rho$:"
   ]
  },
  {
   "cell_type": "code",
   "execution_count": 6,
   "metadata": {},
   "outputs": [
    {
     "data": {
      "image/png": "[encoded data removed]",
      "text/latex": [
       "$$\\rho u_{0}$$"
      ],
      "text/plain": [
       "ρ⋅u₀"
      ]
     },
     "execution_count": 6,
     "metadata": {},
     "output_type": "execute_result"
    }
   ],
   "source": [
    "sp.integrate(ζ * continuousMaxwellianEquilibrium(dim=1, ζ=(ζ,), c_s_sq=c_s_sq), \n",
    "             (ζ, -sp.oo, sp.oo)).simplify()"
   ]
  },
  {
   "cell_type": "markdown",
   "metadata": {},
   "source": [
    "In the following we will use the function `getMomentsOfContinuousMaxwellianEquilibrium` that can do these integrals in a fast and reliable way. We specify moments via polynomials in $x,y,z$ (standing shorthand for $ξ_x, ξ_y, ξ_z$), where $1$ is the zeroth moment, $x$ the first moment (in 1D), $x^2$ the second moment, etc."
   ]
  },
  {
   "cell_type": "code",
   "execution_count": 7,
   "metadata": {},
   "outputs": [
    {
     "data": {
      "image/png": "[encoded data removed]",
      "text/latex": [
       "$$\\left [ \\rho, \\quad \\rho u_{0}, \\quad \\rho \\left(c_{s}^{2} + u_{0}^{2}\\right)\\right ]$$"
      ],
      "text/plain": [
       "⎡           ⎛  2     2⎞⎤\n",
       "⎣ρ, ρ⋅u₀, ρ⋅⎝cₛ  + u₀ ⎠⎦"
      ]
     },
     "execution_count": 7,
     "metadata": {},
     "output_type": "execute_result"
    }
   ],
   "source": [
    "# again, compute zeroth and first moment of 1D Maxwellian\n",
    "getMomentsOfContinuousMaxwellianEquilibrium([1, x, x**2], dim=1)"
   ]
  },
  {
   "cell_type": "markdown",
   "metadata": {},
   "source": [
    "These concepts generalize naturally to multiple dimensions. In the next cell, for example, we compute moments of the 3D Maxwellian. We can not only specify monomials, but arbitrary polynomials $P(v_x,v_y,v_z)$, so the function computes\n",
    "\n",
    "$$ \\int P(ξ_x, ξ_y, ξ_z) \\; f(ξ_x, ξ_y, ξ_z) \\, dξ $$"
   ]
  },
  {
   "cell_type": "code",
   "execution_count": 8,
   "metadata": {},
   "outputs": [
    {
     "data": {
      "image/png": "[encoded data removed]",
      "text/latex": [
       "$$\\left [ \\rho, \\quad \\rho u_{0}, \\quad \\rho u_{1}, \\quad \\rho u_{2}, \\quad \\rho \\left(c_{s}^{2} + u_{0}^{2}\\right) + \\rho \\left(c_{s}^{2} + u_{1}^{2}\\right)\\right ]$$"
      ],
      "text/plain": [
       "⎡                       ⎛  2     2⎞     ⎛  2     2⎞⎤\n",
       "⎣ρ, ρ⋅u₀, ρ⋅u₁, ρ⋅u₂, ρ⋅⎝cₛ  + u₀ ⎠ + ρ⋅⎝cₛ  + u₁ ⎠⎦"
      ]
     },
     "execution_count": 8,
     "metadata": {},
     "output_type": "execute_result"
    }
   ],
   "source": [
    "getMomentsOfContinuousMaxwellianEquilibrium([1, x, y, z, x**2 + y**2], dim=3)"
   ]
  },
  {
   "cell_type": "markdown",
   "metadata": {},
   "source": [
    "Moments of the distribution function have direct physical meaning, the zeroth moment being the local density, the first moments the macroscopic velocity. Higher order moments can be interpreted as fluxes where for example the moment $(\\xi_x^2 + \\xi_y^2 + \\xi_z^2) \\xi_x$ is related to the transport of energy along the $x$ axis.\n",
    "\n",
    "\n",
    "**Truncating higher orders in $u$**\n",
    "\n",
    "To approximate the NSE, we only have to get the moments right up to a certain order in $u$. Therefor the `getMomentsOfContinuousMaxwellianEquilibrium` can truncate the result at a given order.\n",
    "\n",
    "The following cell shows this, by first computing the exact moment, then a truncated version."
   ]
  },
  {
   "cell_type": "code",
   "execution_count": 9,
   "metadata": {},
   "outputs": [
    {
     "data": {
      "image/png": "[encoded data removed]",
      "text/latex": [
       "$$\\left ( 3 c_{s}^{4} \\rho + 6 c_{s}^{2} \\rho u_{0}^{2} + \\rho u_{0}^{4}, \\quad 3 c_{s}^{4} \\rho + 6 c_{s}^{2} \\rho u_{0}^{2}\\right )$$"
      ],
      "text/plain": [
       "⎛    4         2     2       4      4         2     2⎞\n",
       "⎝3⋅cₛ ⋅ρ + 6⋅cₛ ⋅ρ⋅u₀  + ρ⋅u₀ , 3⋅cₛ ⋅ρ + 6⋅cₛ ⋅ρ⋅u₀ ⎠"
      ]
     },
     "execution_count": 9,
     "metadata": {},
     "output_type": "execute_result"
    }
   ],
   "source": [
    "exact = getMomentsOfContinuousMaxwellianEquilibrium([x**4], dim=3)[0]\n",
    "truncated = getMomentsOfContinuousMaxwellianEquilibrium([x**4], dim=3, order=3)[0]\n",
    "exact.expand(), truncated"
   ]
  },
  {
   "cell_type": "markdown",
   "metadata": {},
   "source": [
    "## 2) Moments of discrete distribution functions\n",
    "\n",
    "Discrete lattice Boltzmann equilibria can be constructed by projecting the Maxwellian equilibrium onto a Hermite subspace. \n",
    "\n",
    "The projection up to second or third order reads\n",
    "\n",
    "$$\n",
    "f^{(eq)}_q =  w_i \\rho + w_i \\rho_0  \n",
    "                     \\left[  3 \n",
    "                     c_{qα} u_α\n",
    "                              + \\underbrace{  \\frac{9}{2} u_α u_β (c_{qα} c_{qβ} - \\frac{1}{3} \\delta_{αβ})  }_{\\mbox{2nd order}}\n",
    "                              + \\underbrace{  \\frac{9}{2} \\left( u_α u_β u_γ ( c_{qα} c_{qβ} c_{qγ} - \\frac{1}{3} c_{qα} \\delta_{βγ} )  \\right) }_{\\mbox{3rd order}}\n",
    "                     \\right]\n",
    "$$\n",
    "\n",
    "where $\\rho_0=\\rho$ yields the standard compressible equilibrium and $\\rho_0=1$ an equilibrium that approximates the incompressible NSE. This formula is implemented in the function `discreteMaxwellianEquilibrium`. To get discrete equilibria, additionally a discrete velocity set (stencil) is required. We define the commonly used single speed stencils D2Q9, D3Q19 and D3Q27 in the next cell."
   ]
  },
  {
   "cell_type": "code",
   "execution_count": 10,
   "metadata": {},
   "outputs": [],
   "source": [
    "D2Q9 =((0, 0),\n",
    "       (0, 1), (0, -1), (-1, 0), (1, 0),\n",
    "       (-1, 1), (1, 1), (-1, -1), (1, -1))\n",
    "D3Q19 = ((0, 0, 0),\n",
    "        (0, 1, 0), (0, -1, 0), (-1, 0, 0), (1, 0, 0), (0, 0, 1), (0, 0, -1),\n",
    "        (-1, 1, 0), (1, 1, 0), (-1, -1, 0), (1, -1, 0),\n",
    "        (0, 1, 1), (0, -1, 1), (-1, 0, 1), (1, 0, 1),\n",
    "        (0, 1, -1), (0, -1, -1), (-1, 0, -1), (1, 0, -1))\n",
    "D3Q27 = ((0, 0, 0),\n",
    "         (0, 1, 0), (0, -1, 0), (-1, 0, 0), (1, 0, 0), (0, 0, 1), (0, 0, -1),\n",
    "         (-1, 1, 0), (1, 1, 0), (-1, -1, 0), (1, -1, 0),\n",
    "         (0, 1, 1), (0, -1, 1), (-1, 0, 1), (1, 0, 1),\n",
    "         (0, 1, -1), (0, -1, -1), (-1, 0, -1), (1, 0, -1),\n",
    "         (1, 1, 1), (-1, 1, 1), (1, -1, 1), (-1, -1, 1), (1, 1, -1), (-1, 1, -1), (1, -1, -1), (-1, -1, -1))"
   ]
  },
  {
   "cell_type": "markdown",
   "metadata": {},
   "source": [
    "The discrete equilibrium is then a vector of equations, one for each direction. The next cell demonstrates this for a compressible D2Q9 equilibrium of second order. The left column shows the stencil direction, the right column the equilibrium term."
   ]
  },
  {
   "cell_type": "code",
   "execution_count": 11,
   "metadata": {},
   "outputs": [
    {
     "data": {
      "image/png": "[encoded data removed]",
      "text/latex": [
       "$$\\left[\\begin{matrix}\\left ( 0, \\quad 0\\right ) & \\frac{4 \\rho}{9} \\left(- \\frac{3 u_{0}^{2}}{2} - \\frac{3 u_{1}^{2}}{2} + 1\\right)\\\\\\left ( 0, \\quad 1\\right ) & \\frac{\\rho}{9} \\left(- \\frac{3 u_{0}^{2}}{2} + 3 u_{1}^{2} + 3 u_{1} + 1\\right)\\\\\\left ( 0, \\quad -1\\right ) & \\frac{\\rho}{9} \\left(- \\frac{3 u_{0}^{2}}{2} + 3 u_{1}^{2} - 3 u_{1} + 1\\right)\\\\\\left ( -1, \\quad 0\\right ) & \\frac{\\rho}{9} \\left(3 u_{0}^{2} - 3 u_{0} - \\frac{3 u_{1}^{2}}{2} + 1\\right)\\\\\\left ( 1, \\quad 0\\right ) & \\frac{\\rho}{9} \\left(3 u_{0}^{2} + 3 u_{0} - \\frac{3 u_{1}^{2}}{2} + 1\\right)\\\\\\left ( -1, \\quad 1\\right ) & \\frac{\\rho}{36} \\left(- \\frac{3 u_{0}^{2}}{2} - 3 u_{0} - \\frac{3 u_{1}^{2}}{2} + 3 u_{1} + \\frac{9}{2} \\left(- u_{0} + u_{1}\\right)^{2} + 1\\right)\\\\\\left ( 1, \\quad 1\\right ) & \\frac{\\rho}{36} \\left(- \\frac{3 u_{0}^{2}}{2} + 3 u_{0} - \\frac{3 u_{1}^{2}}{2} + 3 u_{1} + \\frac{9}{2} \\left(u_{0} + u_{1}\\right)^{2} + 1\\right)\\\\\\left ( -1, \\quad -1\\right ) & \\frac{\\rho}{36} \\left(- \\frac{3 u_{0}^{2}}{2} - 3 u_{0} - \\frac{3 u_{1}^{2}}{2} - 3 u_{1} + \\frac{9}{2} \\left(- u_{0} - u_{1}\\right)^{2} + 1\\right)\\\\\\left ( 1, \\quad -1\\right ) & \\frac{\\rho}{36} \\left(- \\frac{3 u_{0}^{2}}{2} + 3 u_{0} - \\frac{3 u_{1}^{2}}{2} - 3 u_{1} + \\frac{9}{2} \\left(u_{0} - u_{1}\\right)^{2} + 1\\right)\\end{matrix}\\right]$$"
      ],
      "text/plain": [
       "⎡                            ⎛      2       2    ⎞              ⎤\n",
       "⎢                            ⎜  3⋅u₀    3⋅u₁     ⎟              ⎥\n",
       "⎢                        4⋅ρ⋅⎜- ───── - ───── + 1⎟              ⎥\n",
       "⎢                            ⎝    2       2      ⎠              ⎥\n",
       "⎢ (0, 0)                 ─────────────────────────              ⎥\n",
       "⎢                                    9                          ⎥\n",
       "⎢                                                               ⎥\n",
       "⎢                       ⎛      2                   ⎞            ⎥\n",
       "⎢                       ⎜  3⋅u₀        2           ⎟            ⎥\n",
       "⎢                     ρ⋅⎜- ───── + 3⋅u₁  + 3⋅u₁ + 1⎟            ⎥\n",
       "⎢                       ⎝    2                     ⎠            ⎥\n",
       "⎢ (0, 1)              ──────────────────────────────            ⎥\n",
       "⎢                                   9                           ⎥\n",
       "⎢                                                               ⎥\n",
       "⎢                       ⎛      2                   ⎞            ⎥\n",
       "⎢                       ⎜  3⋅u₀        2           ⎟            ⎥\n",
       "⎢                     ρ⋅⎜- ───── + 3⋅u₁  - 3⋅u₁ + 1⎟            ⎥\n",
       "⎢                       ⎝    2                     ⎠            ⎥\n",
       "⎢(0, -1)              ──────────────────────────────            ⎥\n",
       "⎢                                   9                           ⎥\n",
       "⎢                                                               ⎥\n",
       "⎢                        ⎛                   2    ⎞             ⎥\n",
       "⎢                        ⎜    2          3⋅u₁     ⎟             ⎥\n",
       "⎢                      ρ⋅⎜3⋅u₀  - 3⋅u₀ - ───── + 1⎟             ⎥\n",
       "⎢                        ⎝                 2      ⎠             ⎥\n",
       "⎢(-1, 0)               ────────────────────────────             ⎥\n",
       "⎢                                   9                           ⎥\n",
       "⎢                                                               ⎥\n",
       "⎢                        ⎛                   2    ⎞             ⎥\n",
       "⎢                        ⎜    2          3⋅u₁     ⎟             ⎥\n",
       "⎢                      ρ⋅⎜3⋅u₀  + 3⋅u₀ - ───── + 1⎟             ⎥\n",
       "⎢                        ⎝                 2      ⎠             ⎥\n",
       "⎢ (1, 0)               ────────────────────────────             ⎥\n",
       "⎢                                   9                           ⎥\n",
       "⎢                                                               ⎥\n",
       "⎢            ⎛      2              2                      2    ⎞⎥\n",
       "⎢            ⎜  3⋅u₀           3⋅u₁           9⋅(-u₀ + u₁)     ⎟⎥\n",
       "⎢          ρ⋅⎜- ───── - 3⋅u₀ - ───── + 3⋅u₁ + ───────────── + 1⎟⎥\n",
       "⎢            ⎝    2              2                  2          ⎠⎥\n",
       "⎢(-1, 1)   ─────────────────────────────────────────────────────⎥\n",
       "⎢                                    36                         ⎥\n",
       "⎢                                                               ⎥\n",
       "⎢            ⎛      2              2                     2    ⎞ ⎥\n",
       "⎢            ⎜  3⋅u₀           3⋅u₁           9⋅(u₀ + u₁)     ⎟ ⎥\n",
       "⎢          ρ⋅⎜- ───── + 3⋅u₀ - ───── + 3⋅u₁ + ──────────── + 1⎟ ⎥\n",
       "⎢            ⎝    2              2                 2          ⎠ ⎥\n",
       "⎢ (1, 1)   ──────────────────────────────────────────────────── ⎥\n",
       "⎢                                   36                          ⎥\n",
       "⎢                                                               ⎥\n",
       "⎢            ⎛      2              2                      2    ⎞⎥\n",
       "⎢            ⎜  3⋅u₀           3⋅u₁           9⋅(-u₀ - u₁)     ⎟⎥\n",
       "⎢          ρ⋅⎜- ───── - 3⋅u₀ - ───── - 3⋅u₁ + ───────────── + 1⎟⎥\n",
       "⎢            ⎝    2              2                  2          ⎠⎥\n",
       "⎢(-1, -1)  ─────────────────────────────────────────────────────⎥\n",
       "⎢                                    36                         ⎥\n",
       "⎢                                                               ⎥\n",
       "⎢            ⎛      2              2                     2    ⎞ ⎥\n",
       "⎢            ⎜  3⋅u₀           3⋅u₁           9⋅(u₀ - u₁)     ⎟ ⎥\n",
       "⎢          ρ⋅⎜- ───── + 3⋅u₀ - ───── - 3⋅u₁ + ──────────── + 1⎟ ⎥\n",
       "⎢            ⎝    2              2                 2          ⎠ ⎥\n",
       "⎢(1, -1)   ──────────────────────────────────────────────────── ⎥\n",
       "⎣                                   36                          ⎦"
      ]
     },
     "execution_count": 11,
     "metadata": {},
     "output_type": "execute_result"
    }
   ],
   "source": [
    "eq = discreteMaxwellianEquilibrium(stencil=D2Q9, compressible=True, order=2)\n",
    "sp.Matrix([D2Q9, eq]).T"
   ]
  },
  {
   "cell_type": "markdown",
   "metadata": {},
   "source": [
    "**Computing discrete moments**\n",
    "\n",
    "Moments of a discrete particle distribution function are computed as weighted sums. This is analogous to the continuous case where integrals are used. For example, to compute the moment $\\Pi_{001}$ i.e. $ξ_x^2  ξ_y$ on a continuous distribution function we would evaluate\n",
    "\n",
    "$$ \\int ξ_x^2  ξ_y \\; f \\; dξ $$\n",
    "\n",
    "whereas in the discrete case the expression for a stencil $S$ is\n",
    "\n",
    "$$ \\sum_{c_q \\in S} c_{qx}^2 c_{qy} \\; f_q $$\n",
    "\n",
    "Implemented in Python this is:"
   ]
  },
  {
   "cell_type": "code",
   "execution_count": 12,
   "metadata": {},
   "outputs": [
    {
     "data": {
      "image/png": "[encoded data removed]",
      "text/latex": [
       "$$\\frac{\\rho u_{1}}{3}$$"
      ],
      "text/plain": [
       "ρ⋅u₁\n",
       "────\n",
       " 3  "
      ]
     },
     "execution_count": 12,
     "metadata": {},
     "output_type": "execute_result"
    }
   ],
   "source": [
    "feq = discreteMaxwellianEquilibrium(stencil=D2Q9, compressible=True, order=2)\n",
    "\n",
    "sum(c_q[0]**2 * c_q[1] * f_q  \n",
    "    for c_q, f_q in zip(D2Q9, feq)).simplify()"
   ]
  },
  {
   "cell_type": "markdown",
   "metadata": {},
   "source": [
    "For the discrete case there is also a faster, more convenient function available:"
   ]
  },
  {
   "cell_type": "code",
   "execution_count": 13,
   "metadata": {},
   "outputs": [
    {
     "data": {
      "image/png": "[encoded data removed]",
      "text/latex": [
       "$$\\left ( \\frac{\\rho u_{1}}{3}\\right )$$"
      ],
      "text/plain": [
       "⎛ρ⋅u₁ ⎞\n",
       "⎜────,⎟\n",
       "⎝ 3   ⎠"
      ]
     },
     "execution_count": 13,
     "metadata": {},
     "output_type": "execute_result"
    }
   ],
   "source": [
    "getMomentsOfDiscreteMaxwellianEquilibrium(D2Q9, [x**2 * y], compressible=True, order=2)"
   ]
  },
  {
   "cell_type": "markdown",
   "metadata": {},
   "source": [
    "**Moment aliasing**\n",
    "\n",
    "For single speed models, aliasing effects occur when computing discrete moments. \n",
    "As an example consider the moment $ξ_0^3 = ξ_0 ξ_0^2$. \n",
    "\n",
    "Since $ξ_x \\in \\{-1, 0, 1\\}$ for single speed models, the factor $ξ_0^2=1$ for all possible values. That means we get the same result for moments with odd exponent $ξ_0, ξ_0^3, ξ_0^5, ...$.\n",
    "\n",
    "Similarly the moments $ξ_0^2, ξ_0^4, ξ_0^6, ...$ have the same value."
   ]
  },
  {
   "cell_type": "code",
   "execution_count": 14,
   "metadata": {},
   "outputs": [
    {
     "data": {
      "image/png": "[encoded data removed]",
      "text/latex": [
       "$$\\left ( \\rho u_{0}, \\quad \\rho u_{0}, \\quad \\rho u_{0}, \\quad \\rho u_{0}\\right )$$"
      ],
      "text/plain": [
       "(ρ⋅u₀, ρ⋅u₀, ρ⋅u₀, ρ⋅u₀)"
      ]
     },
     "execution_count": 14,
     "metadata": {},
     "output_type": "execute_result"
    }
   ],
   "source": [
    "getMomentsOfDiscreteMaxwellianEquilibrium(D2Q9, [x**1, x**3, x**5, x**7], order=2)"
   ]
  },
  {
   "cell_type": "markdown",
   "metadata": {},
   "source": [
    "Consequently there are maximally $d^3$ moments in $d$ dimensions that have different values. These are the moments $\\xi_{0}^{e_0} \\cdot \\xi_{1}^{e_1} \\cdots \\xi_{d}^{e_d}$ with exponents $e_i \\in \\{0, 1, 2\\}$.\n",
    "\n",
    "In two dimensions these are the  moments"
   ]
  },
  {
   "cell_type": "code",
   "execution_count": 15,
   "metadata": {},
   "outputs": [
    {
     "data": {
      "image/png": "[encoded data removed]",
      "text/latex": [
       "$$\\left ( 1, \\quad y, \\quad y^{2}, \\quad x, \\quad x y, \\quad x y^{2}, \\quad x^{2}, \\quad x^{2} y, \\quad x^{2} y^{2}\\right )$$"
      ],
      "text/plain": [
       "⎛       2             2   2   2     2  2⎞\n",
       "⎝1, y, y , x, x⋅y, x⋅y , x , x ⋅y, x ⋅y ⎠"
      ]
     },
     "execution_count": 15,
     "metadata": {},
     "output_type": "execute_result"
    }
   ],
   "source": [
    "allIndependentMomentsD2Q9 = exponentsToPolynomialRepresentations(momentsUpToComponentOrder(2, dim=2))\n",
    "allIndependentMomentsD2Q9"
   ]
  },
  {
   "cell_type": "markdown",
   "metadata": {},
   "source": [
    "All higher order monomial moments share their value with one of these lower order moments. The are \"aliased\" and not independent."
   ]
  },
  {
   "cell_type": "markdown",
   "metadata": {},
   "source": [
    "## 3) Comparing moments of continuous and discrete equilibrium"
   ]
  },
  {
   "cell_type": "markdown",
   "metadata": {},
   "source": [
    "Lets first consider the case of stencils with \"full\" neighborhood, namely D2Q9 and D3Q27.\n",
    "A discrete distribution function on these stencils has 9 or 27 values. There are also 9 or 27\n",
    "independent moments that can take on different values. \n",
    "\n",
    "Now lets compare the moments of the discrete and the continuous equilibrium.\n",
    "Since the discrete equilibrium was derived as a projection of the continuous Maxwellian equilibrium we expect that at least all moments up to order 2 are equal. "
   ]
  },
  {
   "cell_type": "code",
   "execution_count": 16,
   "metadata": {},
   "outputs": [
    {
     "data": {
      "image/png": "[encoded data removed]",
      "text/latex": [
       "$$\\left[\\begin{matrix}1 & \\rho & \\rho\\\\y & \\rho u_{1} & \\rho u_{1}\\\\y^{2} & \\rho u_{1}^{2} + \\frac{\\rho}{3} & \\rho u_{1}^{2} + \\frac{\\rho}{3}\\\\x & \\rho u_{0} & \\rho u_{0}\\\\x y & \\rho u_{0} u_{1} & \\rho u_{0} u_{1}\\\\x y^{2} & \\frac{\\rho u_{0}}{3} & \\frac{\\rho u_{0}}{3}\\\\x^{2} & \\rho u_{0}^{2} + \\frac{\\rho}{3} & \\rho u_{0}^{2} + \\frac{\\rho}{3}\\\\x^{2} y & \\frac{\\rho u_{1}}{3} & \\frac{\\rho u_{1}}{3}\\\\x^{2} y^{2} & \\frac{\\rho u_{0}^{2}}{3} + \\frac{\\rho u_{1}^{2}}{3} + \\frac{\\rho}{9} & \\frac{\\rho u_{0}^{2}}{3} + \\frac{\\rho u_{1}^{2}}{3} + \\frac{\\rho}{9}\\end{matrix}\\right]$$"
      ],
      "text/plain": [
       "⎡  1            ρ                  ρ        ⎤\n",
       "⎢                                           ⎥\n",
       "⎢  y          ρ⋅u₁               ρ⋅u₁       ⎥\n",
       "⎢                                           ⎥\n",
       "⎢  2            2   ρ              2   ρ    ⎥\n",
       "⎢ y         ρ⋅u₁  + ─          ρ⋅u₁  + ─    ⎥\n",
       "⎢                   3                  3    ⎥\n",
       "⎢                                           ⎥\n",
       "⎢  x          ρ⋅u₀               ρ⋅u₀       ⎥\n",
       "⎢                                           ⎥\n",
       "⎢ x⋅y        ρ⋅u₀⋅u₁            ρ⋅u₀⋅u₁     ⎥\n",
       "⎢                                           ⎥\n",
       "⎢   2         ρ⋅u₀               ρ⋅u₀       ⎥\n",
       "⎢x⋅y          ────               ────       ⎥\n",
       "⎢              3                  3         ⎥\n",
       "⎢                                           ⎥\n",
       "⎢  2            2   ρ              2   ρ    ⎥\n",
       "⎢ x         ρ⋅u₀  + ─          ρ⋅u₀  + ─    ⎥\n",
       "⎢                   3                  3    ⎥\n",
       "⎢                                           ⎥\n",
       "⎢ 2           ρ⋅u₁               ρ⋅u₁       ⎥\n",
       "⎢x ⋅y         ────               ────       ⎥\n",
       "⎢              3                  3         ⎥\n",
       "⎢                                           ⎥\n",
       "⎢           2       2          2       2    ⎥\n",
       "⎢ 2  2  ρ⋅u₀    ρ⋅u₁    ρ  ρ⋅u₀    ρ⋅u₁    ρ⎥\n",
       "⎢x ⋅y   ───── + ───── + ─  ───── + ───── + ─⎥\n",
       "⎣         3       3     9    3       3     9⎦"
      ]
     },
     "execution_count": 16,
     "metadata": {},
     "output_type": "execute_result"
    }
   ],
   "source": [
    "indepMoments2D = exponentsToPolynomialRepresentations(momentsUpToComponentOrder(2, dim=2))\n",
    "\n",
    "discreteEqMomentsD2Q9 = getMomentsOfDiscreteMaxwellianEquilibrium(D2Q9, indepMoments2D, compressible=True, order=2)\n",
    "contEqMoments2D = getMomentsOfContinuousMaxwellianEquilibrium(indepMoments2D, dim=2, order=2, c_s_sq=frac(1,3))\n",
    "\n",
    "sp.Matrix([indepMoments2D, discreteEqMomentsD2Q9, contEqMoments2D]).T"
   ]
  },
  {
   "cell_type": "markdown",
   "metadata": {},
   "source": [
    "The first column shows the moment, the second column the discrete equilibrium moment and the last column the continuous equilibrium moment. Not only the moments up to second order agree (as was guaranteed by the Hermite construction), but also higher order moments like the forth order moment $x^2 y^2$. \n",
    "\n",
    "A Chapman Enskog analysis shows that the NSE are approximated regardless of forth (or higher) order equilibrium moment values. Only the error terms are affected. \n",
    "\n",
    "The same check is done for three dimensions with the D3Q27 stencil in the next cell. "
   ]
  },
  {
   "cell_type": "code",
   "execution_count": 17,
   "metadata": {},
   "outputs": [
    {
     "data": {
      "image/png": "[encoded data removed]",
      "text/latex": [
       "$$\\left[\\begin{matrix}1 & \\rho & \\rho\\\\z & \\rho u_{2} & \\rho u_{2}\\\\z^{2} & \\rho u_{2}^{2} + \\frac{\\rho}{3} & \\rho u_{2}^{2} + \\frac{\\rho}{3}\\\\y & \\rho u_{1} & \\rho u_{1}\\\\y z & \\rho u_{1} u_{2} & \\rho u_{1} u_{2}\\\\y z^{2} & \\frac{\\rho u_{1}}{3} & \\frac{\\rho u_{1}}{3}\\\\y^{2} & \\rho u_{1}^{2} + \\frac{\\rho}{3} & \\rho u_{1}^{2} + \\frac{\\rho}{3}\\\\y^{2} z & \\frac{\\rho u_{2}}{3} & \\frac{\\rho u_{2}}{3}\\\\y^{2} z^{2} & \\frac{\\rho u_{1}^{2}}{3} + \\frac{\\rho u_{2}^{2}}{3} + \\frac{\\rho}{9} & \\frac{\\rho u_{1}^{2}}{3} + \\frac{\\rho u_{2}^{2}}{3} + \\frac{\\rho}{9}\\\\x & \\rho u_{0} & \\rho u_{0}\\\\x z & \\rho u_{0} u_{2} & \\rho u_{0} u_{2}\\\\x z^{2} & \\frac{\\rho u_{0}}{3} & \\frac{\\rho u_{0}}{3}\\\\x y & \\rho u_{0} u_{1} & \\rho u_{0} u_{1}\\\\x y z & 0 & 0\\\\x y z^{2} & \\frac{\\rho u_{0}}{3} u_{1} & \\frac{\\rho u_{0}}{3} u_{1}\\\\x y^{2} & \\frac{\\rho u_{0}}{3} & \\frac{\\rho u_{0}}{3}\\\\x y^{2} z & \\frac{\\rho u_{0}}{3} u_{2} & \\frac{\\rho u_{0}}{3} u_{2}\\\\x y^{2} z^{2} & \\frac{\\rho u_{0}}{9} & \\frac{\\rho u_{0}}{9}\\\\x^{2} & \\rho u_{0}^{2} + \\frac{\\rho}{3} & \\rho u_{0}^{2} + \\frac{\\rho}{3}\\\\x^{2} z & \\frac{\\rho u_{2}}{3} & \\frac{\\rho u_{2}}{3}\\\\x^{2} z^{2} & \\frac{\\rho u_{0}^{2}}{3} + \\frac{\\rho u_{2}^{2}}{3} + \\frac{\\rho}{9} & \\frac{\\rho u_{0}^{2}}{3} + \\frac{\\rho u_{2}^{2}}{3} + \\frac{\\rho}{9}\\\\x^{2} y & \\frac{\\rho u_{1}}{3} & \\frac{\\rho u_{1}}{3}\\\\x^{2} y z & \\frac{\\rho u_{1}}{3} u_{2} & \\frac{\\rho u_{1}}{3} u_{2}\\\\x^{2} y z^{2} & \\frac{\\rho u_{1}}{9} & \\frac{\\rho u_{1}}{9}\\\\x^{2} y^{2} & \\frac{\\rho u_{0}^{2}}{3} + \\frac{\\rho u_{1}^{2}}{3} + \\frac{\\rho}{9} & \\frac{\\rho u_{0}^{2}}{3} + \\frac{\\rho u_{1}^{2}}{3} + \\frac{\\rho}{9}\\\\x^{2} y^{2} z & \\frac{\\rho u_{2}}{9} & \\frac{\\rho u_{2}}{9}\\\\x^{2} y^{2} z^{2} & \\frac{\\rho u_{0}^{2}}{9} + \\frac{\\rho u_{1}^{2}}{9} + \\frac{\\rho u_{2}^{2}}{9} + \\frac{\\rho}{27} & \\frac{\\rho u_{0}^{2}}{9} + \\frac{\\rho u_{1}^{2}}{9} + \\frac{\\rho u_{2}^{2}}{9} + \\frac{\\rho}{27}\\end{matrix}\\right]$$"
      ],
      "text/plain": [
       "⎡   1                  ρ                           ρ             ⎤\n",
       "⎢                                                                ⎥\n",
       "⎢   z                 ρ⋅u₂                        ρ⋅u₂           ⎥\n",
       "⎢                                                                ⎥\n",
       "⎢    2                 2   ρ                       2   ρ         ⎥\n",
       "⎢   z              ρ⋅u₂  + ─                   ρ⋅u₂  + ─         ⎥\n",
       "⎢                          3                           3         ⎥\n",
       "⎢                                                                ⎥\n",
       "⎢   y                 ρ⋅u₁                        ρ⋅u₁           ⎥\n",
       "⎢                                                                ⎥\n",
       "⎢  y⋅z              ρ⋅u₁⋅u₂                     ρ⋅u₁⋅u₂          ⎥\n",
       "⎢                                                                ⎥\n",
       "⎢     2               ρ⋅u₁                        ρ⋅u₁           ⎥\n",
       "⎢  y⋅z                ────                        ────           ⎥\n",
       "⎢                      3                           3             ⎥\n",
       "⎢                                                                ⎥\n",
       "⎢    2                 2   ρ                       2   ρ         ⎥\n",
       "⎢   y              ρ⋅u₁  + ─                   ρ⋅u₁  + ─         ⎥\n",
       "⎢                          3                           3         ⎥\n",
       "⎢                                                                ⎥\n",
       "⎢   2                 ρ⋅u₂                        ρ⋅u₂           ⎥\n",
       "⎢  y ⋅z               ────                        ────           ⎥\n",
       "⎢                      3                           3             ⎥\n",
       "⎢                                                                ⎥\n",
       "⎢                  2       2                   2       2         ⎥\n",
       "⎢  2  2        ρ⋅u₁    ρ⋅u₂    ρ           ρ⋅u₁    ρ⋅u₂    ρ     ⎥\n",
       "⎢ y ⋅z         ───── + ───── + ─           ───── + ───── + ─     ⎥\n",
       "⎢                3       3     9             3       3     9     ⎥\n",
       "⎢                                                                ⎥\n",
       "⎢   x                 ρ⋅u₀                        ρ⋅u₀           ⎥\n",
       "⎢                                                                ⎥\n",
       "⎢  x⋅z              ρ⋅u₀⋅u₂                     ρ⋅u₀⋅u₂          ⎥\n",
       "⎢                                                                ⎥\n",
       "⎢     2               ρ⋅u₀                        ρ⋅u₀           ⎥\n",
       "⎢  x⋅z                ────                        ────           ⎥\n",
       "⎢                      3                           3             ⎥\n",
       "⎢                                                                ⎥\n",
       "⎢  x⋅y              ρ⋅u₀⋅u₁                     ρ⋅u₀⋅u₁          ⎥\n",
       "⎢                                                                ⎥\n",
       "⎢ x⋅y⋅z                0                           0             ⎥\n",
       "⎢                                                                ⎥\n",
       "⎢      2            ρ⋅u₀⋅u₁                     ρ⋅u₀⋅u₁          ⎥\n",
       "⎢ x⋅y⋅z             ───────                     ───────          ⎥\n",
       "⎢                      3                           3             ⎥\n",
       "⎢                                                                ⎥\n",
       "⎢     2               ρ⋅u₀                        ρ⋅u₀           ⎥\n",
       "⎢  x⋅y                ────                        ────           ⎥\n",
       "⎢                      3                           3             ⎥\n",
       "⎢                                                                ⎥\n",
       "⎢    2              ρ⋅u₀⋅u₂                     ρ⋅u₀⋅u₂          ⎥\n",
       "⎢ x⋅y ⋅z            ───────                     ───────          ⎥\n",
       "⎢                      3                           3             ⎥\n",
       "⎢                                                                ⎥\n",
       "⎢   2  2              ρ⋅u₀                        ρ⋅u₀           ⎥\n",
       "⎢x⋅y ⋅z               ────                        ────           ⎥\n",
       "⎢                      9                           9             ⎥\n",
       "⎢                                                                ⎥\n",
       "⎢    2                 2   ρ                       2   ρ         ⎥\n",
       "⎢   x              ρ⋅u₀  + ─                   ρ⋅u₀  + ─         ⎥\n",
       "⎢                          3                           3         ⎥\n",
       "⎢                                                                ⎥\n",
       "⎢   2                 ρ⋅u₂                        ρ⋅u₂           ⎥\n",
       "⎢  x ⋅z               ────                        ────           ⎥\n",
       "⎢                      3                           3             ⎥\n",
       "⎢                                                                ⎥\n",
       "⎢                  2       2                   2       2         ⎥\n",
       "⎢  2  2        ρ⋅u₀    ρ⋅u₂    ρ           ρ⋅u₀    ρ⋅u₂    ρ     ⎥\n",
       "⎢ x ⋅z         ───── + ───── + ─           ───── + ───── + ─     ⎥\n",
       "⎢                3       3     9             3       3     9     ⎥\n",
       "⎢                                                                ⎥\n",
       "⎢   2                 ρ⋅u₁                        ρ⋅u₁           ⎥\n",
       "⎢  x ⋅y               ────                        ────           ⎥\n",
       "⎢                      3                           3             ⎥\n",
       "⎢                                                                ⎥\n",
       "⎢  2                ρ⋅u₁⋅u₂                     ρ⋅u₁⋅u₂          ⎥\n",
       "⎢ x ⋅y⋅z            ───────                     ───────          ⎥\n",
       "⎢                      3                           3             ⎥\n",
       "⎢                                                                ⎥\n",
       "⎢ 2    2              ρ⋅u₁                        ρ⋅u₁           ⎥\n",
       "⎢x ⋅y⋅z               ────                        ────           ⎥\n",
       "⎢                      9                           9             ⎥\n",
       "⎢                                                                ⎥\n",
       "⎢                  2       2                   2       2         ⎥\n",
       "⎢  2  2        ρ⋅u₀    ρ⋅u₁    ρ           ρ⋅u₀    ρ⋅u₁    ρ     ⎥\n",
       "⎢ x ⋅y         ───── + ───── + ─           ───── + ───── + ─     ⎥\n",
       "⎢                3       3     9             3       3     9     ⎥\n",
       "⎢                                                                ⎥\n",
       "⎢ 2  2                ρ⋅u₂                        ρ⋅u₂           ⎥\n",
       "⎢x ⋅y ⋅z              ────                        ────           ⎥\n",
       "⎢                      9                           9             ⎥\n",
       "⎢                                                                ⎥\n",
       "⎢              2       2       2           2       2       2     ⎥\n",
       "⎢ 2  2  2  ρ⋅u₀    ρ⋅u₁    ρ⋅u₂    ρ   ρ⋅u₀    ρ⋅u₁    ρ⋅u₂    ρ ⎥\n",
       "⎢x ⋅y ⋅z   ───── + ───── + ───── + ──  ───── + ───── + ───── + ──⎥\n",
       "⎣            9       9       9     27    9       9       9     27⎦"
      ]
     },
     "execution_count": 17,
     "metadata": {},
     "output_type": "execute_result"
    }
   ],
   "source": [
    "indepMoments3D = exponentsToPolynomialRepresentations(momentsUpToComponentOrder(2, dim=3))\n",
    "\n",
    "discreteEqMomentsD3Q27 = getMomentsOfDiscreteMaxwellianEquilibrium(D3Q27, indepMoments3D, compressible=True, order=2)\n",
    "contEqMoments3D = getMomentsOfContinuousMaxwellianEquilibrium(indepMoments3D, dim=3, order=2, c_s_sq=frac(1,3))\n",
    "\n",
    "sp.Matrix([indepMoments3D, discreteEqMomentsD3Q27, contEqMoments3D]).T"
   ]
  },
  {
   "cell_type": "markdown",
   "metadata": {},
   "source": [
    "Again all discrete moments have the same values as their continuous counterparts.\n",
    "\n",
    "Note that we have truncated the continuous moments at order 2 in $u$ to get this perfect agreement. \n",
    "Similarly we would get perfect agreement if we use the 3rd order discrete equilibrium and truncate the continuous moments at order 3. \n",
    "\n",
    "To switch off truncation, choose `order=None` when calling `getMomentsOfContinuousMaxwellianEquilibrium`.\n"
   ]
  },
  {
   "cell_type": "markdown",
   "metadata": {},
   "source": [
    "**Constructing equilibra from moments**\n",
    "\n",
    "The fact that discrete and continuous equilibrium moments agree, can be used to construct discrete equilibria. For the velocity sets D2Q9 and D3Q27 there are 9 or 27 degrees of freedom and the same number of independent moments. The moment matrix $M$ that transforms between the spatial representation and the moment representation is invertible. Thus if we pick 9 or 27 equilibrium moments we can construct a unique equilibrium. "
   ]
  },
  {
   "cell_type": "code",
   "execution_count": 18,
   "metadata": {},
   "outputs": [
    {
     "data": {
      "image/png": "[encoded data removed]",
      "text/latex": [
       "$$\\left[\\begin{matrix}1 & 1 & 1 & 1 & 1 & 1 & 1 & 1 & 1\\\\0 & 1 & -1 & 0 & 0 & 1 & 1 & -1 & -1\\\\0 & 1 & 1 & 0 & 0 & 1 & 1 & 1 & 1\\\\0 & 0 & 0 & -1 & 1 & -1 & 1 & -1 & 1\\\\0 & 0 & 0 & 0 & 0 & -1 & 1 & 1 & -1\\\\0 & 0 & 0 & 0 & 0 & -1 & 1 & -1 & 1\\\\0 & 0 & 0 & 1 & 1 & 1 & 1 & 1 & 1\\\\0 & 0 & 0 & 0 & 0 & 1 & 1 & -1 & -1\\\\0 & 0 & 0 & 0 & 0 & 1 & 1 & 1 & 1\\end{matrix}\\right]$$"
      ],
      "text/plain": [
       "⎡1  1  1   1   1  1   1  1   1 ⎤\n",
       "⎢                              ⎥\n",
       "⎢0  1  -1  0   0  1   1  -1  -1⎥\n",
       "⎢                              ⎥\n",
       "⎢0  1  1   0   0  1   1  1   1 ⎥\n",
       "⎢                              ⎥\n",
       "⎢0  0  0   -1  1  -1  1  -1  1 ⎥\n",
       "⎢                              ⎥\n",
       "⎢0  0  0   0   0  -1  1  1   -1⎥\n",
       "⎢                              ⎥\n",
       "⎢0  0  0   0   0  -1  1  -1  1 ⎥\n",
       "⎢                              ⎥\n",
       "⎢0  0  0   1   1  1   1  1   1 ⎥\n",
       "⎢                              ⎥\n",
       "⎢0  0  0   0   0  1   1  -1  -1⎥\n",
       "⎢                              ⎥\n",
       "⎣0  0  0   0   0  1   1  1   1 ⎦"
      ]
     },
     "execution_count": 18,
     "metadata": {},
     "output_type": "execute_result"
    }
   ],
   "source": [
    "M_D2Q9 = momentMatrix(moments=indepMoments2D, stencil=D2Q9)\n",
    "assert M_D2Q9.det() != 0, \"Determinant of moment matrix is zero - not invertible\"\n",
    "M_D2Q9"
   ]
  },
  {
   "cell_type": "markdown",
   "metadata": {},
   "source": [
    "Now the discrete equilibrium can be derived as $M^{-1} m_{eq}$ where $m_{eq}$ are moment of the continuous Maxwellian."
   ]
  },
  {
   "cell_type": "code",
   "execution_count": 19,
   "metadata": {},
   "outputs": [
    {
     "data": {
      "image/png": "[encoded data removed]",
      "text/latex": [
       "$$\\left[\\begin{matrix}- \\frac{2 \\rho}{3} u_{0}^{2} - \\frac{2 \\rho}{3} u_{1}^{2} + \\frac{4 \\rho}{9}\\\\- \\frac{\\rho u_{0}^{2}}{6} + \\frac{\\rho u_{1}^{2}}{3} + \\frac{\\rho u_{1}}{3} + \\frac{\\rho}{9}\\\\- \\frac{\\rho u_{0}^{2}}{6} + \\frac{\\rho u_{1}^{2}}{3} - \\frac{\\rho u_{1}}{3} + \\frac{\\rho}{9}\\\\\\frac{\\rho u_{0}^{2}}{3} - \\frac{\\rho u_{0}}{3} - \\frac{\\rho u_{1}^{2}}{6} + \\frac{\\rho}{9}\\\\\\frac{\\rho u_{0}^{2}}{3} + \\frac{\\rho u_{0}}{3} - \\frac{\\rho u_{1}^{2}}{6} + \\frac{\\rho}{9}\\\\\\frac{\\rho u_{0}^{2}}{12} - \\frac{\\rho u_{0}}{4} u_{1} - \\frac{\\rho u_{0}}{12} + \\frac{\\rho u_{1}^{2}}{12} + \\frac{\\rho u_{1}}{12} + \\frac{\\rho}{36}\\\\\\frac{\\rho u_{0}^{2}}{12} + \\frac{\\rho u_{0}}{4} u_{1} + \\frac{\\rho u_{0}}{12} + \\frac{\\rho u_{1}^{2}}{12} + \\frac{\\rho u_{1}}{12} + \\frac{\\rho}{36}\\\\\\frac{\\rho u_{0}^{2}}{12} + \\frac{\\rho u_{0}}{4} u_{1} - \\frac{\\rho u_{0}}{12} + \\frac{\\rho u_{1}^{2}}{12} - \\frac{\\rho u_{1}}{12} + \\frac{\\rho}{36}\\\\\\frac{\\rho u_{0}^{2}}{12} - \\frac{\\rho u_{0}}{4} u_{1} + \\frac{\\rho u_{0}}{12} + \\frac{\\rho u_{1}^{2}}{12} - \\frac{\\rho u_{1}}{12} + \\frac{\\rho}{36}\\end{matrix}\\right]$$"
      ],
      "text/plain": [
       "⎡                2         2               ⎤\n",
       "⎢          2⋅ρ⋅u₀    2⋅ρ⋅u₁    4⋅ρ         ⎥\n",
       "⎢        - ─────── - ─────── + ───         ⎥\n",
       "⎢             3         3       9          ⎥\n",
       "⎢                                          ⎥\n",
       "⎢              2       2                   ⎥\n",
       "⎢          ρ⋅u₀    ρ⋅u₁    ρ⋅u₁   ρ        ⎥\n",
       "⎢        - ───── + ───── + ──── + ─        ⎥\n",
       "⎢            6       3      3     9        ⎥\n",
       "⎢                                          ⎥\n",
       "⎢              2       2                   ⎥\n",
       "⎢          ρ⋅u₀    ρ⋅u₁    ρ⋅u₁   ρ        ⎥\n",
       "⎢        - ───── + ───── - ──── + ─        ⎥\n",
       "⎢            6       3      3     9        ⎥\n",
       "⎢                                          ⎥\n",
       "⎢             2              2             ⎥\n",
       "⎢         ρ⋅u₀    ρ⋅u₀   ρ⋅u₁    ρ         ⎥\n",
       "⎢         ───── - ──── - ───── + ─         ⎥\n",
       "⎢           3      3       6     9         ⎥\n",
       "⎢                                          ⎥\n",
       "⎢             2              2             ⎥\n",
       "⎢         ρ⋅u₀    ρ⋅u₀   ρ⋅u₁    ρ         ⎥\n",
       "⎢         ───── + ──── - ───── + ─         ⎥\n",
       "⎢           3      3       6     9         ⎥\n",
       "⎢                                          ⎥\n",
       "⎢    2                        2            ⎥\n",
       "⎢ρ⋅u₀    ρ⋅u₀⋅u₁   ρ⋅u₀   ρ⋅u₁    ρ⋅u₁   ρ ⎥\n",
       "⎢───── - ─────── - ──── + ───── + ──── + ──⎥\n",
       "⎢  12       4       12      12     12    36⎥\n",
       "⎢                                          ⎥\n",
       "⎢    2                        2            ⎥\n",
       "⎢ρ⋅u₀    ρ⋅u₀⋅u₁   ρ⋅u₀   ρ⋅u₁    ρ⋅u₁   ρ ⎥\n",
       "⎢───── + ─────── + ──── + ───── + ──── + ──⎥\n",
       "⎢  12       4       12      12     12    36⎥\n",
       "⎢                                          ⎥\n",
       "⎢    2                        2            ⎥\n",
       "⎢ρ⋅u₀    ρ⋅u₀⋅u₁   ρ⋅u₀   ρ⋅u₁    ρ⋅u₁   ρ ⎥\n",
       "⎢───── + ─────── - ──── + ───── - ──── + ──⎥\n",
       "⎢  12       4       12      12     12    36⎥\n",
       "⎢                                          ⎥\n",
       "⎢    2                        2            ⎥\n",
       "⎢ρ⋅u₀    ρ⋅u₀⋅u₁   ρ⋅u₀   ρ⋅u₁    ρ⋅u₁   ρ ⎥\n",
       "⎢───── - ─────── + ──── + ───── - ──── + ──⎥\n",
       "⎣  12       4       12      12     12    36⎦"
      ]
     },
     "execution_count": 19,
     "metadata": {},
     "output_type": "execute_result"
    }
   ],
   "source": [
    "m_eq = getMomentsOfContinuousMaxwellianEquilibrium(indepMoments2D, dim=2, order=2, c_s_sq=frac(1,3))\n",
    "\n",
    "newlyConstructedEq = M_D2Q9.inv() * sp.Matrix(m_eq)\n",
    "\n",
    "# Compare newly constructed equilibrium to standard discrete equilibrium from literature - has to be the same\n",
    "discreteEq = discreteMaxwellianEquilibrium(stencil=D2Q9, compressible=True, order=2)\n",
    "assert sp.simplify(newlyConstructedEq - sp.Matrix(discreteEq)) == sp.Matrix([0]*9)\n",
    "\n",
    "newlyConstructedEq"
   ]
  },
  {
   "cell_type": "markdown",
   "metadata": {},
   "source": [
    "As expected, we obtain the same standard discrete equilibrium, which is usually derived using a Hermite projection approach. For the D2Q9 and D3Q27 stencils our moment matching approach leads to the same results.\n",
    "In contrast to the Hermite approach, our moment matching technique can be implemented in *sympy* in a very straightforward way. "
   ]
  },
  {
   "cell_type": "markdown",
   "metadata": {},
   "source": [
    "## 4) Improved D3Q19 equilibrium\n",
    "\n",
    "While for D2Q9 and D3Q27 our construction technique yields the same results as the standard equilibrium known from literature, a different result is obtained for the D3Q19 stencil.\n",
    "\n",
    "First, one has to select 19 independent moments out of the possible 27. We use the same moment set used for D3Q19 MRT methods, that leaves out the following moments"
   ]
  },
  {
   "cell_type": "code",
   "execution_count": 20,
   "metadata": {},
   "outputs": [
    {
     "data": {
      "image/png": "[encoded data removed]",
      "text/latex": [
       "$$\\left ( x y^{2} z^{2}, \\quad x^{2} y z^{2}, \\quad x^{2} y^{2} z, \\quad x y z^{2}, \\quad x y^{2} z, \\quad x^{2} y z, \\quad x^{2} y^{2} z^{2}, \\quad x y z\\right )$$"
      ],
      "text/plain": [
       "⎛   2  2   2    2   2  2         2     2     2       2  2  2       ⎞\n",
       "⎝x⋅y ⋅z , x ⋅y⋅z , x ⋅y ⋅z, x⋅y⋅z , x⋅y ⋅z, x ⋅y⋅z, x ⋅y ⋅z , x⋅y⋅z⎠"
      ]
     },
     "execution_count": 20,
     "metadata": {},
     "output_type": "execute_result"
    }
   ],
   "source": [
    "exponentsToLeaveOut = [(1, 2, 2), (1, 1, 2), (2, 2, 2), (1, 1, 1)]\n",
    "exponentsToLeaveOut = extendMomentsWithPermutations(exponentsToLeaveOut)\n",
    "nonMatchedMoments = exponentsToPolynomialRepresentations(exponentsToLeaveOut)\n",
    "nonMatchedMoments"
   ]
  },
  {
   "cell_type": "markdown",
   "metadata": {},
   "source": [
    "However, other moment selections are possible as well, as long as all second and third order moments, that are required to approximate the NSE, are not altered."
   ]
  },
  {
   "cell_type": "code",
   "execution_count": 21,
   "metadata": {},
   "outputs": [
    {
     "data": {
      "image/png": "[encoded data removed]",
      "text/latex": [
       "$$\\left ( 1, \\quad y^{2}, \\quad x^{2} z^{2}, \\quad x, \\quad y z, \\quad x^{2} y^{2}, \\quad y^{2} z^{2}, \\quad y, \\quad y z^{2}, \\quad y^{2} z, \\quad x^{2} z, \\quad x y^{2}, \\quad x z, \\quad x^{2}, \\quad x y, \\quad z^{2}, \\quad x z^{2}, \\quad z, \\quad x^{2} y\\right )$$"
      ],
      "text/plain": [
       "⎛    2   2  2           2  2   2  2        2   2     2       2        2       \n",
       "⎝1, y , x ⋅z , x, y⋅z, x ⋅y , y ⋅z , y, y⋅z , y ⋅z, x ⋅z, x⋅y , x⋅z, x , x⋅y, \n",
       "\n",
       " 2     2      2  ⎞\n",
       "z , x⋅z , z, x ⋅y⎠"
      ]
     },
     "execution_count": 21,
     "metadata": {},
     "output_type": "execute_result"
    }
   ],
   "source": [
    "d3q19moments = tuple(set(indepMoments3D) - set(nonMatchedMoments))\n",
    "assert len(d3q19moments) == 19\n",
    "d3q19moments"
   ]
  },
  {
   "cell_type": "markdown",
   "metadata": {},
   "source": [
    "To get our new equilibrium, we repeat the process outlined above for D2Q9, compute the moment values of the continuous equilibrium for these 19 moments, and transform them back with $M^{-1}$"
   ]
  },
  {
   "cell_type": "code",
   "execution_count": 22,
   "metadata": {},
   "outputs": [
    {
     "data": {
      "image/png": "[encoded data removed]",
      "text/latex": [
       "$$\\left[\\begin{array}{ccccccccccccccccccc}\\left ( 0, \\quad 0, \\quad 0\\right ) & \\left ( 0, \\quad 1, \\quad 0\\right ) & \\left ( 0, \\quad -1, \\quad 0\\right ) & \\left ( -1, \\quad 0, \\quad 0\\right ) & \\left ( 1, \\quad 0, \\quad 0\\right ) & \\left ( 0, \\quad 0, \\quad 1\\right ) & \\left ( 0, \\quad 0, \\quad -1\\right ) & \\left ( -1, \\quad 1, \\quad 0\\right ) & \\left ( 1, \\quad 1, \\quad 0\\right ) & \\left ( -1, \\quad -1, \\quad 0\\right ) & \\left ( 1, \\quad -1, \\quad 0\\right ) & \\left ( 0, \\quad 1, \\quad 1\\right ) & \\left ( 0, \\quad -1, \\quad 1\\right ) & \\left ( -1, \\quad 0, \\quad 1\\right ) & \\left ( 1, \\quad 0, \\quad 1\\right ) & \\left ( 0, \\quad 1, \\quad -1\\right ) & \\left ( 0, \\quad -1, \\quad -1\\right ) & \\left ( -1, \\quad 0, \\quad -1\\right ) & \\left ( 1, \\quad 0, \\quad -1\\right )\\\\- \\frac{\\rho u_{0}^{2}}{3} - \\frac{\\rho u_{1}^{2}}{3} - \\frac{\\rho u_{2}^{2}}{3} + \\frac{\\rho}{3} & - \\frac{\\rho u_{0}^{2}}{6} + \\frac{\\rho u_{1}^{2}}{6} + \\frac{\\rho u_{1}}{6} - \\frac{\\rho u_{2}^{2}}{6} + \\frac{\\rho}{18} & - \\frac{\\rho u_{0}^{2}}{6} + \\frac{\\rho u_{1}^{2}}{6} - \\frac{\\rho u_{1}}{6} - \\frac{\\rho u_{2}^{2}}{6} + \\frac{\\rho}{18} & \\frac{\\rho u_{0}^{2}}{6} - \\frac{\\rho u_{0}}{6} - \\frac{\\rho u_{1}^{2}}{6} - \\frac{\\rho u_{2}^{2}}{6} + \\frac{\\rho}{18} & \\frac{\\rho u_{0}^{2}}{6} + \\frac{\\rho u_{0}}{6} - \\frac{\\rho u_{1}^{2}}{6} - \\frac{\\rho u_{2}^{2}}{6} + \\frac{\\rho}{18} & - \\frac{\\rho u_{0}^{2}}{6} - \\frac{\\rho u_{1}^{2}}{6} + \\frac{\\rho u_{2}^{2}}{6} + \\frac{\\rho u_{2}}{6} + \\frac{\\rho}{18} & - \\frac{\\rho u_{0}^{2}}{6} - \\frac{\\rho u_{1}^{2}}{6} + \\frac{\\rho u_{2}^{2}}{6} - \\frac{\\rho u_{2}}{6} + \\frac{\\rho}{18} & \\frac{\\rho u_{0}^{2}}{12} - \\frac{\\rho u_{0}}{4} u_{1} - \\frac{\\rho u_{0}}{12} + \\frac{\\rho u_{1}^{2}}{12} + \\frac{\\rho u_{1}}{12} + \\frac{\\rho}{36} & \\frac{\\rho u_{0}^{2}}{12} + \\frac{\\rho u_{0}}{4} u_{1} + \\frac{\\rho u_{0}}{12} + \\frac{\\rho u_{1}^{2}}{12} + \\frac{\\rho u_{1}}{12} + \\frac{\\rho}{36} & \\frac{\\rho u_{0}^{2}}{12} + \\frac{\\rho u_{0}}{4} u_{1} - \\frac{\\rho u_{0}}{12} + \\frac{\\rho u_{1}^{2}}{12} - \\frac{\\rho u_{1}}{12} + \\frac{\\rho}{36} & \\frac{\\rho u_{0}^{2}}{12} - \\frac{\\rho u_{0}}{4} u_{1} + \\frac{\\rho u_{0}}{12} + \\frac{\\rho u_{1}^{2}}{12} - \\frac{\\rho u_{1}}{12} + \\frac{\\rho}{36} & \\frac{\\rho u_{1}^{2}}{12} + \\frac{\\rho u_{1}}{4} u_{2} + \\frac{\\rho u_{1}}{12} + \\frac{\\rho u_{2}^{2}}{12} + \\frac{\\rho u_{2}}{12} + \\frac{\\rho}{36} & \\frac{\\rho u_{1}^{2}}{12} - \\frac{\\rho u_{1}}{4} u_{2} - \\frac{\\rho u_{1}}{12} + \\frac{\\rho u_{2}^{2}}{12} + \\frac{\\rho u_{2}}{12} + \\frac{\\rho}{36} & \\frac{\\rho u_{0}^{2}}{12} - \\frac{\\rho u_{0}}{4} u_{2} - \\frac{\\rho u_{0}}{12} + \\frac{\\rho u_{2}^{2}}{12} + \\frac{\\rho u_{2}}{12} + \\frac{\\rho}{36} & \\frac{\\rho u_{0}^{2}}{12} + \\frac{\\rho u_{0}}{4} u_{2} + \\frac{\\rho u_{0}}{12} + \\frac{\\rho u_{2}^{2}}{12} + \\frac{\\rho u_{2}}{12} + \\frac{\\rho}{36} & \\frac{\\rho u_{1}^{2}}{12} - \\frac{\\rho u_{1}}{4} u_{2} + \\frac{\\rho u_{1}}{12} + \\frac{\\rho u_{2}^{2}}{12} - \\frac{\\rho u_{2}}{12} + \\frac{\\rho}{36} & \\frac{\\rho u_{1}^{2}}{12} + \\frac{\\rho u_{1}}{4} u_{2} - \\frac{\\rho u_{1}}{12} + \\frac{\\rho u_{2}^{2}}{12} - \\frac{\\rho u_{2}}{12} + \\frac{\\rho}{36} & \\frac{\\rho u_{0}^{2}}{12} + \\frac{\\rho u_{0}}{4} u_{2} - \\frac{\\rho u_{0}}{12} + \\frac{\\rho u_{2}^{2}}{12} - \\frac{\\rho u_{2}}{12} + \\frac{\\rho}{36} & \\frac{\\rho u_{0}^{2}}{12} - \\frac{\\rho u_{0}}{4} u_{2} + \\frac{\\rho u_{0}}{12} + \\frac{\\rho u_{2}^{2}}{12} - \\frac{\\rho u_{2}}{12} + \\frac{\\rho}{36}\\\\- \\frac{\\rho u_{0}^{2}}{2} - \\frac{\\rho u_{1}^{2}}{2} - \\frac{\\rho u_{2}^{2}}{2} + \\frac{\\rho}{3} & - \\frac{\\rho u_{0}^{2}}{12} + \\frac{\\rho u_{1}^{2}}{6} + \\frac{\\rho u_{1}}{6} - \\frac{\\rho u_{2}^{2}}{12} + \\frac{\\rho}{18} & - \\frac{\\rho u_{0}^{2}}{12} + \\frac{\\rho u_{1}^{2}}{6} - \\frac{\\rho u_{1}}{6} - \\frac{\\rho u_{2}^{2}}{12} + \\frac{\\rho}{18} & \\frac{\\rho u_{0}^{2}}{6} - \\frac{\\rho u_{0}}{6} - \\frac{\\rho u_{1}^{2}}{12} - \\frac{\\rho u_{2}^{2}}{12} + \\frac{\\rho}{18} & \\frac{\\rho u_{0}^{2}}{6} + \\frac{\\rho u_{0}}{6} - \\frac{\\rho u_{1}^{2}}{12} - \\frac{\\rho u_{2}^{2}}{12} + \\frac{\\rho}{18} & - \\frac{\\rho u_{0}^{2}}{12} - \\frac{\\rho u_{1}^{2}}{12} + \\frac{\\rho u_{2}^{2}}{6} + \\frac{\\rho u_{2}}{6} + \\frac{\\rho}{18} & - \\frac{\\rho u_{0}^{2}}{12} - \\frac{\\rho u_{1}^{2}}{12} + \\frac{\\rho u_{2}^{2}}{6} - \\frac{\\rho u_{2}}{6} + \\frac{\\rho}{18} & \\frac{\\rho u_{0}^{2}}{12} - \\frac{\\rho u_{0}}{4} u_{1} - \\frac{\\rho u_{0}}{12} + \\frac{\\rho u_{1}^{2}}{12} + \\frac{\\rho u_{1}}{12} - \\frac{\\rho u_{2}^{2}}{24} + \\frac{\\rho}{36} & \\frac{\\rho u_{0}^{2}}{12} + \\frac{\\rho u_{0}}{4} u_{1} + \\frac{\\rho u_{0}}{12} + \\frac{\\rho u_{1}^{2}}{12} + \\frac{\\rho u_{1}}{12} - \\frac{\\rho u_{2}^{2}}{24} + \\frac{\\rho}{36} & \\frac{\\rho u_{0}^{2}}{12} + \\frac{\\rho u_{0}}{4} u_{1} - \\frac{\\rho u_{0}}{12} + \\frac{\\rho u_{1}^{2}}{12} - \\frac{\\rho u_{1}}{12} - \\frac{\\rho u_{2}^{2}}{24} + \\frac{\\rho}{36} & \\frac{\\rho u_{0}^{2}}{12} - \\frac{\\rho u_{0}}{4} u_{1} + \\frac{\\rho u_{0}}{12} + \\frac{\\rho u_{1}^{2}}{12} - \\frac{\\rho u_{1}}{12} - \\frac{\\rho u_{2}^{2}}{24} + \\frac{\\rho}{36} & - \\frac{\\rho u_{0}^{2}}{24} + \\frac{\\rho u_{1}^{2}}{12} + \\frac{\\rho u_{1}}{4} u_{2} + \\frac{\\rho u_{1}}{12} + \\frac{\\rho u_{2}^{2}}{12} + \\frac{\\rho u_{2}}{12} + \\frac{\\rho}{36} & - \\frac{\\rho u_{0}^{2}}{24} + \\frac{\\rho u_{1}^{2}}{12} - \\frac{\\rho u_{1}}{4} u_{2} - \\frac{\\rho u_{1}}{12} + \\frac{\\rho u_{2}^{2}}{12} + \\frac{\\rho u_{2}}{12} + \\frac{\\rho}{36} & \\frac{\\rho u_{0}^{2}}{12} - \\frac{\\rho u_{0}}{4} u_{2} - \\frac{\\rho u_{0}}{12} - \\frac{\\rho u_{1}^{2}}{24} + \\frac{\\rho u_{2}^{2}}{12} + \\frac{\\rho u_{2}}{12} + \\frac{\\rho}{36} & \\frac{\\rho u_{0}^{2}}{12} + \\frac{\\rho u_{0}}{4} u_{2} + \\frac{\\rho u_{0}}{12} - \\frac{\\rho u_{1}^{2}}{24} + \\frac{\\rho u_{2}^{2}}{12} + \\frac{\\rho u_{2}}{12} + \\frac{\\rho}{36} & - \\frac{\\rho u_{0}^{2}}{24} + \\frac{\\rho u_{1}^{2}}{12} - \\frac{\\rho u_{1}}{4} u_{2} + \\frac{\\rho u_{1}}{12} + \\frac{\\rho u_{2}^{2}}{12} - \\frac{\\rho u_{2}}{12} + \\frac{\\rho}{36} & - \\frac{\\rho u_{0}^{2}}{24} + \\frac{\\rho u_{1}^{2}}{12} + \\frac{\\rho u_{1}}{4} u_{2} - \\frac{\\rho u_{1}}{12} + \\frac{\\rho u_{2}^{2}}{12} - \\frac{\\rho u_{2}}{12} + \\frac{\\rho}{36} & \\frac{\\rho u_{0}^{2}}{12} + \\frac{\\rho u_{0}}{4} u_{2} - \\frac{\\rho u_{0}}{12} - \\frac{\\rho u_{1}^{2}}{24} + \\frac{\\rho u_{2}^{2}}{12} - \\frac{\\rho u_{2}}{12} + \\frac{\\rho}{36} & \\frac{\\rho u_{0}^{2}}{12} - \\frac{\\rho u_{0}}{4} u_{2} + \\frac{\\rho u_{0}}{12} - \\frac{\\rho u_{1}^{2}}{24} + \\frac{\\rho u_{2}^{2}}{12} - \\frac{\\rho u_{2}}{12} + \\frac{\\rho}{36}\\end{array}\\right]$$"
      ],
      "text/plain": [
       "⎡         (0, 0, 0)                        (0, 1, 0)                          \n",
       "⎢                                                                             \n",
       "⎢      2       2       2            2       2              2             2    \n",
       "⎢  ρ⋅u₀    ρ⋅u₁    ρ⋅u₂    ρ    ρ⋅u₀    ρ⋅u₁    ρ⋅u₁   ρ⋅u₂    ρ     ρ⋅u₀    ρ\n",
       "⎢- ───── - ───── - ───── + ─  - ───── + ───── + ──── - ───── + ──  - ───── + ─\n",
       "⎢    3       3       3     3      6       6      6       6     18      6      \n",
       "⎢                                                                             \n",
       "⎢      2       2       2            2       2              2             2    \n",
       "⎢  ρ⋅u₀    ρ⋅u₁    ρ⋅u₂    ρ    ρ⋅u₀    ρ⋅u₁    ρ⋅u₁   ρ⋅u₂    ρ     ρ⋅u₀    ρ\n",
       "⎢- ───── - ───── - ───── + ─  - ───── + ───── + ──── - ───── + ──  - ───── + ─\n",
       "⎣    2       2       2     3      12      6      6       12    18      12     \n",
       "\n",
       " (0, -1, 0)                          (-1, 0, 0)                          (1, 0\n",
       "                                                                              \n",
       "   2              2           2              2       2           2            \n",
       "⋅u₁    ρ⋅u₁   ρ⋅u₂    ρ   ρ⋅u₀    ρ⋅u₀   ρ⋅u₁    ρ⋅u₂    ρ   ρ⋅u₀    ρ⋅u₀   ρ⋅\n",
       "──── - ──── - ───── + ──  ───── - ──── - ───── - ───── + ──  ───── + ──── - ──\n",
       " 6      6       6     18    6      6       6       6     18    6      6       \n",
       "                                                                              \n",
       "   2              2           2              2       2           2            \n",
       "⋅u₁    ρ⋅u₁   ρ⋅u₂    ρ   ρ⋅u₀    ρ⋅u₀   ρ⋅u₁    ρ⋅u₂    ρ   ρ⋅u₀    ρ⋅u₀   ρ⋅\n",
       "──── - ──── - ───── + ──  ───── - ──── - ───── - ───── + ──  ───── + ──── - ──\n",
       " 6      6       12    18    6      6       12      12    18    6      6       \n",
       "\n",
       ", 0)                           (0, 0, 1)                           (0, 0, -1) \n",
       "                                                                              \n",
       "  2       2             2       2       2                    2       2       2\n",
       "u₁    ρ⋅u₂    ρ     ρ⋅u₀    ρ⋅u₁    ρ⋅u₂    ρ⋅u₂   ρ     ρ⋅u₀    ρ⋅u₁    ρ⋅u₂ \n",
       "─── - ───── + ──  - ───── - ───── + ───── + ──── + ──  - ───── - ───── + ─────\n",
       "6       6     18      6       6       6      6     18      6       6       6  \n",
       "                                                                              \n",
       "  2       2             2       2       2                    2       2       2\n",
       "u₁    ρ⋅u₂    ρ     ρ⋅u₀    ρ⋅u₁    ρ⋅u₂    ρ⋅u₂   ρ     ρ⋅u₀    ρ⋅u₁    ρ⋅u₂ \n",
       "─── - ───── + ──  - ───── - ───── + ───── + ──── + ──  - ───── - ───── + ─────\n",
       "12      12    18      12      12      6      6     18      12      12      6  \n",
       "\n",
       "                                  (-1, 1, 0)                                  \n",
       "                                                                              \n",
       "                      2                        2                          2   \n",
       "   ρ⋅u₂   ρ       ρ⋅u₀    ρ⋅u₀⋅u₁   ρ⋅u₀   ρ⋅u₁    ρ⋅u₁   ρ           ρ⋅u₀    \n",
       " - ──── + ──      ───── - ─────── - ──── + ───── + ──── + ──          ───── + \n",
       "    6     18        12       4       12      12     12    36            12    \n",
       "                                                                              \n",
       "                  2                        2              2           2       \n",
       "   ρ⋅u₂   ρ   ρ⋅u₀    ρ⋅u₀⋅u₁   ρ⋅u₀   ρ⋅u₁    ρ⋅u₁   ρ⋅u₂    ρ   ρ⋅u₀    ρ⋅u₀\n",
       " - ──── + ──  ───── - ─────── - ──── + ───── + ──── - ───── + ──  ───── + ────\n",
       "    6     18    12       4       12      12     12      24    36    12       4\n",
       "\n",
       "        (1, 1, 0)                                          (-1, -1, 0)        \n",
       "                                                                              \n",
       "                     2                          2                        2    \n",
       "ρ⋅u₀⋅u₁   ρ⋅u₀   ρ⋅u₁    ρ⋅u₁   ρ           ρ⋅u₀    ρ⋅u₀⋅u₁   ρ⋅u₀   ρ⋅u₁    ρ\n",
       "─────── + ──── + ───── + ──── + ──          ───── + ─────── - ──── + ───── - ─\n",
       "   4       12      12     12    36            12       4       12      12     \n",
       "                                                                              \n",
       "                 2              2           2                        2        \n",
       "⋅u₁   ρ⋅u₀   ρ⋅u₁    ρ⋅u₁   ρ⋅u₂    ρ   ρ⋅u₀    ρ⋅u₀⋅u₁   ρ⋅u₀   ρ⋅u₁    ρ⋅u₁ \n",
       "─── + ──── + ───── + ──── - ───── + ──  ───── + ─────── - ──── + ───── - ──── \n",
       "       12      12     12      24    36    12       4       12      12     12  \n",
       "\n",
       "                                  (1, -1, 0)                                  \n",
       "                                                                              \n",
       "                      2                        2                           2  \n",
       "⋅u₁   ρ           ρ⋅u₀    ρ⋅u₀⋅u₁   ρ⋅u₀   ρ⋅u₁    ρ⋅u₁   ρ            ρ⋅u₁   \n",
       "─── + ──          ───── - ─────── + ──── + ───── - ──── + ──           ───── +\n",
       "12    36            12       4       12      12     12    36             12   \n",
       "                                                                              \n",
       "      2           2                        2              2             2     \n",
       "  ρ⋅u₂    ρ   ρ⋅u₀    ρ⋅u₀⋅u₁   ρ⋅u₀   ρ⋅u₁    ρ⋅u₁   ρ⋅u₂    ρ     ρ⋅u₀    ρ⋅\n",
       "- ───── + ──  ───── - ─────── + ──── + ───── - ──── - ───── + ──  - ───── + ──\n",
       "    24    36    12       4       12      12     12      24    36      24      \n",
       "\n",
       "         (0, 1, 1)                                             (0, -1, 1)     \n",
       "                                                                              \n",
       "                      2                            2                        2 \n",
       " ρ⋅u₁⋅u₂   ρ⋅u₁   ρ⋅u₂    ρ⋅u₂   ρ             ρ⋅u₁    ρ⋅u₁⋅u₂   ρ⋅u₁   ρ⋅u₂  \n",
       " ─────── + ──── + ───── + ──── + ──            ───── - ─────── - ──── + ───── \n",
       "    4       12      12     12    36              12       4       12      12  \n",
       "                                                                              \n",
       "  2                        2                    2       2                     \n",
       "u₁    ρ⋅u₁⋅u₂   ρ⋅u₁   ρ⋅u₂    ρ⋅u₂   ρ     ρ⋅u₀    ρ⋅u₁    ρ⋅u₁⋅u₂   ρ⋅u₁   ρ\n",
       "─── + ─────── + ──── + ───── + ──── + ──  - ───── + ───── - ─────── - ──── + ─\n",
       "12       4       12      12     12    36      24      12       4       12     \n",
       "\n",
       "                                      (-1, 0, 1)                              \n",
       "                                                                              \n",
       "                          2                        2                          \n",
       "  ρ⋅u₂   ρ            ρ⋅u₀    ρ⋅u₀⋅u₂   ρ⋅u₀   ρ⋅u₂    ρ⋅u₂   ρ           ρ⋅u₀\n",
       "+ ──── + ──           ───── - ─────── - ──── + ───── + ──── + ──          ────\n",
       "   12    36             12       4       12      12     12    36            12\n",
       "                                                                              \n",
       "   2                  2                        2       2                  2   \n",
       "⋅u₂    ρ⋅u₂   ρ   ρ⋅u₀    ρ⋅u₀⋅u₂   ρ⋅u₀   ρ⋅u₁    ρ⋅u₂    ρ⋅u₂   ρ   ρ⋅u₀    \n",
       "──── + ──── + ──  ───── - ─────── - ──── - ───── + ───── + ──── + ──  ───── + \n",
       " 12     12    36    12       4       12      24      12     12    36    12    \n",
       "\n",
       "            (1, 0, 1)                                            (0, 1, -1)   \n",
       "                                                                              \n",
       "2                        2                           2                        \n",
       "    ρ⋅u₀⋅u₂   ρ⋅u₀   ρ⋅u₂    ρ⋅u₂   ρ            ρ⋅u₁    ρ⋅u₁⋅u₂   ρ⋅u₁   ρ⋅u₂\n",
       "─ + ─────── + ──── + ───── + ──── + ──           ───── - ─────── + ──── + ────\n",
       "       4       12      12     12    36             12       4       12      12\n",
       "                                                                              \n",
       "                     2       2                    2       2                   \n",
       "ρ⋅u₀⋅u₂   ρ⋅u₀   ρ⋅u₁    ρ⋅u₂    ρ⋅u₂   ρ     ρ⋅u₀    ρ⋅u₁    ρ⋅u₁⋅u₂   ρ⋅u₁  \n",
       "─────── + ──── - ───── + ───── + ──── + ──  - ───── + ───── - ─────── + ──── +\n",
       "   4       12      24      12     12    36      24      12       4       12   \n",
       "\n",
       "                                        (0, -1, -1)                           \n",
       "                                                                              \n",
       "2                            2                        2                       \n",
       "    ρ⋅u₂   ρ             ρ⋅u₁    ρ⋅u₁⋅u₂   ρ⋅u₁   ρ⋅u₂    ρ⋅u₂   ρ            \n",
       "─ - ──── + ──            ───── + ─────── - ──── + ───── - ──── + ──           \n",
       "     12    36              12       4       12      12     12    36           \n",
       "                                                                              \n",
       "     2                    2       2                        2                  \n",
       " ρ⋅u₂    ρ⋅u₂   ρ     ρ⋅u₀    ρ⋅u₁    ρ⋅u₁⋅u₂   ρ⋅u₁   ρ⋅u₂    ρ⋅u₂   ρ   ρ⋅u₀\n",
       " ───── - ──── + ──  - ───── + ───── + ─────── - ──── + ───── - ──── + ──  ────\n",
       "   12     12    36      24      12       4       12      12     12    36    12\n",
       "\n",
       "               (-1, 0, -1)                                          (1, 0, -1)\n",
       "                                                                              \n",
       "    2                        2                          2                     \n",
       "ρ⋅u₀    ρ⋅u₀⋅u₂   ρ⋅u₀   ρ⋅u₂    ρ⋅u₂   ρ           ρ⋅u₀    ρ⋅u₀⋅u₂   ρ⋅u₀   ρ\n",
       "───── + ─────── - ──── + ───── - ──── + ──          ───── - ─────── + ──── + ─\n",
       "  12       4       12      12     12    36            12       4       12     \n",
       "                                                                              \n",
       "2                        2       2                  2                        2\n",
       "    ρ⋅u₀⋅u₂   ρ⋅u₀   ρ⋅u₁    ρ⋅u₂    ρ⋅u₂   ρ   ρ⋅u₀    ρ⋅u₀⋅u₂   ρ⋅u₀   ρ⋅u₁ \n",
       "─ + ─────── - ──── - ───── + ───── - ──── + ──  ───── - ─────── + ──── - ─────\n",
       "       4       12      24      12     12    36    12       4       12      24 \n",
       "\n",
       "                    ⎤\n",
       "                    ⎥\n",
       "   2                ⎥\n",
       "⋅u₂    ρ⋅u₂   ρ     ⎥\n",
       "──── - ──── + ──    ⎥\n",
       " 12     12    36    ⎥\n",
       "                    ⎥\n",
       "       2            ⎥\n",
       "   ρ⋅u₂    ρ⋅u₂   ρ ⎥\n",
       " + ───── - ──── + ──⎥\n",
       "     12     12    36⎦"
      ]
     },
     "execution_count": 22,
     "metadata": {},
     "output_type": "execute_result"
    }
   ],
   "source": [
    "d3q19_eq_moments = getMomentsOfContinuousMaxwellianEquilibrium(d3q19moments, dim=3, order=2, c_s_sq=frac(1,3))\n",
    "M_D3Q19 = momentMatrix(moments=d3q19moments, stencil=D3Q19)\n",
    "improvedD3Q19 = M_D3Q19.inv() * sp.Matrix(d3q19_eq_moments)\n",
    "\n",
    "standardD3Q19 = sp.Matrix(discreteMaxwellianEquilibrium(D3Q19, order=2)).expand()\n",
    "\n",
    "sp.Matrix([D3Q19, improvedD3Q19.T, standardD3Q19.T])"
   ]
  },
  {
   "cell_type": "markdown",
   "metadata": {},
   "source": [
    "In above matrix, the difference between both equilibrium formulations can be seen in detail. The first row contains the stencil entry, the second our improved equilibrium while the last row is the standard second order equilibrium. The equilibrium moment values have been truncated at velocity order $2$ to be comparable. \n",
    "\n",
    "The difference between both formulations is not due to velocity truncation order. The next cell compares both construction techniques again, this time for velocity truncation order of 3."
   ]
  },
  {
   "cell_type": "code",
   "execution_count": 23,
   "metadata": {},
   "outputs": [
    {
     "data": {
      "image/png": "[encoded data removed]",
      "text/latex": [
       "$$\\left[\\begin{array}{ccccccccccccccccccc}\\left ( 0, \\quad 0, \\quad 0\\right ) & \\left ( 0, \\quad 1, \\quad 0\\right ) & \\left ( 0, \\quad -1, \\quad 0\\right ) & \\left ( -1, \\quad 0, \\quad 0\\right ) & \\left ( 1, \\quad 0, \\quad 0\\right ) & \\left ( 0, \\quad 0, \\quad 1\\right ) & \\left ( 0, \\quad 0, \\quad -1\\right ) & \\left ( -1, \\quad 1, \\quad 0\\right ) & \\left ( 1, \\quad 1, \\quad 0\\right ) & \\left ( -1, \\quad -1, \\quad 0\\right ) & \\left ( 1, \\quad -1, \\quad 0\\right ) & \\left ( 0, \\quad 1, \\quad 1\\right ) & \\left ( 0, \\quad -1, \\quad 1\\right ) & \\left ( -1, \\quad 0, \\quad 1\\right ) & \\left ( 1, \\quad 0, \\quad 1\\right ) & \\left ( 0, \\quad 1, \\quad -1\\right ) & \\left ( 0, \\quad -1, \\quad -1\\right ) & \\left ( -1, \\quad 0, \\quad -1\\right ) & \\left ( 1, \\quad 0, \\quad -1\\right )\\\\- \\frac{\\rho u_{0}^{2}}{3} - \\frac{\\rho u_{1}^{2}}{3} - \\frac{\\rho u_{2}^{2}}{3} + \\frac{\\rho}{3} & - \\frac{\\rho u_{1}}{2} u_{0}^{2} - \\frac{\\rho u_{0}^{2}}{6} + \\frac{\\rho u_{1}^{2}}{6} - \\frac{\\rho u_{1}}{2} u_{2}^{2} + \\frac{\\rho u_{1}}{6} - \\frac{\\rho u_{2}^{2}}{6} + \\frac{\\rho}{18} & \\frac{\\rho u_{1}}{2} u_{0}^{2} - \\frac{\\rho u_{0}^{2}}{6} + \\frac{\\rho u_{1}^{2}}{6} + \\frac{\\rho u_{1}}{2} u_{2}^{2} - \\frac{\\rho u_{1}}{6} - \\frac{\\rho u_{2}^{2}}{6} + \\frac{\\rho}{18} & \\frac{\\rho u_{0}^{2}}{6} + \\frac{\\rho u_{0}}{2} u_{1}^{2} + \\frac{\\rho u_{0}}{2} u_{2}^{2} - \\frac{\\rho u_{0}}{6} - \\frac{\\rho u_{1}^{2}}{6} - \\frac{\\rho u_{2}^{2}}{6} + \\frac{\\rho}{18} & \\frac{\\rho u_{0}^{2}}{6} - \\frac{\\rho u_{0}}{2} u_{1}^{2} - \\frac{\\rho u_{0}}{2} u_{2}^{2} + \\frac{\\rho u_{0}}{6} - \\frac{\\rho u_{1}^{2}}{6} - \\frac{\\rho u_{2}^{2}}{6} + \\frac{\\rho}{18} & - \\frac{\\rho u_{2}}{2} u_{0}^{2} - \\frac{\\rho u_{0}^{2}}{6} - \\frac{\\rho u_{2}}{2} u_{1}^{2} - \\frac{\\rho u_{1}^{2}}{6} + \\frac{\\rho u_{2}^{2}}{6} + \\frac{\\rho u_{2}}{6} + \\frac{\\rho}{18} & \\frac{\\rho u_{2}}{2} u_{0}^{2} - \\frac{\\rho u_{0}^{2}}{6} + \\frac{\\rho u_{2}}{2} u_{1}^{2} - \\frac{\\rho u_{1}^{2}}{6} + \\frac{\\rho u_{2}^{2}}{6} - \\frac{\\rho u_{2}}{6} + \\frac{\\rho}{18} & \\frac{\\rho u_{1}}{4} u_{0}^{2} + \\frac{\\rho u_{0}^{2}}{12} - \\frac{\\rho u_{0}}{4} u_{1}^{2} - \\frac{\\rho u_{0}}{4} u_{1} - \\frac{\\rho u_{0}}{12} + \\frac{\\rho u_{1}^{2}}{12} + \\frac{\\rho u_{1}}{12} + \\frac{\\rho}{36} & \\frac{\\rho u_{1}}{4} u_{0}^{2} + \\frac{\\rho u_{0}^{2}}{12} + \\frac{\\rho u_{0}}{4} u_{1}^{2} + \\frac{\\rho u_{0}}{4} u_{1} + \\frac{\\rho u_{0}}{12} + \\frac{\\rho u_{1}^{2}}{12} + \\frac{\\rho u_{1}}{12} + \\frac{\\rho}{36} & - \\frac{\\rho u_{1}}{4} u_{0}^{2} + \\frac{\\rho u_{0}^{2}}{12} - \\frac{\\rho u_{0}}{4} u_{1}^{2} + \\frac{\\rho u_{0}}{4} u_{1} - \\frac{\\rho u_{0}}{12} + \\frac{\\rho u_{1}^{2}}{12} - \\frac{\\rho u_{1}}{12} + \\frac{\\rho}{36} & - \\frac{\\rho u_{1}}{4} u_{0}^{2} + \\frac{\\rho u_{0}^{2}}{12} + \\frac{\\rho u_{0}}{4} u_{1}^{2} - \\frac{\\rho u_{0}}{4} u_{1} + \\frac{\\rho u_{0}}{12} + \\frac{\\rho u_{1}^{2}}{12} - \\frac{\\rho u_{1}}{12} + \\frac{\\rho}{36} & \\frac{\\rho u_{2}}{4} u_{1}^{2} + \\frac{\\rho u_{1}^{2}}{12} + \\frac{\\rho u_{1}}{4} u_{2}^{2} + \\frac{\\rho u_{1}}{4} u_{2} + \\frac{\\rho u_{1}}{12} + \\frac{\\rho u_{2}^{2}}{12} + \\frac{\\rho u_{2}}{12} + \\frac{\\rho}{36} & \\frac{\\rho u_{2}}{4} u_{1}^{2} + \\frac{\\rho u_{1}^{2}}{12} - \\frac{\\rho u_{1}}{4} u_{2}^{2} - \\frac{\\rho u_{1}}{4} u_{2} - \\frac{\\rho u_{1}}{12} + \\frac{\\rho u_{2}^{2}}{12} + \\frac{\\rho u_{2}}{12} + \\frac{\\rho}{36} & \\frac{\\rho u_{2}}{4} u_{0}^{2} + \\frac{\\rho u_{0}^{2}}{12} - \\frac{\\rho u_{0}}{4} u_{2}^{2} - \\frac{\\rho u_{0}}{4} u_{2} - \\frac{\\rho u_{0}}{12} + \\frac{\\rho u_{2}^{2}}{12} + \\frac{\\rho u_{2}}{12} + \\frac{\\rho}{36} & \\frac{\\rho u_{2}}{4} u_{0}^{2} + \\frac{\\rho u_{0}^{2}}{12} + \\frac{\\rho u_{0}}{4} u_{2}^{2} + \\frac{\\rho u_{0}}{4} u_{2} + \\frac{\\rho u_{0}}{12} + \\frac{\\rho u_{2}^{2}}{12} + \\frac{\\rho u_{2}}{12} + \\frac{\\rho}{36} & - \\frac{\\rho u_{2}}{4} u_{1}^{2} + \\frac{\\rho u_{1}^{2}}{12} + \\frac{\\rho u_{1}}{4} u_{2}^{2} - \\frac{\\rho u_{1}}{4} u_{2} + \\frac{\\rho u_{1}}{12} + \\frac{\\rho u_{2}^{2}}{12} - \\frac{\\rho u_{2}}{12} + \\frac{\\rho}{36} & - \\frac{\\rho u_{2}}{4} u_{1}^{2} + \\frac{\\rho u_{1}^{2}}{12} - \\frac{\\rho u_{1}}{4} u_{2}^{2} + \\frac{\\rho u_{1}}{4} u_{2} - \\frac{\\rho u_{1}}{12} + \\frac{\\rho u_{2}^{2}}{12} - \\frac{\\rho u_{2}}{12} + \\frac{\\rho}{36} & - \\frac{\\rho u_{2}}{4} u_{0}^{2} + \\frac{\\rho u_{0}^{2}}{12} - \\frac{\\rho u_{0}}{4} u_{2}^{2} + \\frac{\\rho u_{0}}{4} u_{2} - \\frac{\\rho u_{0}}{12} + \\frac{\\rho u_{2}^{2}}{12} - \\frac{\\rho u_{2}}{12} + \\frac{\\rho}{36} & - \\frac{\\rho u_{2}}{4} u_{0}^{2} + \\frac{\\rho u_{0}^{2}}{12} + \\frac{\\rho u_{0}}{4} u_{2}^{2} - \\frac{\\rho u_{0}}{4} u_{2} + \\frac{\\rho u_{0}}{12} + \\frac{\\rho u_{2}^{2}}{12} - \\frac{\\rho u_{2}}{12} + \\frac{\\rho}{36}\\\\- \\frac{\\rho u_{0}^{2}}{2} - \\frac{\\rho u_{1}^{2}}{2} - \\frac{\\rho u_{2}^{2}}{2} + \\frac{\\rho}{3} & - \\frac{\\rho u_{1}}{4} u_{0}^{2} - \\frac{\\rho u_{0}^{2}}{12} + \\frac{\\rho u_{1}^{2}}{6} - \\frac{\\rho u_{1}}{4} u_{2}^{2} + \\frac{\\rho u_{1}}{6} - \\frac{\\rho u_{2}^{2}}{12} + \\frac{\\rho}{18} & \\frac{\\rho u_{1}}{4} u_{0}^{2} - \\frac{\\rho u_{0}^{2}}{12} + \\frac{\\rho u_{1}^{2}}{6} + \\frac{\\rho u_{1}}{4} u_{2}^{2} - \\frac{\\rho u_{1}}{6} - \\frac{\\rho u_{2}^{2}}{12} + \\frac{\\rho}{18} & \\frac{\\rho u_{0}^{2}}{6} + \\frac{\\rho u_{0}}{4} u_{1}^{2} + \\frac{\\rho u_{0}}{4} u_{2}^{2} - \\frac{\\rho u_{0}}{6} - \\frac{\\rho u_{1}^{2}}{12} - \\frac{\\rho u_{2}^{2}}{12} + \\frac{\\rho}{18} & \\frac{\\rho u_{0}^{2}}{6} - \\frac{\\rho u_{0}}{4} u_{1}^{2} - \\frac{\\rho u_{0}}{4} u_{2}^{2} + \\frac{\\rho u_{0}}{6} - \\frac{\\rho u_{1}^{2}}{12} - \\frac{\\rho u_{2}^{2}}{12} + \\frac{\\rho}{18} & - \\frac{\\rho u_{2}}{4} u_{0}^{2} - \\frac{\\rho u_{0}^{2}}{12} - \\frac{\\rho u_{2}}{4} u_{1}^{2} - \\frac{\\rho u_{1}^{2}}{12} + \\frac{\\rho u_{2}^{2}}{6} + \\frac{\\rho u_{2}}{6} + \\frac{\\rho}{18} & \\frac{\\rho u_{2}}{4} u_{0}^{2} - \\frac{\\rho u_{0}^{2}}{12} + \\frac{\\rho u_{2}}{4} u_{1}^{2} - \\frac{\\rho u_{1}^{2}}{12} + \\frac{\\rho u_{2}^{2}}{6} - \\frac{\\rho u_{2}}{6} + \\frac{\\rho}{18} & \\frac{\\rho u_{1}}{4} u_{0}^{2} + \\frac{\\rho u_{0}^{2}}{12} - \\frac{\\rho u_{0}}{4} u_{1}^{2} - \\frac{\\rho u_{0}}{4} u_{1} + \\frac{\\rho u_{0}}{8} u_{2}^{2} - \\frac{\\rho u_{0}}{12} + \\frac{\\rho u_{1}^{2}}{12} - \\frac{\\rho u_{1}}{8} u_{2}^{2} + \\frac{\\rho u_{1}}{12} - \\frac{\\rho u_{2}^{2}}{24} + \\frac{\\rho}{36} & \\frac{\\rho u_{1}}{4} u_{0}^{2} + \\frac{\\rho u_{0}^{2}}{12} + \\frac{\\rho u_{0}}{4} u_{1}^{2} + \\frac{\\rho u_{0}}{4} u_{1} - \\frac{\\rho u_{0}}{8} u_{2}^{2} + \\frac{\\rho u_{0}}{12} + \\frac{\\rho u_{1}^{2}}{12} - \\frac{\\rho u_{1}}{8} u_{2}^{2} + \\frac{\\rho u_{1}}{12} - \\frac{\\rho u_{2}^{2}}{24} + \\frac{\\rho}{36} & - \\frac{\\rho u_{1}}{4} u_{0}^{2} + \\frac{\\rho u_{0}^{2}}{12} - \\frac{\\rho u_{0}}{4} u_{1}^{2} + \\frac{\\rho u_{0}}{4} u_{1} + \\frac{\\rho u_{0}}{8} u_{2}^{2} - \\frac{\\rho u_{0}}{12} + \\frac{\\rho u_{1}^{2}}{12} + \\frac{\\rho u_{1}}{8} u_{2}^{2} - \\frac{\\rho u_{1}}{12} - \\frac{\\rho u_{2}^{2}}{24} + \\frac{\\rho}{36} & - \\frac{\\rho u_{1}}{4} u_{0}^{2} + \\frac{\\rho u_{0}^{2}}{12} + \\frac{\\rho u_{0}}{4} u_{1}^{2} - \\frac{\\rho u_{0}}{4} u_{1} - \\frac{\\rho u_{0}}{8} u_{2}^{2} + \\frac{\\rho u_{0}}{12} + \\frac{\\rho u_{1}^{2}}{12} + \\frac{\\rho u_{1}}{8} u_{2}^{2} - \\frac{\\rho u_{1}}{12} - \\frac{\\rho u_{2}^{2}}{24} + \\frac{\\rho}{36} & - \\frac{\\rho u_{1}}{8} u_{0}^{2} - \\frac{\\rho u_{2}}{8} u_{0}^{2} - \\frac{\\rho u_{0}^{2}}{24} + \\frac{\\rho u_{2}}{4} u_{1}^{2} + \\frac{\\rho u_{1}^{2}}{12} + \\frac{\\rho u_{1}}{4} u_{2}^{2} + \\frac{\\rho u_{1}}{4} u_{2} + \\frac{\\rho u_{1}}{12} + \\frac{\\rho u_{2}^{2}}{12} + \\frac{\\rho u_{2}}{12} + \\frac{\\rho}{36} & \\frac{\\rho u_{1}}{8} u_{0}^{2} - \\frac{\\rho u_{2}}{8} u_{0}^{2} - \\frac{\\rho u_{0}^{2}}{24} + \\frac{\\rho u_{2}}{4} u_{1}^{2} + \\frac{\\rho u_{1}^{2}}{12} - \\frac{\\rho u_{1}}{4} u_{2}^{2} - \\frac{\\rho u_{1}}{4} u_{2} - \\frac{\\rho u_{1}}{12} + \\frac{\\rho u_{2}^{2}}{12} + \\frac{\\rho u_{2}}{12} + \\frac{\\rho}{36} & \\frac{\\rho u_{2}}{4} u_{0}^{2} + \\frac{\\rho u_{0}^{2}}{12} + \\frac{\\rho u_{0}}{8} u_{1}^{2} - \\frac{\\rho u_{0}}{4} u_{2}^{2} - \\frac{\\rho u_{0}}{4} u_{2} - \\frac{\\rho u_{0}}{12} - \\frac{\\rho u_{2}}{8} u_{1}^{2} - \\frac{\\rho u_{1}^{2}}{24} + \\frac{\\rho u_{2}^{2}}{12} + \\frac{\\rho u_{2}}{12} + \\frac{\\rho}{36} & \\frac{\\rho u_{2}}{4} u_{0}^{2} + \\frac{\\rho u_{0}^{2}}{12} - \\frac{\\rho u_{0}}{8} u_{1}^{2} + \\frac{\\rho u_{0}}{4} u_{2}^{2} + \\frac{\\rho u_{0}}{4} u_{2} + \\frac{\\rho u_{0}}{12} - \\frac{\\rho u_{2}}{8} u_{1}^{2} - \\frac{\\rho u_{1}^{2}}{24} + \\frac{\\rho u_{2}^{2}}{12} + \\frac{\\rho u_{2}}{12} + \\frac{\\rho}{36} & - \\frac{\\rho u_{1}}{8} u_{0}^{2} + \\frac{\\rho u_{2}}{8} u_{0}^{2} - \\frac{\\rho u_{0}^{2}}{24} - \\frac{\\rho u_{2}}{4} u_{1}^{2} + \\frac{\\rho u_{1}^{2}}{12} + \\frac{\\rho u_{1}}{4} u_{2}^{2} - \\frac{\\rho u_{1}}{4} u_{2} + \\frac{\\rho u_{1}}{12} + \\frac{\\rho u_{2}^{2}}{12} - \\frac{\\rho u_{2}}{12} + \\frac{\\rho}{36} & \\frac{\\rho u_{1}}{8} u_{0}^{2} + \\frac{\\rho u_{2}}{8} u_{0}^{2} - \\frac{\\rho u_{0}^{2}}{24} - \\frac{\\rho u_{2}}{4} u_{1}^{2} + \\frac{\\rho u_{1}^{2}}{12} - \\frac{\\rho u_{1}}{4} u_{2}^{2} + \\frac{\\rho u_{1}}{4} u_{2} - \\frac{\\rho u_{1}}{12} + \\frac{\\rho u_{2}^{2}}{12} - \\frac{\\rho u_{2}}{12} + \\frac{\\rho}{36} & - \\frac{\\rho u_{2}}{4} u_{0}^{2} + \\frac{\\rho u_{0}^{2}}{12} + \\frac{\\rho u_{0}}{8} u_{1}^{2} - \\frac{\\rho u_{0}}{4} u_{2}^{2} + \\frac{\\rho u_{0}}{4} u_{2} - \\frac{\\rho u_{0}}{12} + \\frac{\\rho u_{2}}{8} u_{1}^{2} - \\frac{\\rho u_{1}^{2}}{24} + \\frac{\\rho u_{2}^{2}}{12} - \\frac{\\rho u_{2}}{12} + \\frac{\\rho}{36} & - \\frac{\\rho u_{2}}{4} u_{0}^{2} + \\frac{\\rho u_{0}^{2}}{12} - \\frac{\\rho u_{0}}{8} u_{1}^{2} + \\frac{\\rho u_{0}}{4} u_{2}^{2} - \\frac{\\rho u_{0}}{4} u_{2} + \\frac{\\rho u_{0}}{12} + \\frac{\\rho u_{2}}{8} u_{1}^{2} - \\frac{\\rho u_{1}^{2}}{24} + \\frac{\\rho u_{2}^{2}}{12} - \\frac{\\rho u_{2}}{12} + \\frac{\\rho}{36}\\end{array}\\right]$$"
      ],
      "text/plain": [
       "⎡         (0, 0, 0)                                   (0, 1, 0)               \n",
       "⎢                                                                             \n",
       "⎢      2       2       2            2          2       2          2           \n",
       "⎢  ρ⋅u₀    ρ⋅u₁    ρ⋅u₂    ρ    ρ⋅u₀ ⋅u₁   ρ⋅u₀    ρ⋅u₁    ρ⋅u₁⋅u₂    ρ⋅u₁   ρ\n",
       "⎢- ───── - ───── - ───── + ─  - ──────── - ───── + ───── - ──────── + ──── - ─\n",
       "⎢    3       3       3     3       2         6       6        2        6      \n",
       "⎢                                                                             \n",
       "⎢      2       2       2            2          2       2          2           \n",
       "⎢  ρ⋅u₀    ρ⋅u₁    ρ⋅u₂    ρ    ρ⋅u₀ ⋅u₁   ρ⋅u₀    ρ⋅u₁    ρ⋅u₁⋅u₂    ρ⋅u₁   ρ\n",
       "⎢- ───── - ───── - ───── + ─  - ──────── - ───── + ───── - ──────── + ──── - ─\n",
       "⎣    2       2       2     3       4         12      6        4        6      \n",
       "\n",
       "                                 (0, -1, 0)                                   \n",
       "                                                                              \n",
       "   2           2          2       2          2              2           2     \n",
       "⋅u₂    ρ   ρ⋅u₀ ⋅u₁   ρ⋅u₀    ρ⋅u₁    ρ⋅u₁⋅u₂    ρ⋅u₁   ρ⋅u₂    ρ   ρ⋅u₀    ρ⋅\n",
       "──── + ──  ──────── - ───── + ───── + ──────── - ──── - ───── + ──  ───── + ──\n",
       " 6     18     2         6       6        2        6       6     18    6       \n",
       "                                                                              \n",
       "   2           2          2       2          2              2           2     \n",
       "⋅u₂    ρ   ρ⋅u₀ ⋅u₁   ρ⋅u₀    ρ⋅u₁    ρ⋅u₁⋅u₂    ρ⋅u₁   ρ⋅u₂    ρ   ρ⋅u₀    ρ⋅\n",
       "──── + ──  ──────── - ───── + ───── + ──────── - ──── - ───── + ──  ───── + ──\n",
       " 12    18     4         12      6        4        6       12    18    6       \n",
       "\n",
       "            (-1, 0, 0)                                                (1, 0, 0\n",
       "                                                                              \n",
       "     2          2              2       2           2          2          2    \n",
       "u₀⋅u₁    ρ⋅u₀⋅u₂    ρ⋅u₀   ρ⋅u₁    ρ⋅u₂    ρ   ρ⋅u₀    ρ⋅u₀⋅u₁    ρ⋅u₀⋅u₂    ρ\n",
       "────── + ──────── - ──── - ───── - ───── + ──  ───── - ──────── - ──────── + ─\n",
       " 2          2        6       6       6     18    6        2          2        \n",
       "                                                                              \n",
       "     2          2              2       2           2          2          2    \n",
       "u₀⋅u₁    ρ⋅u₀⋅u₂    ρ⋅u₀   ρ⋅u₁    ρ⋅u₂    ρ   ρ⋅u₀    ρ⋅u₀⋅u₁    ρ⋅u₀⋅u₂    ρ\n",
       "────── + ──────── - ──── - ───── - ───── + ──  ───── - ──────── - ──────── + ─\n",
       " 4          4        6       12      12    18    6        4          4        \n",
       "\n",
       ")                                                 (0, 0, 1)                   \n",
       "                                                                              \n",
       "          2       2             2          2       2          2       2       \n",
       "⋅u₀   ρ⋅u₁    ρ⋅u₂    ρ     ρ⋅u₀ ⋅u₂   ρ⋅u₀    ρ⋅u₁ ⋅u₂   ρ⋅u₁    ρ⋅u₂    ρ⋅u₂\n",
       "─── - ───── - ───── + ──  - ──────── - ───── - ──────── - ───── + ───── + ────\n",
       "6       6       6     18       2         6        2         6       6      6  \n",
       "                                                                              \n",
       "          2       2             2          2       2          2       2       \n",
       "⋅u₀   ρ⋅u₁    ρ⋅u₂    ρ     ρ⋅u₀ ⋅u₂   ρ⋅u₀    ρ⋅u₁ ⋅u₂   ρ⋅u₁    ρ⋅u₂    ρ⋅u₂\n",
       "─── - ───── - ───── + ──  - ──────── - ───── - ──────── - ───── + ───── + ────\n",
       "6       12      12    18       4         12       4         12      6      6  \n",
       "\n",
       "                             (0, 0, -1)                                       \n",
       "                                                                              \n",
       "           2          2       2          2       2                            \n",
       "   ρ   ρ⋅u₀ ⋅u₂   ρ⋅u₀    ρ⋅u₁ ⋅u₂   ρ⋅u₁    ρ⋅u₂    ρ⋅u₂   ρ                 \n",
       " + ──  ──────── - ───── + ──────── - ───── + ───── - ──── + ──                \n",
       "   18     2         6        2         6       6      6     18                \n",
       "                                                                              \n",
       "           2          2       2          2       2                  2         \n",
       "   ρ   ρ⋅u₀ ⋅u₂   ρ⋅u₀    ρ⋅u₁ ⋅u₂   ρ⋅u₁    ρ⋅u₂    ρ⋅u₂   ρ   ρ⋅u₀ ⋅u₁   ρ⋅u\n",
       " + ──  ──────── - ───── + ──────── - ───── + ───── - ──── + ──  ──────── + ───\n",
       "   18     4         12       4         12      6      6     18     4         1\n",
       "\n",
       "                            (-1, 1, 0)                                        \n",
       "                                                                              \n",
       "     2          2          2                        2                         \n",
       " ρ⋅u₀ ⋅u₁   ρ⋅u₀    ρ⋅u₀⋅u₁    ρ⋅u₀⋅u₁   ρ⋅u₀   ρ⋅u₁    ρ⋅u₁   ρ              \n",
       " ──────── + ───── - ──────── - ─────── - ──── + ───── + ──── + ──             \n",
       "    4         12       4          4       12      12     12    36             \n",
       "                                                                              \n",
       " 2          2                    2              2          2              2   \n",
       "₀    ρ⋅u₀⋅u₁    ρ⋅u₀⋅u₁   ρ⋅u₀⋅u₂    ρ⋅u₀   ρ⋅u₁    ρ⋅u₁⋅u₂    ρ⋅u₁   ρ⋅u₂    \n",
       "── - ──────── - ─────── + ──────── - ──── + ───── - ──────── + ──── - ───── + \n",
       "2       4          4         8        12      12       8        12      24    \n",
       "\n",
       "                                              (1, 1, 0)                       \n",
       "                                                                              \n",
       "                       2          2          2                        2       \n",
       "                   ρ⋅u₀ ⋅u₁   ρ⋅u₀    ρ⋅u₀⋅u₁    ρ⋅u₀⋅u₁   ρ⋅u₀   ρ⋅u₁    ρ⋅u₁\n",
       "                   ──────── + ───── + ──────── + ─────── + ──── + ───── + ────\n",
       "                      4         12       4          4       12      12     12 \n",
       "                                                                              \n",
       "        2          2          2                    2              2          2\n",
       "ρ   ρ⋅u₀ ⋅u₁   ρ⋅u₀    ρ⋅u₀⋅u₁    ρ⋅u₀⋅u₁   ρ⋅u₀⋅u₂    ρ⋅u₀   ρ⋅u₁    ρ⋅u₁⋅u₂ \n",
       "──  ──────── + ───── + ──────── + ─────── - ──────── + ──── + ───── - ────────\n",
       "36     4         12       4          4         8        12      12       8    \n",
       "\n",
       "                                                                (-1, -1, 0)   \n",
       "                                                                              \n",
       "                                           2          2          2            \n",
       "   ρ                                   ρ⋅u₀ ⋅u₁   ρ⋅u₀    ρ⋅u₀⋅u₁    ρ⋅u₀⋅u₁  \n",
       " + ──                                - ──────── + ───── - ──────── + ─────── -\n",
       "   36                                     4         12       4          4     \n",
       "                                                                              \n",
       "              2             2          2          2                    2      \n",
       "   ρ⋅u₁   ρ⋅u₂    ρ     ρ⋅u₀ ⋅u₁   ρ⋅u₀    ρ⋅u₀⋅u₁    ρ⋅u₀⋅u₁   ρ⋅u₀⋅u₂    ρ⋅u\n",
       " + ──── - ───── + ──  - ──────── + ───── - ──────── + ─────── + ──────── - ───\n",
       "    12      24    36       4         12       4          4         8        12\n",
       "\n",
       "                                                                              \n",
       "                                                                              \n",
       "            2                                                  2          2   \n",
       " ρ⋅u₀   ρ⋅u₁    ρ⋅u₁   ρ                                   ρ⋅u₀ ⋅u₁   ρ⋅u₀    \n",
       " ──── + ───── - ──── + ──                                - ──────── + ───── + \n",
       "  12      12     12    36                                     4         12    \n",
       "                                                                              \n",
       "        2          2              2             2          2          2       \n",
       "₀   ρ⋅u₁    ρ⋅u₁⋅u₂    ρ⋅u₁   ρ⋅u₂    ρ     ρ⋅u₀ ⋅u₁   ρ⋅u₀    ρ⋅u₀⋅u₁    ρ⋅u₀\n",
       "─ + ───── + ──────── - ──── - ───── + ──  - ──────── + ───── + ──────── - ────\n",
       "      12       8        12      24    36       4         12       4          4\n",
       "\n",
       "       (1, -1, 0)                                                             \n",
       "                                                                              \n",
       "       2                        2                                             \n",
       "ρ⋅u₀⋅u₁    ρ⋅u₀⋅u₁   ρ⋅u₀   ρ⋅u₁    ρ⋅u₁   ρ                                  \n",
       "──────── - ─────── + ──── + ───── - ──── + ──                                 \n",
       "   4          4       12      12     12    36                                 \n",
       "                                                                              \n",
       "             2              2          2              2             2         \n",
       "⋅u₁   ρ⋅u₀⋅u₂    ρ⋅u₀   ρ⋅u₁    ρ⋅u₁⋅u₂    ρ⋅u₁   ρ⋅u₂    ρ     ρ⋅u₀ ⋅u₁   ρ⋅u\n",
       "─── - ──────── + ──── + ───── + ──────── - ──── - ───── + ──  - ──────── - ───\n",
       "         8        12      12       8        12      24    36       8          \n",
       "\n",
       "                           (0, 1, 1)                                          \n",
       "                                                                              \n",
       "    2          2          2                        2                          \n",
       "ρ⋅u₁ ⋅u₂   ρ⋅u₁    ρ⋅u₁⋅u₂    ρ⋅u₁⋅u₂   ρ⋅u₁   ρ⋅u₂    ρ⋅u₂   ρ               \n",
       "──────── + ───── + ──────── + ─────── + ──── + ───── + ──── + ──              \n",
       "   4         12       4          4       12      12     12    36              \n",
       "                                                                              \n",
       " 2          2       2          2          2                        2          \n",
       "₀ ⋅u₂   ρ⋅u₀    ρ⋅u₁ ⋅u₂   ρ⋅u₁    ρ⋅u₁⋅u₂    ρ⋅u₁⋅u₂   ρ⋅u₁   ρ⋅u₂    ρ⋅u₂   \n",
       "───── - ───── + ──────── + ───── + ──────── + ─────── + ──── + ───── + ──── + \n",
       "8         24       4         12       4          4       12      12     12    \n",
       "\n",
       "                                              (0, -1, 1)                      \n",
       "                                                                              \n",
       "                       2          2          2                        2       \n",
       "                   ρ⋅u₁ ⋅u₂   ρ⋅u₁    ρ⋅u₁⋅u₂    ρ⋅u₁⋅u₂   ρ⋅u₁   ρ⋅u₂    ρ⋅u₂\n",
       "                   ──────── + ───── - ──────── - ─────── - ──── + ───── + ────\n",
       "                      4         12       4          4       12      12     12 \n",
       "                                                                              \n",
       "        2          2          2       2          2          2                 \n",
       "ρ   ρ⋅u₀ ⋅u₁   ρ⋅u₀ ⋅u₂   ρ⋅u₀    ρ⋅u₁ ⋅u₂   ρ⋅u₁    ρ⋅u₁⋅u₂    ρ⋅u₁⋅u₂   ρ⋅u₁\n",
       "──  ──────── - ──────── - ───── + ──────── + ───── - ──────── - ─────── - ────\n",
       "36     8          8         24       4         12       4          4       12 \n",
       "\n",
       "                                                                (-1, 0, 1)    \n",
       "                                                                              \n",
       "                                         2          2          2              \n",
       "   ρ                                 ρ⋅u₀ ⋅u₂   ρ⋅u₀    ρ⋅u₀⋅u₂    ρ⋅u₀⋅u₂   ρ\n",
       " + ──                                ──────── + ───── - ──────── - ─────── - ─\n",
       "   36                                   4         12       4          4       \n",
       "                                                                              \n",
       "       2                  2          2          2          2                  \n",
       "   ρ⋅u₂    ρ⋅u₂   ρ   ρ⋅u₀ ⋅u₂   ρ⋅u₀    ρ⋅u₀⋅u₁    ρ⋅u₀⋅u₂    ρ⋅u₀⋅u₂   ρ⋅u₀ \n",
       " + ───── + ──── + ──  ──────── + ───── + ──────── - ──────── - ─────── - ──── \n",
       "     12     12    36     4         12       8          4          4       12  \n",
       "\n",
       "                                                                              \n",
       "                                                                              \n",
       "          2                                                2          2       \n",
       "⋅u₀   ρ⋅u₂    ρ⋅u₂   ρ                                 ρ⋅u₀ ⋅u₂   ρ⋅u₀    ρ⋅u₀\n",
       "─── + ───── + ──── + ──                                ──────── + ───── + ────\n",
       "12      12     12    36                                   4         12       4\n",
       "                                                                              \n",
       "      2          2       2                  2          2          2          2\n",
       "  ρ⋅u₁ ⋅u₂   ρ⋅u₁    ρ⋅u₂    ρ⋅u₂   ρ   ρ⋅u₀ ⋅u₂   ρ⋅u₀    ρ⋅u₀⋅u₁    ρ⋅u₀⋅u₂ \n",
       "- ──────── - ───── + ───── + ──── + ──  ──────── + ───── - ──────── + ────────\n",
       "     8         24      12     12    36     4         12       8          4    \n",
       "\n",
       "    (1, 0, 1)                                                                 \n",
       "                                                                              \n",
       "   2                        2                                                 \n",
       "⋅u₂    ρ⋅u₀⋅u₂   ρ⋅u₀   ρ⋅u₂    ρ⋅u₂   ρ                                   ρ⋅u\n",
       "──── + ─────── + ──── + ───── + ──── + ──                                - ───\n",
       "          4       12      12     12    36                                     \n",
       "                                                                              \n",
       "                        2          2       2                    2          2  \n",
       "   ρ⋅u₀⋅u₂   ρ⋅u₀   ρ⋅u₁ ⋅u₂   ρ⋅u₁    ρ⋅u₂    ρ⋅u₂   ρ     ρ⋅u₀ ⋅u₁   ρ⋅u₀ ⋅u\n",
       " + ─────── + ──── - ──────── - ───── + ───── + ──── + ──  - ──────── + ───────\n",
       "      4       12       8         24      12     12    36       8          8   \n",
       "\n",
       "                       (0, 1, -1)                                             \n",
       "                                                                              \n",
       " 2          2          2                        2                             \n",
       "₁ ⋅u₂   ρ⋅u₁    ρ⋅u₁⋅u₂    ρ⋅u₁⋅u₂   ρ⋅u₁   ρ⋅u₂    ρ⋅u₂   ρ                  \n",
       "───── + ───── + ──────── - ─────── + ──── + ───── - ──── + ──                 \n",
       "4         12       4          4       12      12     12    36                 \n",
       "                                                                              \n",
       "        2       2          2          2                        2              \n",
       "₂   ρ⋅u₀    ρ⋅u₁ ⋅u₂   ρ⋅u₁    ρ⋅u₁⋅u₂    ρ⋅u₁⋅u₂   ρ⋅u₁   ρ⋅u₂    ρ⋅u₂   ρ   \n",
       "─ - ───── - ──────── + ───── + ──────── - ─────── + ──── + ───── - ──── + ──  \n",
       "      24       4         12       4          4       12      12     12    36  \n",
       "\n",
       "                                         (0, -1, -1)                          \n",
       "                                                                              \n",
       "                    2          2          2                        2          \n",
       "                ρ⋅u₁ ⋅u₂   ρ⋅u₁    ρ⋅u₁⋅u₂    ρ⋅u₁⋅u₂   ρ⋅u₁   ρ⋅u₂    ρ⋅u₂   \n",
       "              - ──────── + ───── - ──────── + ─────── - ──── + ───── - ──── + \n",
       "                   4         12       4          4       12      12     12    \n",
       "                                                                              \n",
       "    2          2          2       2          2          2                     \n",
       "ρ⋅u₀ ⋅u₁   ρ⋅u₀ ⋅u₂   ρ⋅u₀    ρ⋅u₁ ⋅u₂   ρ⋅u₁    ρ⋅u₁⋅u₂    ρ⋅u₁⋅u₂   ρ⋅u₁   ρ\n",
       "──────── + ──────── - ───── - ──────── + ───── - ──────── + ─────── - ──── + ─\n",
       "   8          8         24       4         12       4          4       12     \n",
       "\n",
       "                                                            (-1, 0, -1)       \n",
       "                                                                              \n",
       "                                       2          2          2                \n",
       "ρ                                  ρ⋅u₀ ⋅u₂   ρ⋅u₀    ρ⋅u₀⋅u₂    ρ⋅u₀⋅u₂   ρ⋅u\n",
       "──                               - ──────── + ───── - ──────── + ─────── - ───\n",
       "36                                    4         12       4          4       12\n",
       "                                                                              \n",
       "   2                    2          2          2          2                    \n",
       "⋅u₂    ρ⋅u₂   ρ     ρ⋅u₀ ⋅u₂   ρ⋅u₀    ρ⋅u₀⋅u₁    ρ⋅u₀⋅u₂    ρ⋅u₀⋅u₂   ρ⋅u₀   \n",
       "──── - ──── + ──  - ──────── + ───── + ──────── - ──────── + ─────── - ──── + \n",
       " 12     12    36       4         12       8          4          4       12    \n",
       "\n",
       "                                                                              \n",
       "                                                                              \n",
       "        2                                                  2          2       \n",
       "₀   ρ⋅u₂    ρ⋅u₂   ρ                                   ρ⋅u₀ ⋅u₂   ρ⋅u₀    ρ⋅u₀\n",
       "─ + ───── - ──── + ──                                - ──────── + ───── + ────\n",
       "      12     12    36                                     4         12       4\n",
       "                                                                              \n",
       "    2          2       2                    2          2          2          2\n",
       "ρ⋅u₁ ⋅u₂   ρ⋅u₁    ρ⋅u₂    ρ⋅u₂   ρ     ρ⋅u₀ ⋅u₂   ρ⋅u₀    ρ⋅u₀⋅u₁    ρ⋅u₀⋅u₂ \n",
       "──────── - ───── + ───── - ──── + ──  - ──────── + ───── - ──────── + ────────\n",
       "   8         24      12     12    36       4         12       8          4    \n",
       "\n",
       "   (1, 0, -1)                                           ⎤\n",
       "                                                        ⎥\n",
       "   2                        2                           ⎥\n",
       "⋅u₂    ρ⋅u₀⋅u₂   ρ⋅u₀   ρ⋅u₂    ρ⋅u₂   ρ                ⎥\n",
       "──── - ─────── + ──── + ───── - ──── + ──               ⎥\n",
       "          4       12      12     12    36               ⎥\n",
       "                                                        ⎥\n",
       "                        2          2       2            ⎥\n",
       "   ρ⋅u₀⋅u₂   ρ⋅u₀   ρ⋅u₁ ⋅u₂   ρ⋅u₁    ρ⋅u₂    ρ⋅u₂   ρ ⎥\n",
       " - ─────── + ──── + ──────── - ───── + ───── - ──── + ──⎥\n",
       "      4       12       8         24      12     12    36⎦"
      ]
     },
     "execution_count": 23,
     "metadata": {},
     "output_type": "execute_result"
    }
   ],
   "source": [
    "d3q19_eq_moments = getMomentsOfContinuousMaxwellianEquilibrium(d3q19moments, dim=3, order=3, c_s_sq=frac(1,3))\n",
    "M_D3Q19 = momentMatrix(moments=d3q19moments, stencil=D3Q19)\n",
    "improvedD3Q19 = M_D3Q19.inv() * sp.Matrix(d3q19_eq_moments)\n",
    "\n",
    "standardD3Q19 = sp.Matrix(discreteMaxwellianEquilibrium(D3Q19, order=3)).expand()\n",
    "\n",
    "sp.Matrix([D3Q19, improvedD3Q19.T, standardD3Q19.T])"
   ]
  },
  {
   "cell_type": "markdown",
   "metadata": {},
   "source": [
    "For isothermal hydrodynamic simulations the second order truncated equilibrium is usually sufficient and is computationally less expensive.\n",
    "\n",
    "Finally we compare the moments of both equilibra. Since our new equilibrium has the same moments as the Maxwellian, we effectively compare the differences of the standard equilibrium moments to Maxwellian moments."
   ]
  },
  {
   "cell_type": "code",
   "execution_count": 24,
   "metadata": {},
   "outputs": [
    {
     "data": {
      "image/png": "[encoded data removed]",
      "text/latex": [
       "$$\\left[\\begin{array}{ccccccccccccccccccc}1 & y^{2} & x^{2} z^{2} & x & y z & x^{2} y^{2} & y^{2} z^{2} & y & y z^{2} & y^{2} z & x^{2} z & x y^{2} & x z & x^{2} & x y & z^{2} & x z^{2} & z & x^{2} y\\\\\\rho & \\rho u_{1}^{2} + \\frac{\\rho}{3} & \\frac{\\rho u_{0}^{2}}{3} + \\frac{\\rho u_{2}^{2}}{3} + \\frac{\\rho}{9} & \\rho u_{0} & \\rho u_{1} u_{2} & \\frac{\\rho u_{0}^{2}}{3} + \\frac{\\rho u_{1}^{2}}{3} + \\frac{\\rho}{9} & \\frac{\\rho u_{1}^{2}}{3} + \\frac{\\rho u_{2}^{2}}{3} + \\frac{\\rho}{9} & \\rho u_{1} & \\frac{\\rho u_{1}}{3} & \\frac{\\rho u_{2}}{3} & \\frac{\\rho u_{2}}{3} & \\frac{\\rho u_{0}}{3} & \\rho u_{0} u_{2} & \\rho u_{0}^{2} + \\frac{\\rho}{3} & \\rho u_{0} u_{1} & \\rho u_{2}^{2} + \\frac{\\rho}{3} & \\frac{\\rho u_{0}}{3} & \\rho u_{2} & \\frac{\\rho u_{1}}{3}\\\\\\rho & \\rho u_{1}^{2} + \\frac{\\rho}{3} & \\frac{\\rho u_{0}^{2}}{3} - \\frac{\\rho u_{1}^{2}}{6} + \\frac{\\rho u_{2}^{2}}{3} + \\frac{\\rho}{9} & \\rho u_{0} & \\rho u_{1} u_{2} & \\frac{\\rho u_{0}^{2}}{3} + \\frac{\\rho u_{1}^{2}}{3} - \\frac{\\rho u_{2}^{2}}{6} + \\frac{\\rho}{9} & - \\frac{\\rho u_{0}^{2}}{6} + \\frac{\\rho u_{1}^{2}}{3} + \\frac{\\rho u_{2}^{2}}{3} + \\frac{\\rho}{9} & \\rho u_{1} & \\frac{\\rho u_{1}}{3} & \\frac{\\rho u_{2}}{3} & \\frac{\\rho u_{2}}{3} & \\frac{\\rho u_{0}}{3} & \\rho u_{0} u_{2} & \\rho u_{0}^{2} + \\frac{\\rho}{3} & \\rho u_{0} u_{1} & \\rho u_{2}^{2} + \\frac{\\rho}{3} & \\frac{\\rho u_{0}}{3} & \\rho u_{2} & \\frac{\\rho u_{1}}{3}\\end{array}\\right]$$"
      ],
      "text/plain": [
       "⎡       2                 2  2                                      2  2      \n",
       "⎢1     y                 x ⋅z              x      y⋅z              x ⋅y       \n",
       "⎢                                                                             \n",
       "⎢                      2       2                                 2       2    \n",
       "⎢       2   ρ      ρ⋅u₀    ρ⋅u₂    ρ                         ρ⋅u₀    ρ⋅u₁    ρ\n",
       "⎢ρ  ρ⋅u₁  + ─      ───── + ───── + ─      ρ⋅u₀  ρ⋅u₁⋅u₂      ───── + ───── + ─\n",
       "⎢           3        3       3     9                           3       3     9\n",
       "⎢                                                                             \n",
       "⎢                  2       2       2                         2       2       2\n",
       "⎢       2   ρ  ρ⋅u₀    ρ⋅u₁    ρ⋅u₂    ρ                 ρ⋅u₀    ρ⋅u₁    ρ⋅u₂ \n",
       "⎢ρ  ρ⋅u₁  + ─  ───── - ───── + ───── + ─  ρ⋅u₀  ρ⋅u₁⋅u₂  ───── + ───── - ─────\n",
       "⎣           3    3       6       3     9                   3       3       6  \n",
       "\n",
       "                  2  2                      2   2     2       2               \n",
       "                 y ⋅z               y    y⋅z   y ⋅z  x ⋅z  x⋅y     x⋅z       x\n",
       "                                                                              \n",
       "               2       2                                                      \n",
       "           ρ⋅u₁    ρ⋅u₂    ρ             ρ⋅u₁  ρ⋅u₂  ρ⋅u₂  ρ⋅u₀               \n",
       "           ───── + ───── + ─       ρ⋅u₁  ────  ────  ────  ────  ρ⋅u₀⋅u₂  ρ⋅u₀\n",
       "             3       3     9              3     3     3     3                 \n",
       "                                                                              \n",
       "            2       2       2                                                 \n",
       "   ρ    ρ⋅u₀    ρ⋅u₁    ρ⋅u₂    ρ        ρ⋅u₁  ρ⋅u₂  ρ⋅u₂  ρ⋅u₀               \n",
       " + ─  - ───── + ───── + ───── + ─  ρ⋅u₁  ────  ────  ────  ────  ρ⋅u₀⋅u₂  ρ⋅u₀\n",
       "   9      6       3       3     9         3     3     3     3                 \n",
       "\n",
       "2                   2         2         2  ⎤\n",
       "         x⋅y       z       x⋅z    z    x ⋅y⎥\n",
       "                                           ⎥\n",
       "                                           ⎥\n",
       "2   ρ               2   ρ  ρ⋅u₀        ρ⋅u₁⎥\n",
       "  + ─  ρ⋅u₀⋅u₁  ρ⋅u₂  + ─  ────  ρ⋅u₂  ────⎥\n",
       "    3                   3   3           3  ⎥\n",
       "                                           ⎥\n",
       "                                           ⎥\n",
       "2   ρ               2   ρ  ρ⋅u₀        ρ⋅u₁⎥\n",
       "  + ─  ρ⋅u₀⋅u₁  ρ⋅u₂  + ─  ────  ρ⋅u₂  ────⎥\n",
       "    3                   3   3           3  ⎦"
      ]
     },
     "execution_count": 24,
     "metadata": {},
     "output_type": "execute_result"
    }
   ],
   "source": [
    "comparisonOrder=2\n",
    "\n",
    "sp.Matrix([d3q19moments,  \n",
    "           getMomentsOfContinuousMaxwellianEquilibrium(d3q19moments, dim=3, c_s_sq=frac(1,3), order=comparisonOrder),\n",
    "           getMomentsOfDiscreteMaxwellianEquilibrium(D3Q19, d3q19moments, order=comparisonOrder)]).expand()"
   ]
  },
  {
   "cell_type": "markdown",
   "metadata": {},
   "source": [
    "When comparing only up to velocity truncation order 2, the only difference are the forth order moments.\n",
    "At velocity truncation order 3, as is shown in the next cell, also the values of third order moments are different."
   ]
  },
  {
   "cell_type": "code",
   "execution_count": 25,
   "metadata": {},
   "outputs": [
    {
     "data": {
      "image/png": "[encoded data removed]",
      "text/latex": [
       "$$\\left[\\begin{array}{ccccccccccccccccccc}1 & y^{2} & x^{2} z^{2} & x & y z & x^{2} y^{2} & y^{2} z^{2} & y & y z^{2} & y^{2} z & x^{2} z & x y^{2} & x z & x^{2} & x y & z^{2} & x z^{2} & z & x^{2} y\\\\\\rho & \\rho u_{1}^{2} + \\frac{\\rho}{3} & \\frac{\\rho u_{0}^{2}}{3} + \\frac{\\rho u_{2}^{2}}{3} + \\frac{\\rho}{9} & \\rho u_{0} & \\rho u_{1} u_{2} & \\frac{\\rho u_{0}^{2}}{3} + \\frac{\\rho u_{1}^{2}}{3} + \\frac{\\rho}{9} & \\frac{\\rho u_{1}^{2}}{3} + \\frac{\\rho u_{2}^{2}}{3} + \\frac{\\rho}{9} & \\rho u_{1} & \\rho u_{1} u_{2}^{2} + \\frac{\\rho u_{1}}{3} & \\rho u_{1}^{2} u_{2} + \\frac{\\rho u_{2}}{3} & \\rho u_{0}^{2} u_{2} + \\frac{\\rho u_{2}}{3} & \\rho u_{0} u_{1}^{2} + \\frac{\\rho u_{0}}{3} & \\rho u_{0} u_{2} & \\rho u_{0}^{2} + \\frac{\\rho}{3} & \\rho u_{0} u_{1} & \\rho u_{2}^{2} + \\frac{\\rho}{3} & \\rho u_{0} u_{2}^{2} + \\frac{\\rho u_{0}}{3} & \\rho u_{2} & \\rho u_{0}^{2} u_{1} + \\frac{\\rho u_{1}}{3}\\\\\\rho & \\rho u_{1}^{2} + \\frac{\\rho}{3} & \\frac{\\rho u_{0}^{2}}{3} - \\frac{\\rho u_{1}^{2}}{6} + \\frac{\\rho u_{2}^{2}}{3} + \\frac{\\rho}{9} & \\rho u_{0} & \\rho u_{1} u_{2} & \\frac{\\rho u_{0}^{2}}{3} + \\frac{\\rho u_{1}^{2}}{3} - \\frac{\\rho u_{2}^{2}}{6} + \\frac{\\rho}{9} & - \\frac{\\rho u_{0}^{2}}{6} + \\frac{\\rho u_{1}^{2}}{3} + \\frac{\\rho u_{2}^{2}}{3} + \\frac{\\rho}{9} & \\rho u_{1} & - \\frac{\\rho u_{1}}{2} u_{0}^{2} + \\rho u_{1} u_{2}^{2} + \\frac{\\rho u_{1}}{3} & - \\frac{\\rho u_{2}}{2} u_{0}^{2} + \\rho u_{1}^{2} u_{2} + \\frac{\\rho u_{2}}{3} & \\rho u_{0}^{2} u_{2} - \\frac{\\rho u_{2}}{2} u_{1}^{2} + \\frac{\\rho u_{2}}{3} & \\rho u_{0} u_{1}^{2} - \\frac{\\rho u_{0}}{2} u_{2}^{2} + \\frac{\\rho u_{0}}{3} & \\rho u_{0} u_{2} & \\rho u_{0}^{2} + \\frac{\\rho}{3} & \\rho u_{0} u_{1} & \\rho u_{2}^{2} + \\frac{\\rho}{3} & - \\frac{\\rho u_{0}}{2} u_{1}^{2} + \\rho u_{0} u_{2}^{2} + \\frac{\\rho u_{0}}{3} & \\rho u_{2} & \\rho u_{0}^{2} u_{1} - \\frac{\\rho u_{1}}{2} u_{2}^{2} + \\frac{\\rho u_{1}}{3}\\end{array}\\right]$$"
      ],
      "text/plain": [
       "⎡       2                 2  2                                      2  2      \n",
       "⎢1     y                 x ⋅z              x      y⋅z              x ⋅y       \n",
       "⎢                                                                             \n",
       "⎢                      2       2                                 2       2    \n",
       "⎢       2   ρ      ρ⋅u₀    ρ⋅u₂    ρ                         ρ⋅u₀    ρ⋅u₁    ρ\n",
       "⎢ρ  ρ⋅u₁  + ─      ───── + ───── + ─      ρ⋅u₀  ρ⋅u₁⋅u₂      ───── + ───── + ─\n",
       "⎢           3        3       3     9                           3       3     9\n",
       "⎢                                                                             \n",
       "⎢                  2       2       2                         2       2       2\n",
       "⎢       2   ρ  ρ⋅u₀    ρ⋅u₁    ρ⋅u₂    ρ                 ρ⋅u₀    ρ⋅u₁    ρ⋅u₂ \n",
       "⎢ρ  ρ⋅u₁  + ─  ───── - ───── + ───── + ─  ρ⋅u₀  ρ⋅u₁⋅u₂  ───── + ───── - ─────\n",
       "⎣           3    3       6       3     9                   3       3       6  \n",
       "\n",
       "                  2  2                                  2                     \n",
       "                 y ⋅z               y                y⋅z                      \n",
       "                                                                              \n",
       "               2       2                                                      \n",
       "           ρ⋅u₁    ρ⋅u₂    ρ                          2   ρ⋅u₁                \n",
       "           ───── + ───── + ─       ρ⋅u₁        ρ⋅u₁⋅u₂  + ────               ρ\n",
       "             3       3     9                               3                  \n",
       "                                                                              \n",
       "            2       2       2                  2                             2\n",
       "   ρ    ρ⋅u₀    ρ⋅u₁    ρ⋅u₂    ρ          ρ⋅u₀ ⋅u₁          2   ρ⋅u₁    ρ⋅u₀ \n",
       " + ─  - ───── + ───── + ───── + ─  ρ⋅u₁  - ──────── + ρ⋅u₁⋅u₂  + ────  - ─────\n",
       "   9      6       3       3     9             2                   3         2 \n",
       "\n",
       "      2                            2                             2            \n",
       "     y ⋅z                         x ⋅z                        x⋅y             \n",
       "                                                                              \n",
       "                                                                              \n",
       "   2      ρ⋅u₂                  2      ρ⋅u₂                    2   ρ⋅u₀       \n",
       "⋅u₁ ⋅u₂ + ────              ρ⋅u₀ ⋅u₂ + ────             ρ⋅u₀⋅u₁  + ────       \n",
       "           3                            3                           3         \n",
       "                                                                              \n",
       "                                      2                              2        \n",
       "⋅u₂       2      ρ⋅u₂      2      ρ⋅u₁ ⋅u₂   ρ⋅u₂         2   ρ⋅u₀⋅u₂    ρ⋅u₀ \n",
       "─── + ρ⋅u₁ ⋅u₂ + ────  ρ⋅u₀ ⋅u₂ - ──────── + ────  ρ⋅u₀⋅u₁  - ──────── + ──── \n",
       "                  3                  2        3                  2        3   \n",
       "\n",
       "              2                   2                     2                     \n",
       "   x⋅z       x         x⋅y       z                   x⋅z                z     \n",
       "                                                                              \n",
       "                                                                              \n",
       "              2   ρ               2   ρ               2   ρ⋅u₀                \n",
       " ρ⋅u₀⋅u₂  ρ⋅u₀  + ─  ρ⋅u₀⋅u₁  ρ⋅u₂  + ─        ρ⋅u₀⋅u₂  + ────         ρ⋅u₂   \n",
       "                  3                   3                    3                  \n",
       "                                                                              \n",
       "                                                  2                           \n",
       "              2   ρ               2   ρ    ρ⋅u₀⋅u₁           2   ρ⋅u₀         \n",
       " ρ⋅u₀⋅u₂  ρ⋅u₀  + ─  ρ⋅u₀⋅u₁  ρ⋅u₂  + ─  - ──────── + ρ⋅u₀⋅u₂  + ────  ρ⋅u₂  ρ\n",
       "                  3                   3       2                   3           \n",
       "\n",
       "           2             ⎤\n",
       "          x ⋅y           ⎥\n",
       "                         ⎥\n",
       "                         ⎥\n",
       "        2      ρ⋅u₁      ⎥\n",
       "    ρ⋅u₀ ⋅u₁ + ────      ⎥\n",
       "                3        ⎥\n",
       "                         ⎥\n",
       "                 2       ⎥\n",
       "   2      ρ⋅u₁⋅u₂    ρ⋅u₁⎥\n",
       "⋅u₀ ⋅u₁ - ──────── + ────⎥\n",
       "             2        3  ⎦"
      ]
     },
     "execution_count": 25,
     "metadata": {},
     "output_type": "execute_result"
    }
   ],
   "source": [
    "comparisonOrder=3\n",
    "\n",
    "sp.Matrix([d3q19moments,  \n",
    "           getMomentsOfContinuousMaxwellianEquilibrium(d3q19moments, dim=3, c_s_sq=frac(1,3), order=comparisonOrder),\n",
    "           getMomentsOfDiscreteMaxwellianEquilibrium(D3Q19, d3q19moments, order=comparisonOrder)]).expand()"
   ]
  },
  {
   "cell_type": "markdown",
   "metadata": {},
   "source": [
    "**Incompressible Version**\n",
    "\n",
    "The incompressible version of the equilibrium can be obtained by setting $\\rho=1$ in the Maxwellian moment values. This substitution is only done in terms that contain also factors of the macroscopic velocity components $u_i$. "
   ]
  },
  {
   "cell_type": "code",
   "execution_count": 26,
   "metadata": {},
   "outputs": [
    {
     "data": {
      "image/png": "[encoded data removed]",
      "text/latex": [
       "$$\\left[\\begin{array}{ccccccccccccccccccc}1 & y^{2} & x^{2} z^{2} & x & y z & x^{2} y^{2} & y^{2} z^{2} & y & y z^{2} & y^{2} z & x^{2} z & x y^{2} & x z & x^{2} & x y & z^{2} & x z^{2} & z & x^{2} y\\\\\\rho & \\rho u_{1}^{2} + \\frac{\\rho}{3} & \\frac{\\rho u_{0}^{2}}{3} - \\frac{\\rho u_{1}^{2}}{6} + \\frac{\\rho u_{2}^{2}}{3} + \\frac{\\rho}{9} & \\rho u_{0} & \\rho u_{1} u_{2} & \\frac{\\rho u_{0}^{2}}{3} + \\frac{\\rho u_{1}^{2}}{3} - \\frac{\\rho u_{2}^{2}}{6} + \\frac{\\rho}{9} & - \\frac{\\rho u_{0}^{2}}{6} + \\frac{\\rho u_{1}^{2}}{3} + \\frac{\\rho u_{2}^{2}}{3} + \\frac{\\rho}{9} & \\rho u_{1} & - \\frac{\\rho u_{1}}{2} u_{0}^{2} + \\rho u_{1} u_{2}^{2} + \\frac{\\rho u_{1}}{3} & - \\frac{\\rho u_{2}}{2} u_{0}^{2} + \\rho u_{1}^{2} u_{2} + \\frac{\\rho u_{2}}{3} & \\rho u_{0}^{2} u_{2} - \\frac{\\rho u_{2}}{2} u_{1}^{2} + \\frac{\\rho u_{2}}{3} & \\rho u_{0} u_{1}^{2} - \\frac{\\rho u_{0}}{2} u_{2}^{2} + \\frac{\\rho u_{0}}{3} & \\rho u_{0} u_{2} & \\rho u_{0}^{2} + \\frac{\\rho}{3} & \\rho u_{0} u_{1} & \\rho u_{2}^{2} + \\frac{\\rho}{3} & - \\frac{\\rho u_{0}}{2} u_{1}^{2} + \\rho u_{0} u_{2}^{2} + \\frac{\\rho u_{0}}{3} & \\rho u_{2} & \\rho u_{0}^{2} u_{1} - \\frac{\\rho u_{1}}{2} u_{2}^{2} + \\frac{\\rho u_{1}}{3}\\\\\\rho & \\frac{\\rho}{3} + u_{1}^{2} & \\frac{\\rho}{9} + \\frac{u_{0}^{2}}{3} - \\frac{u_{1}^{2}}{6} + \\frac{u_{2}^{2}}{3} & u_{0} & u_{1} u_{2} & \\frac{\\rho}{9} + \\frac{u_{0}^{2}}{3} + \\frac{u_{1}^{2}}{3} - \\frac{u_{2}^{2}}{6} & \\frac{\\rho}{9} - \\frac{u_{0}^{2}}{6} + \\frac{u_{1}^{2}}{3} + \\frac{u_{2}^{2}}{3} & u_{1} & - \\frac{u_{0}^{2} u_{1}}{2} + u_{1} u_{2}^{2} + \\frac{u_{1}}{3} & - \\frac{u_{0}^{2} u_{2}}{2} + u_{1}^{2} u_{2} + \\frac{u_{2}}{3} & u_{0}^{2} u_{2} - \\frac{u_{1}^{2} u_{2}}{2} + \\frac{u_{2}}{3} & u_{0} u_{1}^{2} - \\frac{u_{0} u_{2}^{2}}{2} + \\frac{u_{0}}{3} & u_{0} u_{2} & \\frac{\\rho}{3} + u_{0}^{2} & u_{0} u_{1} & \\frac{\\rho}{3} + u_{2}^{2} & - \\frac{u_{0} u_{1}^{2}}{2} + u_{0} u_{2}^{2} + \\frac{u_{0}}{3} & u_{2} & u_{0}^{2} u_{1} - \\frac{u_{1} u_{2}^{2}}{2} + \\frac{u_{1}}{3}\\end{array}\\right]$$"
      ],
      "text/plain": [
       "⎡       2                 2  2                                      2  2      \n",
       "⎢1     y                 x ⋅z              x      y⋅z              x ⋅y       \n",
       "⎢                                                                             \n",
       "⎢                  2       2       2                         2       2       2\n",
       "⎢       2   ρ  ρ⋅u₀    ρ⋅u₁    ρ⋅u₂    ρ                 ρ⋅u₀    ρ⋅u₁    ρ⋅u₂ \n",
       "⎢ρ  ρ⋅u₁  + ─  ───── - ───── + ───── + ─  ρ⋅u₀  ρ⋅u₁⋅u₂  ───── + ───── - ─────\n",
       "⎢           3    3       6       3     9                   3       3       6  \n",
       "⎢                                                                             \n",
       "⎢                       2     2     2                             2     2     \n",
       "⎢    ρ     2      ρ   u₀    u₁    u₂                        ρ   u₀    u₁    u₂\n",
       "⎢ρ   ─ + u₁       ─ + ─── - ─── + ───      u₀    u₁⋅u₂      ─ + ─── + ─── - ──\n",
       "⎣    3            9    3     6     3                        9    3     3     6\n",
       "\n",
       "                  2  2                                  2                     \n",
       "                 y ⋅z               y                y⋅z                      \n",
       "                                                                              \n",
       "            2       2       2                  2                             2\n",
       "   ρ    ρ⋅u₀    ρ⋅u₁    ρ⋅u₂    ρ          ρ⋅u₀ ⋅u₁          2   ρ⋅u₁    ρ⋅u₀ \n",
       " + ─  - ───── + ───── + ───── + ─  ρ⋅u₁  - ──────── + ρ⋅u₁⋅u₂  + ────  - ─────\n",
       "   9      6       3       3     9             2                   3         2 \n",
       "                                                                              \n",
       "2               2     2     2                   2                             \n",
       "          ρ   u₀    u₁    u₂                  u₀ ⋅u₁        2   u₁          u₀\n",
       "─         ─ - ─── + ─── + ───       u₁      - ────── + u₁⋅u₂  + ──        - ──\n",
       "          9    6     3     3                    2               3             \n",
       "\n",
       "      2                            2                             2            \n",
       "     y ⋅z                         x ⋅z                        x⋅y             \n",
       "                                                                              \n",
       "                                      2                              2        \n",
       "⋅u₂       2      ρ⋅u₂      2      ρ⋅u₁ ⋅u₂   ρ⋅u₂         2   ρ⋅u₀⋅u₂    ρ⋅u₀ \n",
       "─── + ρ⋅u₁ ⋅u₂ + ────  ρ⋅u₀ ⋅u₂ - ──────── + ────  ρ⋅u₀⋅u₁  - ──────── + ──── \n",
       "                  3                  2        3                  2        3   \n",
       "                                                                              \n",
       "2                                    2                              2         \n",
       " ⋅u₂     2      u₂          2      u₁ ⋅u₂   u₂             2   u₀⋅u₂    u₀    \n",
       "──── + u₁ ⋅u₂ + ──        u₀ ⋅u₂ - ────── + ──        u₀⋅u₁  - ────── + ──    \n",
       "2               3                    2      3                    2      3     \n",
       "\n",
       "              2                   2                     2                     \n",
       "   x⋅z       x         x⋅y       z                   x⋅z                z     \n",
       "                                                                              \n",
       "                                                  2                           \n",
       "              2   ρ               2   ρ    ρ⋅u₀⋅u₁           2   ρ⋅u₀         \n",
       " ρ⋅u₀⋅u₂  ρ⋅u₀  + ─  ρ⋅u₀⋅u₁  ρ⋅u₂  + ─  - ──────── + ρ⋅u₀⋅u₂  + ────  ρ⋅u₂  ρ\n",
       "                  3                   3       2                   3           \n",
       "                                                                              \n",
       "                                                   2                          \n",
       "           ρ     2             ρ     2        u₀⋅u₁         2   u₀            \n",
       "  u₀⋅u₂    ─ + u₀     u₀⋅u₁    ─ + u₂       - ────── + u₀⋅u₂  + ──      u₂    \n",
       "           3                   3                2               3             \n",
       "\n",
       "           2             ⎤\n",
       "          x ⋅y           ⎥\n",
       "                         ⎥\n",
       "                 2       ⎥\n",
       "   2      ρ⋅u₁⋅u₂    ρ⋅u₁⎥\n",
       "⋅u₀ ⋅u₁ - ──────── + ────⎥\n",
       "             2        3  ⎥\n",
       "                         ⎥\n",
       "                2        ⎥\n",
       "    2      u₁⋅u₂    u₁   ⎥\n",
       "  u₀ ⋅u₁ - ────── + ──   ⎥\n",
       "             2      3    ⎦"
      ]
     },
     "execution_count": 26,
     "metadata": {},
     "output_type": "execute_result"
    }
   ],
   "source": [
    "compressibleMoments = getMomentsOfDiscreteMaxwellianEquilibrium(D3Q19, d3q19moments, order=comparisonOrder)\n",
    "incompressibleMoments = [compressibleToIncompressibleMomentValue(m, sp.Symbol(\"rho\"), sp.symbols(\"u_:3\")) \n",
    "                         for m in compressibleMoments]\n",
    "sp.Matrix([d3q19moments, compressibleMoments, incompressibleMoments])"
   ]
  },
  {
   "cell_type": "markdown",
   "metadata": {},
   "source": [
    "The second order moment $x^2$, for example, has the value $\\frac{\\rho}{3} + \\rho u_0^2$ and is replaced by the incompressible version $\\frac{\\rho}{3} +  u_0^2$.\n",
    "The first term is not modified since it is not multiplied by any velocity component, while in the second part the density is set to $1$. \n",
    "\n",
    "The validity of this modification can be shown via a Chapman Enskog analysis, which is done in the next section."
   ]
  }
 ],
 "metadata": {
  "kernelspec": {
   "display_name": "Python 3",
   "language": "python",
   "name": "python3"
  },
  "language_info": {
   "codemirror_mode": {
    "name": "ipython",
    "version": 3
   },
   "file_extension": ".py",
   "mimetype": "text/x-python",
   "name": "python",
   "nbconvert_exporter": "python",
   "pygments_lexer": "ipython3",
   "version": "3.6.4"
  }
 },
 "nbformat": 4,
 "nbformat_minor": 2
}
