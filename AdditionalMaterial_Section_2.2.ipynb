{
 "cells": [
  {
   "cell_type": "code",
   "execution_count": 1,
   "metadata": {},
   "outputs": [],
   "source": [
    "import numpy as np\n",
    "import sympy as sp\n",
    "from sympy import oo\n",
    "import itertools\n",
    "from functools import lru_cache as memorycache\n",
    "\n",
    "# Display\n",
    "from ipywidgets import interact, IntSlider, FloatSlider\n",
    "from IPython.display import display\n",
    "import matplotlib.pyplot as plt\n",
    "%matplotlib inline\n",
    "\n",
    "def plotSympyFunction(f, bounds, **kwargs):\n",
    "    xArr = np.linspace(bounds[0], bounds[1], 101)\n",
    "    yArr = sp.lambdify(x, f)(xArr)\n",
    "    plt.plot(xArr, yArr, **kwargs)\n",
    "\n",
    "x = sp.symbols(\"x\")\n",
    "sp.init_printing()"
   ]
  },
  {
   "cell_type": "markdown",
   "metadata": {},
   "source": [
    "# 1) Equilibrium Construction with Hermite Polynomials\n",
    "\n",
    "The *lattice* Boltzmann equation can be derived by projecting the Boltzmann equation onto a finite dimensional subspace spanned by Hermite polynomials. The discrete lattice Boltzmann equilibrium is actually a projection of the continuous Maxwellian equilibrium onto this subspace. \n",
    "\n",
    "In this interactive Jupyter notebook we use *sympy* to systematically derive this discrete lattice Boltzmann equilibrium. \n",
    "\n",
    "We derive the essential concepts in 1D first, where the equations are much easier to read. \n",
    "\n",
    "\n",
    "##  1.1) Hermite Polynomials and Hermite series in 1D\n",
    "\n",
    "Hermite polynomials are a set of orhogonal polynomials. Orthogonality is defined with respect to a scalar product, by requiring that $< P_i , P_j > = 0$ if $i \\neq j$ for two polynomials $P_i$ and $P_j$. As we will see later, Hermite polynomials are orthogonal with respect to a special weighted scalar product. However, we start by first writing down the definition of the Hermite polynomials and later show that they are indeed orthogonal.\n",
    "\n",
    "The n'th Hermite polynomial is defined as\n",
    "\n",
    "$$ H^{(n)} = (-1)^n \\frac{1}{W(x)} \\frac{d^n}{dx^n} W(x)  $$\n",
    "\n",
    "with a weight function $W$, that not coincidentally looks very similar to the Maxwellian distribution.\n",
    "\n",
    "$$ W(x) = \\frac{1}{\\sqrt{2\\pi}} e ^{-\\frac{x^2}{2}}$$\n",
    "\n",
    "Lets compute the first few Hermite polynomials using this definition. For this, the weight function derivative $\\frac{d}{dx} W(x) = -x W(x)$ is helpful, i.e. differentiating the weight function yields a factor of $-x$.\n",
    "\n",
    "$$ H^{(0)} = (-1)^0 \\frac{1}{W(x)} \\frac{d^0}{dx^0} W(x) =  \\frac{1}{W(x)} W(x)= 1 $$\n",
    "$$ H^{(1)} = (-1)^1 \\frac{1}{W(x)} \\frac{d}{dx} W(x)  = -\\frac{1}{W(x)} (-x W(x)) = x$$\n",
    "$$ H^{(2)} = (-1)^2 \\frac{1}{W(x)} \\frac{d}{dx} (-x W(x) ) = x^2 - 1 $$\n",
    "\n",
    "Manually computing these polynomials gets tedious quickly, so lets implement this definition in *sympy*:"
   ]
  },
  {
   "cell_type": "code",
   "execution_count": 2,
   "metadata": {},
   "outputs": [
    {
     "data": {
      "image/png": "[encoded data removed]",
      "text/latex": [
       "$$\\left[\\begin{matrix}1\\\\x\\\\x^{2} - 1\\\\x^{3} - 3 x\\\\x^{4} - 6 x^{2} + 3\\\\x^{5} - 10 x^{3} + 15 x\\end{matrix}\\right]$$"
      ],
      "text/plain": [
       "⎡        1        ⎤\n",
       "⎢                 ⎥\n",
       "⎢        x        ⎥\n",
       "⎢                 ⎥\n",
       "⎢      2          ⎥\n",
       "⎢     x  - 1      ⎥\n",
       "⎢                 ⎥\n",
       "⎢     3           ⎥\n",
       "⎢    x  - 3⋅x     ⎥\n",
       "⎢                 ⎥\n",
       "⎢   4      2      ⎥\n",
       "⎢  x  - 6⋅x  + 3  ⎥\n",
       "⎢                 ⎥\n",
       "⎢ 5       3       ⎥\n",
       "⎣x  - 10⋅x  + 15⋅x⎦"
      ]
     },
     "execution_count": 2,
     "metadata": {},
     "output_type": "execute_result"
    }
   ],
   "source": [
    "hermiteWeightFunction1D = sp.exp(- x*x / 2) / sp.sqrt(2 * sp.pi)\n",
    "\n",
    "def hermite1D(n):\n",
    "    if n == 0: \n",
    "        return 1\n",
    "    W = hermiteWeightFunction1D\n",
    "    result = (-1)**n * sp.diff(W, *[x] * n) / W\n",
    "    return result.expand()\n",
    "\n",
    "# Print the first 6 Hermite polynomials\n",
    "sp.Matrix([hermite1D(i) for i in range(6)])"
   ]
  },
  {
   "cell_type": "markdown",
   "metadata": {},
   "source": [
    "The Hermite polynomials form an ortogonal basis for the space of polynomials with respect to the weighted scalar product\n",
    "\n",
    "$$ <f, g>_W = \\int_{\\mathbb{R}} f(x) g(x) \\; W(x) \\; dx .$$\n",
    "\n",
    "The orthogonality property \n",
    "$$ <H^{(n)}, H^{(m)}>_W  = \\delta_{nm} \\, n! $$\n",
    "is automatically fulfilled when the polynomials are constructed according to above rule, but can also be used directly to derive Hermite polynomials via an orthogonalization procedure.\n",
    "\n",
    "*sympy* can do these Gaussian integrals for us, so lets check the orthogonality property by computing a few examples:"
   ]
  },
  {
   "cell_type": "code",
   "execution_count": 3,
   "metadata": {},
   "outputs": [],
   "source": [
    "def weightedScalarProduct1D(f, g):\n",
    "    return sp.integrate( f * g * hermiteWeightFunction1D, (x, -oo, oo) )"
   ]
  },
  {
   "cell_type": "code",
   "execution_count": 4,
   "metadata": {},
   "outputs": [
    {
     "data": {
      "image/png": "[encoded data removed]",
      "text/latex": [
       "$$0$$"
      ],
      "text/plain": [
       "0"
      ]
     },
     "execution_count": 4,
     "metadata": {},
     "output_type": "execute_result"
    }
   ],
   "source": [
    "weightedScalarProduct1D(hermite1D(2), hermite1D(1))"
   ]
  },
  {
   "cell_type": "code",
   "execution_count": 5,
   "metadata": {},
   "outputs": [
    {
     "data": {
      "image/png": "[encoded data removed]",
      "text/latex": [
       "$$6$$"
      ],
      "text/plain": [
       "6"
      ]
     },
     "execution_count": 5,
     "metadata": {},
     "output_type": "execute_result"
    }
   ],
   "source": [
    "weightedScalarProduct1D(hermite1D(3), hermite1D(3))"
   ]
  },
  {
   "cell_type": "markdown",
   "metadata": {},
   "source": [
    "Note that Hermite polynomials, when defined as above, are not orthonormal. The scalar product of a Hermite polynomial with itself is not equal to one, but to the factorial of its order."
   ]
  },
  {
   "cell_type": "markdown",
   "metadata": {},
   "source": [
    "Since Hermite polynomials form a basis, every element of the function space can be expressed as a linear combination of Hermite polynomials. This is analogous to a Taylor or Fourier expansion, where in a Taylor expansion the monomials ($1, x, x^2, x^3, ...$) are used as basis elements and in a Fourier expansion the complex exponentials. We will see that Hermite polynomials are particularly well suited to expand Gaussian distribution functions.\n",
    "\n",
    "We can expand arbitrary functions $f$ in the Hermite basis as\n",
    "$$ f(x) = \\sum_{n=0}^\\infty b_n H^{(n)} .$$\n",
    "\n",
    "To determine the coefficients $b_i$, we use a standard trick from linear algebra and multiply both sides by the weight function and another Hermite polynomial $H^{(m)}$ so that we can apply the orthogonality property.\n",
    "\n",
    "$$ \\int f(x) H^{(m)} W(x) \\; dx =  \\sum_{n=0}^\\infty \\int b_n H^{(n)} H^{(m)} W(x) \\; dx  \\; \\Rightarrow \\;\n",
    " \\left<f, H^{(m)} \\right>_W  =  \\sum_{n=0}^\\infty b_n \\underbrace{ \\left< H^{(n)}, H^{(m)} \\right>_W }_{\\delta_{nm} n!}   $$\n",
    "\n",
    "The coefficients can then be determined with\n",
    "$$ b_n = \\frac{1}{n!} \\left<f, H^{(n)} \\right>_W $$\n",
    "\n",
    "and the Hermite expansion for an arbitrary function $f$ reads\n",
    "$$ f(x) = \\sum_{n=0}^\\infty \\frac{1}{n!} \\left<f, H^{(n)}\\right>_W \\, H^{(n)} $$\n",
    "\n",
    "So far we only used straightforward linear algebra to represent a function in Hermite space. In the lattice Boltzmann literature a slightly different expansion is used. We deliberately showed the series expansion above in a very verbose way, so that one can easily compare the \"standard linear algebra basis expansion\" to the modified expansion that we are now going to present.\n",
    "\n",
    "In this modified approach, the weight function and the normalization factor are moved into the expansion\n",
    "\n",
    "$$ f(x) = W(x) \\sum_{n=0}^\\infty \\frac{1}{n!} a_n H^{(n)} (x), $$\n",
    "\n",
    "such that the formula for computing the expansion coefficients simplifies to\n",
    "\n",
    "$$ a_n = \\int H^{(n)} f \\; dx. $$\n",
    "\n",
    "Now we can see why the expansion was modified in this way:\n",
    "If $f(x)$ is a probability distribution function, the integrals $\\int x^n f(x)\\; dx$ are its moments, e.g. for $n=1$ we get the first moment (expected value) of the distribution function. \n",
    "Since $H^{(n)}$ is a polynomial, the new coefficients $a_n$ are linear combinations of moments. \n",
    "In the LBM context, $f$ is chosen as the single particle distribution function, and its moments are physically meaningful quantities like density, velocity or energy flux."
   ]
  },
  {
   "cell_type": "markdown",
   "metadata": {},
   "source": [
    "Lets make use of the interactive computing environment and compute the Hermite expansions for a few functions.\n",
    "Therefor we first have to implement the adapted expansion rules."
   ]
  },
  {
   "cell_type": "code",
   "execution_count": 6,
   "metadata": {},
   "outputs": [],
   "source": [
    "def hermiteCoefficient(f, n):\n",
    "    return sp.integrate( hermite1D(n) * f, (x,-oo, oo) )\n",
    "\n",
    "def hermiteApproximation(f, N):\n",
    "    W = hermiteWeightFunction1D\n",
    "    return W * sum(hermiteCoefficient(f, n) / sp.factorial(n) * hermite1D(n)\n",
    "                   for n in range(N))"
   ]
  },
  {
   "cell_type": "markdown",
   "metadata": {},
   "source": [
    "For demonstration, lets approximate the hat function by truncating the Hermite expansion after a few terms."
   ]
  },
  {
   "cell_type": "code",
   "execution_count": 7,
   "metadata": {},
   "outputs": [
    {
     "data": {
      "image/png": "[encoded data removed]",
      "text/latex": [
       "$$\\begin{cases} x + 1 & \\text{for}\\: x > -1 \\wedge x < 0 \\\\- x + 1 & \\text{for}\\: x \\geq 0 \\wedge x < 1 \\\\0 & \\text{otherwise} \\end{cases}$$"
      ],
      "text/plain": [
       "⎧x + 1   for x > -1 ∧ x < 0\n",
       "⎪                          \n",
       "⎨-x + 1  for x ≥ 0 ∧ x < 1 \n",
       "⎪                          \n",
       "⎩  0         otherwise     "
      ]
     },
     "execution_count": 7,
     "metadata": {},
     "output_type": "execute_result"
    }
   ],
   "source": [
    "hat = sp.Piecewise((x+1, sp.And(x < 0 , x > -1) ), \n",
    "                   (-x+1, sp.And(x >= 0 , x < 1) ), \n",
    "                   (0, True))\n",
    "hat"
   ]
  },
  {
   "cell_type": "markdown",
   "metadata": {},
   "source": [
    "The following plot shows the hat function that is approximated by a truncated Hermite series. Use the slider widget to adjust the approximation order. The term displayed above the plot is the truncated approximation."
   ]
  },
  {
   "cell_type": "code",
   "execution_count": 8,
   "metadata": {},
   "outputs": [
    {
     "data": {
      "application/vnd.jupyter.widget-view+json": {
       "model_id": "ec24ecb912b54053b94ae22ad22990ba",
       "version_major": 2,
       "version_minor": 0
      },
      "text/html": [
       "<p>Failed to display Jupyter Widget of type <code>interactive</code>.</p>\n",
       "<p>\n",
       "  If you're reading this message in the Jupyter Notebook or JupyterLab Notebook, it may mean\n",
       "  that the widgets JavaScript is still loading. If this message persists, it\n",
       "  likely means that the widgets JavaScript library is either not installed or\n",
       "  not enabled. See the <a href=\"https://ipywidgets.readthedocs.io/en/stable/user_install.html\">Jupyter\n",
       "  Widgets Documentation</a> for setup instructions.\n",
       "</p>\n",
       "<p>\n",
       "  If you're reading this message in another frontend (for example, a static\n",
       "  rendering on GitHub or <a href=\"https://nbviewer.jupyter.org/\">NBViewer</a>),\n",
       "  it may mean that your frontend doesn't currently support widgets.\n",
       "</p>\n"
      ],
      "text/plain": [
       "interactive(children=(IntSlider(value=4, description='n', max=12, min=1), Output()), _dom_classes=('widget-interact',))"
      ]
     },
     "metadata": {},
     "output_type": "display_data"
    }
   ],
   "source": [
    "def approximateHat(n):\n",
    "    approximation = hermiteApproximation(hat, n)\n",
    "    display(approximation)\n",
    "    plotSympyFunction(hat, (-2, 2), label='original')\n",
    "    plotSympyFunction(approximation, (-2, 2), label='approx. n=%d' % (n,))\n",
    "    plt.legend()\n",
    "    plt.show()\n",
    "    \n",
    "interact(approximateHat, n=IntSlider(min=1,max=12,step=1,value=4));"
   ]
  },
  {
   "cell_type": "markdown",
   "metadata": {},
   "source": [
    "## 1.2) Hermite expansion preserves moments\n",
    "\n",
    "The overall goal is to approximate the continuous Maxwellian equilibrium of the single particle distribution function as a truncated Hermite series. We haven't discussed yet, why we choose Hermite polynomials over other possible bases. Hermite expansions have the unique property that moments of the approximated function are preserved. Since the physically interesting quantities like density, momentum and energy are moments of the distribution function, this property ensures that important physical conservation laws like mass and momentum conservation not only hold for the Boltzmann equation but also for the discrete lattice Boltzmann approximation.\n",
    "\n",
    "Specifically, a order $N$ Hermite approximation $\\tilde{f}_N$ has the same first $N$ moments as the original function. \n",
    "For any polynomial $P(x)$ with degree not greater than $N$ we have\n",
    "$$ \\int P(x) \\,\\tilde{f}_N  \\, dx = \n",
    "   \\int P(x) W(x) \\sum_{n=0}^{N} \\frac{1}{n!} \\left( \\int H^{(n)} f \\, dx \\right) H^{(n)} \\, dx = \n",
    "   \\int P(x) \\, f(x) \\, dx. $$\n",
    "The left hand side is the moment of the Hermite expansion, which is equal to the moment of the approximated function $f$.\n",
    "\n",
    "**Proof**:\n",
    "\n",
    "Since the polynomial has a degree $\\le N$, it can be represented in the Hermite basis as \n",
    "$$P(x) = \\sum_k^N c_k H^{(k)}(x).$$\n",
    "\n",
    "Inserting this in the left hand side of the proposition gives:\n",
    "$$ \\int W(x) \\sum_{n=0}^{N} \\frac{1}{n!} \\left( \\int H^{(n)} f \\, dx \\right) H^{(n)} \\sum_{k=0} c_k H^{(k)} \\, dx $$\n",
    "After regrouping\n",
    "\n",
    "$$ \\sum_{n=0}^{N} \\sum_{k=0}^N c_k \\left( \\int H^{(n)} f \\, dx \\right) \\frac{1}{n!} \\int W(x) H^{(n)}   H^{(k)} \\, dx $$\n",
    "\n",
    "and using the orthogonality relation\n",
    "\n",
    "$$ \\sum_{n=0}^{N} \\sum_{k=0}^N c_k^N \\left( \\int H^{(n)} f \\, dx \\right) \\delta_{kn} $$\n",
    "\n",
    "we obtain the right hand side of the proposition\n",
    "\n",
    "$$  \\int f(x) \\sum_{n=0}^{N} c_n H^{(n)}  \\, dx = \\int f(x) \\; P(x) \\, dx  .$$"
   ]
  },
  {
   "cell_type": "markdown",
   "metadata": {},
   "source": [
    "## 1.3) Gauss-Hermite Quadrature\n",
    "\n",
    "Lattice Boltzmann methods store the evaluation of distribution function on a discrete set of points (stencil). Physical quantities, however, are moments of the distribution function. Thus we need a way to compute moments (integrals) using distribution function values on stencil points only. \n",
    "This can be done using Gauss quadrature. \n",
    "In general, a Gaussian quadrature rule approximates an integral by the finite sum\n",
    "\n",
    "$$ \\int W(x) \\; f(x) \\; dx \\approx \\sum\\limits_{a=1}^{n} w_a \\; f(x_a) $$\n",
    "\n",
    "where $W(x)$ is the weight function of a scalar product, and the function to integrate is evaluated at the zeros of the corresponding orthogonal polynomials $x_a$. This approximation is exact if $f$ is a polynomial of degree $(2n-1)$ or less. This works for any set of orthogonal polynomials, especially also for Hermite polynomials.\n",
    "\n",
    "The integration weights $w_a$ can be obtained as\n",
    "\n",
    "$$ w_a = \\frac{\\left< H^{(n-1)}, H^{(n-1)} \\right>_w }  \n",
    "              {H^{(n-1)}(x_a) \\;  \\frac{d}{dx} H^{(n)} \\rvert_{x_a} } $$"
   ]
  },
  {
   "cell_type": "markdown",
   "metadata": {},
   "source": [
    "**Example:**\n",
    "\n",
    "To approximate the integral $\\int W(x) \\; (x^2 - 3x + 4) \\; dx$ of a second order polynomial, $(2n-1)=3$ evaluation points $x_a$ are required. These are the zeros of $H^{(3)}$. We can use *sympy* to find the evaluation points"
   ]
  },
  {
   "cell_type": "code",
   "execution_count": 9,
   "metadata": {},
   "outputs": [
    {
     "data": {
      "image/png": "[encoded data removed]",
      "text/latex": [
       "$$\\left [ 0, \\quad - \\sqrt{3}, \\quad \\sqrt{3}\\right ]$$"
      ],
      "text/plain": [
       "[0, -√3, √3]"
      ]
     },
     "execution_count": 9,
     "metadata": {},
     "output_type": "execute_result"
    }
   ],
   "source": [
    "sp.solve(hermite1D(3))"
   ]
  },
  {
   "cell_type": "markdown",
   "metadata": {},
   "source": [
    "and the corresponding weights $w_a$"
   ]
  },
  {
   "cell_type": "code",
   "execution_count": 10,
   "metadata": {},
   "outputs": [
    {
     "data": {
      "image/png": "[encoded data removed]",
      "text/latex": [
       "$$\\left [ \\left ( 0, \\quad \\frac{2}{3}\\right ), \\quad \\left ( - \\sqrt{3}, \\quad \\frac{1}{6}\\right ), \\quad \\left ( \\sqrt{3}, \\quad \\frac{1}{6}\\right )\\right ]$$"
      ],
      "text/plain": [
       "[(0, 2/3), (-√3, 1/6), (√3, 1/6)]"
      ]
     },
     "execution_count": 10,
     "metadata": {},
     "output_type": "execute_result"
    }
   ],
   "source": [
    "def gaussHermite(n):\n",
    "    x_a = sp.solve(hermite1D(n))\n",
    "    numerator = sp.integrate(hermiteWeightFunction1D * hermite1D(n-1)**2, (x,-oo, oo))\n",
    "    denominator = hermite1D(n-1) * sp.diff(hermite1D(n), x)\n",
    "    return [(evalPoint, (numerator / denominator).subs(x, evalPoint)) for evalPoint in x_a]\n",
    "gaussHermite(3)"
   ]
  },
  {
   "cell_type": "markdown",
   "metadata": {},
   "source": [
    "The ``gaussHermite`` function returns a list of tuples with ($x_a$, $w_a$).\n",
    "\n",
    "Next, the integral is computed using the Gauss-Hermite approximation and compared to the exact solution obtained using symbolic integration. "
   ]
  },
  {
   "cell_type": "code",
   "execution_count": 11,
   "metadata": {},
   "outputs": [
    {
     "name": "stdout",
     "output_type": "stream",
     "text": [
      "Gauss-Hermite solution: 5    Correct solution: 5\n"
     ]
    }
   ],
   "source": [
    "integrand = lambda x: (x**2 - 3*x + 4)\n",
    "\n",
    "symbolicSolution = sp.integrate(integrand(x) * hermiteWeightFunction1D, (x,-oo,oo))\n",
    "gaussHermiteSolution = sum(integrand(x_a) * w_a for x_a, w_a in gaussHermite(3))\n",
    "\n",
    "print(\"Gauss-Hermite solution:\", gaussHermiteSolution, \"   Correct solution:\", symbolicSolution)\n",
    "\n",
    "assert gaussHermiteSolution == symbolicSolution"
   ]
  },
  {
   "cell_type": "markdown",
   "metadata": {},
   "source": [
    "## 1.4) Hermite polynomials in 3D\n",
    "\n",
    "In this section we generalize our implementation of Hermite polynomials to multiple dimensions.\n",
    "We want to derive the discretized lattice Boltzmann equilibrium, by expanding the continuous single particle equilibrium distribution function as a Hermite series. Truncating this series at order 2 (or 3) gives us the standard discrete LB equilibrium of order 2 (or 3).\n",
    "\n",
    "We first need the n-dimensional weight function $W$ defined as \n",
    "\n",
    "$$ W(\\pmb{\\xi}) = \\frac{1}{(2\\pi)^{D/2} } \\exp\\left(-\\frac{\\pmb{\\xi}^2}{2}\\right) $$\n",
    "\n",
    "We switched notation here from $x$ to $\\pmb{\\xi}$ since we want to expand functions in the velocity $\\xi$ later.$\\pmb{\\xi}$ is a N-dimensional vector and $\\pmb{\\xi}^2$ denotes its squared length. Otherwise only the prefactor has changed compared to the 1D weight function."
   ]
  },
  {
   "cell_type": "code",
   "execution_count": 12,
   "metadata": {},
   "outputs": [],
   "source": [
    "def weightFunction(x):\n",
    "    \"\"\"Multidimensional Hermite weight function. \n",
    "    Argument x is a tuple of spatial symbols e.g. symbols(\"x y z\")\"\"\"\n",
    "    dim = len(x)\n",
    "    x = sp.sympify(x)\n",
    "    xSq = sum(v**2 for v in x)   \n",
    "    return sp.exp(-xSq / 2) / ( (2 * sp.pi) ** (sp.Rational(dim,2)) )"
   ]
  },
  {
   "cell_type": "markdown",
   "metadata": {},
   "source": [
    "With this weight function the generalized hermite polynomials can be implemented."
   ]
  },
  {
   "cell_type": "code",
   "execution_count": 13,
   "metadata": {},
   "outputs": [],
   "source": [
    "def hermite(index, variables):\n",
    "    \"\"\"Multidimensional Hermite polynomial, where 'variables' is a tuple of spatial symbols \n",
    "    and 'index' is a sequence of indices in the variables. \n",
    "    e.g hermite((0,0,0), sp.symbols(\"x y z\")) returns the 3rd order hermite polynomial H_xxx\n",
    "    \"\"\"\n",
    "    order = len(index)\n",
    "    if order==0 : return sp.Rational(1,1)\n",
    "    w = weightFunction(variables)\n",
    "    diffArgs = [variables[i] for i in index]\n",
    "    result = (-1) ** order / w * sp.diff(w, *diffArgs)\n",
    "    return result.expand()"
   ]
  },
  {
   "cell_type": "markdown",
   "metadata": {},
   "source": [
    "Example: $H^{(3)}_{yyy}$"
   ]
  },
  {
   "cell_type": "code",
   "execution_count": 14,
   "metadata": {},
   "outputs": [
    {
     "data": {
      "image/png": "[encoded data removed]",
      "text/latex": [
       "$$y^{3} - 3 y$$"
      ],
      "text/plain": [
       " 3      \n",
       "y  - 3⋅y"
      ]
     },
     "execution_count": 14,
     "metadata": {},
     "output_type": "execute_result"
    }
   ],
   "source": [
    "hermite((1,1,1), sp.symbols(\"x y z\"))"
   ]
  },
  {
   "cell_type": "markdown",
   "metadata": {},
   "source": [
    "In the paper this is shorterned using the tensor notation\n",
    "\n",
    "$$ \\mathbf{H}^{(n)}(\\mathbf{ξ}) = (-1)^n \\frac{1}{W(\\mathbf{ξ})} \\mathbf{\\nabla}^{(n)} \\; W(\\mathbf{ξ}) $$\n",
    "\n",
    "with the derivative tensor: $ \\nabla^{(n)}_{ij\\cdots k} = \\partial_i \\partial_j \\cdots \\partial_k $"
   ]
  },
  {
   "cell_type": "markdown",
   "metadata": {},
   "source": [
    "Similarly to the 1D case, the adapted Hermite series expansion is used, where an unweighted scalar product is used to compute the coefficients, such that the coefficients are just the moments of the expanded function\n",
    "\n",
    "$$f(\\mathbf{ξ}) = W(\\mathbf{ξ}) \\sum_{n=0}^\\infty \\frac{1}{n!} \\mathbf{a}^{(n)}_{i}  \\mathbf{H}^{(n)}_{i}(\\mathbf{ξ})$$\n",
    "\n",
    "where an implicit sum is assumed over the multiindex $\\mathbf{i}$. This very concise notation might get be easier to understand when looking at the following Python implementation."
   ]
  },
  {
   "cell_type": "code",
   "execution_count": 15,
   "metadata": {},
   "outputs": [],
   "source": [
    "@memorycache(maxsize=64)  # costly to compute.. cache in memory so subsequent calls are faster\n",
    "def hermiteCoeff(f, index, variables):\n",
    "    \"\"\"Computes the coefficient a_index for the Hermite expansion of a function 'f'\"\"\"\n",
    "    intArgs = [(v, -sp.oo, sp.oo) for v in variables]\n",
    "    result = sp.integrate(hermite(index, variables) * f, *intArgs)\n",
    "    return result.expand()\n",
    "\n",
    "@memorycache(maxsize=8)\n",
    "def hermiteExpansion(order, f, variables):\n",
    "    \"\"\"Compute Hermite expansion of function 'f' up to given 'order'\"\"\"\n",
    "    nrVariables = len(variables)\n",
    "    \n",
    "    result = 0\n",
    "    for currentOrder in range(order+1):\n",
    "        termsForOrder = 0\n",
    "        for index in itertools.product(*[range(nrVariables)]*currentOrder):\n",
    "            termsForOrder += hermiteCoeff(f, index, variables)  * hermite(index, variables)\n",
    "\n",
    "        result += termsForOrder / sp.factorial(currentOrder)\n",
    "    return result * weightFunction(variables)"
   ]
  },
  {
   "cell_type": "markdown",
   "metadata": {},
   "source": [
    "The lattice Boltzmann equilibrium can be obtained by projecting the continuous Maxwellian equilibrium onto the Hermite space of second (or third) order. The Maxwellian single particle equilibrium distribution is a central result of statistical mechanics and is given by"
   ]
  },
  {
   "cell_type": "code",
   "execution_count": 16,
   "metadata": {},
   "outputs": [
    {
     "data": {
      "image/png": "[encoded data removed]",
      "text/latex": [
       "$$\\frac{\\sqrt{2} ρ}{4 \\pi^{\\frac{3}{2}}} e^{- \\frac{1}{2} \\left(- u_{0} + ξ_{0}\\right)^{2} - \\frac{1}{2} \\left(- u_{1} + ξ_{1}\\right)^{2} - \\frac{1}{2} \\left(- u_{2} + ξ_{2}\\right)^{2}}$$"
      ],
      "text/plain": [
       "                  2             2             2\n",
       "        (-u₀ + ξ₀)    (-u₁ + ξ₁)    (-u₂ + ξ₂) \n",
       "      - ─────────── - ─────────── - ───────────\n",
       "             2             2             2     \n",
       "√2⋅ρ⋅ℯ                                         \n",
       "───────────────────────────────────────────────\n",
       "                        3/2                    \n",
       "                     4⋅π                       "
      ]
     },
     "execution_count": 16,
     "metadata": {},
     "output_type": "execute_result"
    }
   ],
   "source": [
    "def continuousMaxwellianEquilibrium(dim=3):\n",
    "    u = sp.symbols(\"u_:%d\" % (dim,))\n",
    "    ξ = sp.symbols(\"ξ_:%d\" % (dim,))\n",
    "    ρ = sp.symbols(\"ρ\")\n",
    "    θ = 1\n",
    "    velSq = sum([(ξ_i - u_i) ** 2 for ξ_i, u_i in zip(ξ, u)])\n",
    "    return ρ / (2 * sp.pi * θ) ** (sp.Rational(dim, 2)) * sp.exp(- velSq / (2 * θ))\n",
    "\n",
    "continuousMaxwellianEquilibrium(dim=3)"
   ]
  },
  {
   "cell_type": "markdown",
   "metadata": {},
   "source": [
    "where $u$ is the macroscopic velocity (mean of the bell-shaped distribution) and $ξ$ is the microscopic particle velocity."
   ]
  },
  {
   "cell_type": "code",
   "execution_count": 17,
   "metadata": {},
   "outputs": [
    {
     "data": {
      "image/png": "[encoded data removed]",
      "text/latex": [
       "$$\\frac{e^{- \\frac{ξ_{0}^{2}}{2} - \\frac{ξ_{1}^{2}}{2}}}{2 \\pi} \\left(\\frac{u_{0}^{2} ρ}{2} \\left(ξ_{0}^{2} - 1\\right) + u_{0} u_{1} ξ_{0} ξ_{1} ρ + u_{0} ξ_{0} ρ + \\frac{u_{1}^{2} ρ}{2} \\left(ξ_{1}^{2} - 1\\right) + u_{1} ξ_{1} ρ + ρ\\right)$$"
      ],
      "text/plain": [
       "                                                                              \n",
       "                                                                              \n",
       "⎛  2   ⎛  2    ⎞                               2   ⎛  2    ⎞              ⎞  -\n",
       "⎜u₀ ⋅ρ⋅⎝ξ₀  - 1⎠                             u₁ ⋅ρ⋅⎝ξ₁  - 1⎠              ⎟   \n",
       "⎜─────────────── + u₀⋅u₁⋅ξ₀⋅ξ₁⋅ρ + u₀⋅ξ₀⋅ρ + ─────────────── + u₁⋅ξ₁⋅ρ + ρ⎟⋅ℯ \n",
       "⎝       2                                           2                     ⎠   \n",
       "──────────────────────────────────────────────────────────────────────────────\n",
       "                                          2⋅π                                 \n",
       "\n",
       "   2     2\n",
       " ξ₀    ξ₁ \n",
       " ─── - ───\n",
       "  2     2 \n",
       "          \n",
       "          \n",
       "──────────\n",
       "          "
      ]
     },
     "execution_count": 17,
     "metadata": {},
     "output_type": "execute_result"
    }
   ],
   "source": [
    "dim = 2\n",
    "equilibriumHermiteSeries = hermiteExpansion(order=2, \n",
    "                                            f=continuousMaxwellianEquilibrium(dim),\n",
    "                                            variables=sp.symbols(\"ξ_:%d\" % (dim,)))\n",
    "equilibriumHermiteSeries"
   ]
  },
  {
   "cell_type": "markdown",
   "metadata": {},
   "source": [
    "Feel free to experiment with the expansion orders, or to switch from 2D to 3D in above code cell.\n",
    "\n",
    "In the lattice Boltzmanm method evaluations of the distribution function are stored at a set of discrete velocitiy values (stencils). For this derivation we choose a product stencil of the 1D quadrature abscissae.\n",
    "In this case the Gauss-Hermite quadrature weights are products of the 1D weights.\n",
    "\n",
    "We already programmed the 1D function that gives us a mapping from evaluation point to quadrature weight,"
   ]
  },
  {
   "cell_type": "code",
   "execution_count": 18,
   "metadata": {},
   "outputs": [
    {
     "data": {
      "image/png": "[encoded data removed]",
      "text/latex": [
       "$$\\left \\{ 0 : \\frac{2}{3}, \\quad - \\sqrt{3} : \\frac{1}{6}, \\quad \\sqrt{3} : \\frac{1}{6}\\right \\}$$"
      ],
      "text/plain": [
       "{0: 2/3, -√3: 1/6, √3: 1/6}"
      ]
     },
     "execution_count": 18,
     "metadata": {},
     "output_type": "execute_result"
    }
   ],
   "source": [
    "gaussHermiteQuadratureDict = {evalPoint: weight for evalPoint, weight in gaussHermite(3)}\n",
    "gaussHermiteQuadratureDict"
   ]
  },
  {
   "cell_type": "code",
   "execution_count": 19,
   "metadata": {},
   "outputs": [
    {
     "data": {
      "image/png": "[encoded data removed]",
      "text/latex": [
       "$$\\left [ 0, \\quad - \\sqrt{3}, \\quad \\sqrt{3}\\right ]$$"
      ],
      "text/plain": [
       "[0, -√3, √3]"
      ]
     },
     "execution_count": 19,
     "metadata": {},
     "output_type": "execute_result"
    }
   ],
   "source": [
    "abscissae1D = list(gaussHermiteQuadratureDict.keys())\n",
    "abscissae1D"
   ]
  },
  {
   "cell_type": "markdown",
   "metadata": {},
   "source": [
    "so that we can build a product stencil out of these qudarature points"
   ]
  },
  {
   "cell_type": "code",
   "execution_count": 20,
   "metadata": {},
   "outputs": [
    {
     "data": {
      "image/png": "[encoded data removed]",
      "text/latex": [
       "$$\\left ( \\left ( 0, \\quad 0\\right ), \\quad \\left ( 0, \\quad - \\sqrt{3}\\right ), \\quad \\left ( 0, \\quad \\sqrt{3}\\right ), \\quad \\left ( - \\sqrt{3}, \\quad 0\\right ), \\quad \\left ( - \\sqrt{3}, \\quad - \\sqrt{3}\\right ), \\quad \\left ( - \\sqrt{3}, \\quad \\sqrt{3}\\right ), \\quad \\left ( \\sqrt{3}, \\quad 0\\right ), \\quad \\left ( \\sqrt{3}, \\quad - \\sqrt{3}\\right ), \\quad \\left ( \\sqrt{3}, \\quad \\sqrt{3}\\right )\\right )$$"
      ],
      "text/plain": [
       "((0, 0), (0, -√3), (0, √3), (-√3, 0), (-√3, -√3), (-√3, √3), (√3, 0), (√3, -√3\n",
       "), (√3, √3))"
      ]
     },
     "execution_count": 20,
     "metadata": {},
     "output_type": "execute_result"
    }
   ],
   "source": [
    "stencil = tuple(itertools.product(*[abscissae1D] * dim))\n",
    "stencil"
   ]
  },
  {
   "cell_type": "markdown",
   "metadata": {},
   "source": [
    "The weight of a stencil entry is given as product of the component weights:"
   ]
  },
  {
   "cell_type": "code",
   "execution_count": 21,
   "metadata": {},
   "outputs": [
    {
     "data": {
      "image/png": "[encoded data removed]",
      "text/latex": [
       "$$\\left ( \\frac{4}{9}, \\quad \\frac{1}{9}, \\quad \\frac{1}{9}, \\quad \\frac{1}{9}, \\quad \\frac{1}{36}, \\quad \\frac{1}{36}, \\quad \\frac{1}{9}, \\quad \\frac{1}{36}, \\quad \\frac{1}{36}\\right )$$"
      ],
      "text/plain": [
       "(4/9, 1/9, 1/9, 1/9, 1/36, 1/36, 1/9, 1/36, 1/36)"
      ]
     },
     "execution_count": 21,
     "metadata": {},
     "output_type": "execute_result"
    }
   ],
   "source": [
    "def weightForStencilEntry(d):\n",
    "    result = 1\n",
    "    for d_i in d:\n",
    "        result *= gaussHermiteQuadratureDict[d_i]\n",
    "    return result\n",
    "weights = tuple(weightForStencilEntry(a) for a in stencil)\n",
    "weights"
   ]
  },
  {
   "cell_type": "markdown",
   "metadata": {},
   "source": [
    "Next we evalute the equilibrium at the computed stencil points. Instead of storing these evaluations directly, we usually work in LB methods with the quantities \n",
    "\n",
    "$$f_q := \\frac{w_q}{W(ξ_q) } f(ξ_q)$$\n",
    "\n",
    "This rescaling simplifies the calculation of moments (integrals). For example the first moment $\\rho$ is then\n",
    "\n",
    "$$ \\int f(ξ_q) \\,  dξ = \\sum_q f_q $$\n",
    "\n",
    "In the next cell we compute $f_q^{(eq)}$ using the definition above."
   ]
  },
  {
   "cell_type": "code",
   "execution_count": 22,
   "metadata": {
    "scrolled": true
   },
   "outputs": [
    {
     "data": {
      "image/png": "[encoded data removed]",
      "text/latex": [
       "$$\\left[\\begin{matrix}- \\frac{2 ρ}{9} u_{0}^{2} - \\frac{2 ρ}{9} u_{1}^{2} + \\frac{4 ρ}{9}\\\\- \\frac{u_{0}^{2} ρ}{18} + \\frac{u_{1}^{2} ρ}{9} - \\frac{u_{1} ρ}{9} \\sqrt{3} + \\frac{ρ}{9}\\\\- \\frac{u_{0}^{2} ρ}{18} + \\frac{u_{1}^{2} ρ}{9} + \\frac{u_{1} ρ}{9} \\sqrt{3} + \\frac{ρ}{9}\\\\\\frac{u_{0}^{2} ρ}{9} - \\frac{u_{0} ρ}{9} \\sqrt{3} - \\frac{u_{1}^{2} ρ}{18} + \\frac{ρ}{9}\\\\\\frac{u_{0}^{2} ρ}{36} + \\frac{u_{0} u_{1}}{12} ρ - \\frac{u_{0} ρ}{36} \\sqrt{3} + \\frac{u_{1}^{2} ρ}{36} - \\frac{u_{1} ρ}{36} \\sqrt{3} + \\frac{ρ}{36}\\\\\\frac{u_{0}^{2} ρ}{36} - \\frac{u_{0} u_{1}}{12} ρ - \\frac{u_{0} ρ}{36} \\sqrt{3} + \\frac{u_{1}^{2} ρ}{36} + \\frac{u_{1} ρ}{36} \\sqrt{3} + \\frac{ρ}{36}\\\\\\frac{u_{0}^{2} ρ}{9} + \\frac{u_{0} ρ}{9} \\sqrt{3} - \\frac{u_{1}^{2} ρ}{18} + \\frac{ρ}{9}\\\\\\frac{u_{0}^{2} ρ}{36} - \\frac{u_{0} u_{1}}{12} ρ + \\frac{u_{0} ρ}{36} \\sqrt{3} + \\frac{u_{1}^{2} ρ}{36} - \\frac{u_{1} ρ}{36} \\sqrt{3} + \\frac{ρ}{36}\\\\\\frac{u_{0}^{2} ρ}{36} + \\frac{u_{0} u_{1}}{12} ρ + \\frac{u_{0} ρ}{36} \\sqrt{3} + \\frac{u_{1}^{2} ρ}{36} + \\frac{u_{1} ρ}{36} \\sqrt{3} + \\frac{ρ}{36}\\end{matrix}\\right]$$"
      ],
      "text/plain": [
       "⎡                 2         2                    ⎤\n",
       "⎢             2⋅u₀ ⋅ρ   2⋅u₁ ⋅ρ   4⋅ρ            ⎥\n",
       "⎢           - ─────── - ─────── + ───            ⎥\n",
       "⎢                9         9       9             ⎥\n",
       "⎢                                                ⎥\n",
       "⎢             2       2                          ⎥\n",
       "⎢           u₀ ⋅ρ   u₁ ⋅ρ   √3⋅u₁⋅ρ   ρ          ⎥\n",
       "⎢         - ───── + ───── - ─────── + ─          ⎥\n",
       "⎢             18      9        9      9          ⎥\n",
       "⎢                                                ⎥\n",
       "⎢             2       2                          ⎥\n",
       "⎢           u₀ ⋅ρ   u₁ ⋅ρ   √3⋅u₁⋅ρ   ρ          ⎥\n",
       "⎢         - ───── + ───── + ─────── + ─          ⎥\n",
       "⎢             18      9        9      9          ⎥\n",
       "⎢                                                ⎥\n",
       "⎢            2                 2                 ⎥\n",
       "⎢          u₀ ⋅ρ   √3⋅u₀⋅ρ   u₁ ⋅ρ   ρ           ⎥\n",
       "⎢          ───── - ─────── - ───── + ─           ⎥\n",
       "⎢            9        9        18    9           ⎥\n",
       "⎢                                                ⎥\n",
       "⎢  2                           2                 ⎥\n",
       "⎢u₀ ⋅ρ   u₀⋅u₁⋅ρ   √3⋅u₀⋅ρ   u₁ ⋅ρ   √3⋅u₁⋅ρ   ρ ⎥\n",
       "⎢───── + ─────── - ─────── + ───── - ─────── + ──⎥\n",
       "⎢  36       12        36       36       36     36⎥\n",
       "⎢                                                ⎥\n",
       "⎢  2                           2                 ⎥\n",
       "⎢u₀ ⋅ρ   u₀⋅u₁⋅ρ   √3⋅u₀⋅ρ   u₁ ⋅ρ   √3⋅u₁⋅ρ   ρ ⎥\n",
       "⎢───── - ─────── - ─────── + ───── + ─────── + ──⎥\n",
       "⎢  36       12        36       36       36     36⎥\n",
       "⎢                                                ⎥\n",
       "⎢            2                 2                 ⎥\n",
       "⎢          u₀ ⋅ρ   √3⋅u₀⋅ρ   u₁ ⋅ρ   ρ           ⎥\n",
       "⎢          ───── + ─────── - ───── + ─           ⎥\n",
       "⎢            9        9        18    9           ⎥\n",
       "⎢                                                ⎥\n",
       "⎢  2                           2                 ⎥\n",
       "⎢u₀ ⋅ρ   u₀⋅u₁⋅ρ   √3⋅u₀⋅ρ   u₁ ⋅ρ   √3⋅u₁⋅ρ   ρ ⎥\n",
       "⎢───── - ─────── + ─────── + ───── - ─────── + ──⎥\n",
       "⎢  36       12        36       36       36     36⎥\n",
       "⎢                                                ⎥\n",
       "⎢  2                           2                 ⎥\n",
       "⎢u₀ ⋅ρ   u₀⋅u₁⋅ρ   √3⋅u₀⋅ρ   u₁ ⋅ρ   √3⋅u₁⋅ρ   ρ ⎥\n",
       "⎢───── + ─────── + ─────── + ───── + ─────── + ──⎥\n",
       "⎣  36       12        36       36       36     36⎦"
      ]
     },
     "execution_count": 22,
     "metadata": {},
     "output_type": "execute_result"
    }
   ],
   "source": [
    "eq = tuple(w_i / weightFunction(d) * equilibriumHermiteSeries.subs({ξ_i: d_i for ξ_i, d_i in zip(sp.symbols(\"ξ_:3\"), d)})\n",
    "           for w_i, d in zip(weights, stencil))\n",
    "sp.Matrix(eq)"
   ]
  },
  {
   "cell_type": "markdown",
   "metadata": {},
   "source": [
    "In order to have integer abscissae, the velocities are usually rescaled by a factor of $\\sqrt{3}$.\n",
    "This finally gets us to the usual, well known discrete lattice Boltzmann equilibrium:"
   ]
  },
  {
   "cell_type": "code",
   "execution_count": 23,
   "metadata": {},
   "outputs": [
    {
     "data": {
      "image/png": "[encoded data removed]",
      "text/latex": [
       "$$\\left \\{ u_{0} : \\sqrt{3} u_{0}, \\quad u_{1} : \\sqrt{3} u_{1}\\right \\}$$"
      ],
      "text/plain": [
       "{u₀: √3⋅u₀, u₁: √3⋅u₁}"
      ]
     },
     "execution_count": 23,
     "metadata": {},
     "output_type": "execute_result"
    }
   ],
   "source": [
    "rescalingSubstitution = {u_i: u_i * sp.sqrt(3) for u_i in sp.symbols(\"u_:%d\" % (dim,))}\n",
    "rescalingSubstitution"
   ]
  },
  {
   "cell_type": "code",
   "execution_count": 24,
   "metadata": {},
   "outputs": [
    {
     "data": {
      "image/png": "[encoded data removed]",
      "text/latex": [
       "$$\\left[\\begin{matrix}\\frac{2 ρ}{9} \\left(- 3 u_{0}^{2} - 3 u_{1}^{2} + 2\\right)\\\\\\frac{ρ}{18} \\left(- 3 u_{0}^{2} + 6 u_{1}^{2} - 6 u_{1} + 2\\right)\\\\\\frac{ρ}{18} \\left(- 3 u_{0}^{2} + 6 u_{1}^{2} + 6 u_{1} + 2\\right)\\\\\\frac{ρ}{18} \\left(6 u_{0}^{2} - 6 u_{0} - 3 u_{1}^{2} + 2\\right)\\\\\\frac{ρ}{36} \\left(3 u_{0}^{2} + 9 u_{0} u_{1} - 3 u_{0} + 3 u_{1}^{2} - 3 u_{1} + 1\\right)\\\\\\frac{ρ}{36} \\left(3 u_{0}^{2} - 9 u_{0} u_{1} - 3 u_{0} + 3 u_{1}^{2} + 3 u_{1} + 1\\right)\\\\\\frac{ρ}{18} \\left(6 u_{0}^{2} + 6 u_{0} - 3 u_{1}^{2} + 2\\right)\\\\\\frac{ρ}{36} \\left(3 u_{0}^{2} - 9 u_{0} u_{1} + 3 u_{0} + 3 u_{1}^{2} - 3 u_{1} + 1\\right)\\\\\\frac{ρ}{36} \\left(3 u_{0}^{2} + 9 u_{0} u_{1} + 3 u_{0} + 3 u_{1}^{2} + 3 u_{1} + 1\\right)\\end{matrix}\\right]$$"
      ],
      "text/plain": [
       "⎡              ⎛      2       2    ⎞          ⎤\n",
       "⎢          2⋅ρ⋅⎝- 3⋅u₀  - 3⋅u₁  + 2⎠          ⎥\n",
       "⎢          ─────────────────────────          ⎥\n",
       "⎢                      9                      ⎥\n",
       "⎢                                             ⎥\n",
       "⎢         ⎛      2       2           ⎞        ⎥\n",
       "⎢       ρ⋅⎝- 3⋅u₀  + 6⋅u₁  - 6⋅u₁ + 2⎠        ⎥\n",
       "⎢       ──────────────────────────────        ⎥\n",
       "⎢                     18                      ⎥\n",
       "⎢                                             ⎥\n",
       "⎢         ⎛      2       2           ⎞        ⎥\n",
       "⎢       ρ⋅⎝- 3⋅u₀  + 6⋅u₁  + 6⋅u₁ + 2⎠        ⎥\n",
       "⎢       ──────────────────────────────        ⎥\n",
       "⎢                     18                      ⎥\n",
       "⎢                                             ⎥\n",
       "⎢          ⎛    2              2    ⎞         ⎥\n",
       "⎢        ρ⋅⎝6⋅u₀  - 6⋅u₀ - 3⋅u₁  + 2⎠         ⎥\n",
       "⎢        ────────────────────────────         ⎥\n",
       "⎢                     18                      ⎥\n",
       "⎢                                             ⎥\n",
       "⎢  ⎛    2                        2           ⎞⎥\n",
       "⎢ρ⋅⎝3⋅u₀  + 9⋅u₀⋅u₁ - 3⋅u₀ + 3⋅u₁  - 3⋅u₁ + 1⎠⎥\n",
       "⎢─────────────────────────────────────────────⎥\n",
       "⎢                      36                     ⎥\n",
       "⎢                                             ⎥\n",
       "⎢  ⎛    2                        2           ⎞⎥\n",
       "⎢ρ⋅⎝3⋅u₀  - 9⋅u₀⋅u₁ - 3⋅u₀ + 3⋅u₁  + 3⋅u₁ + 1⎠⎥\n",
       "⎢─────────────────────────────────────────────⎥\n",
       "⎢                      36                     ⎥\n",
       "⎢                                             ⎥\n",
       "⎢          ⎛    2              2    ⎞         ⎥\n",
       "⎢        ρ⋅⎝6⋅u₀  + 6⋅u₀ - 3⋅u₁  + 2⎠         ⎥\n",
       "⎢        ────────────────────────────         ⎥\n",
       "⎢                     18                      ⎥\n",
       "⎢                                             ⎥\n",
       "⎢  ⎛    2                        2           ⎞⎥\n",
       "⎢ρ⋅⎝3⋅u₀  - 9⋅u₀⋅u₁ + 3⋅u₀ + 3⋅u₁  - 3⋅u₁ + 1⎠⎥\n",
       "⎢─────────────────────────────────────────────⎥\n",
       "⎢                      36                     ⎥\n",
       "⎢                                             ⎥\n",
       "⎢  ⎛    2                        2           ⎞⎥\n",
       "⎢ρ⋅⎝3⋅u₀  + 9⋅u₀⋅u₁ + 3⋅u₀ + 3⋅u₁  + 3⋅u₁ + 1⎠⎥\n",
       "⎢─────────────────────────────────────────────⎥\n",
       "⎣                      36                     ⎦"
      ]
     },
     "execution_count": 24,
     "metadata": {},
     "output_type": "execute_result"
    }
   ],
   "source": [
    "finalLbEquilibrium = sp.simplify(sp.Matrix(eq).subs(rescalingSubstitution))\n",
    "finalLbEquilibrium"
   ]
  },
  {
   "cell_type": "markdown",
   "metadata": {},
   "source": [
    "By adapting the dimension and Hermite approximation order in the cells above, second and third order equilibria for the D2Q9 and D3Q19 stencils can be obtained. \n",
    "\n",
    "Finally one can check that the moments can indeed be easily computed, e.g. the zeroth moment:"
   ]
  },
  {
   "cell_type": "code",
   "execution_count": 25,
   "metadata": {},
   "outputs": [
    {
     "data": {
      "image/png": "[encoded data removed]",
      "text/latex": [
       "$$ρ$$"
      ],
      "text/plain": [
       "ρ"
      ]
     },
     "execution_count": 25,
     "metadata": {},
     "output_type": "execute_result"
    }
   ],
   "source": [
    "sum(finalLbEquilibrium).simplify()"
   ]
  }
 ],
 "metadata": {
  "kernelspec": {
   "display_name": "Python 3",
   "language": "python",
   "name": "python3"
  },
  "language_info": {
   "codemirror_mode": {
    "name": "ipython",
    "version": 3
   },
   "file_extension": ".py",
   "mimetype": "text/x-python",
   "name": "python",
   "nbconvert_exporter": "python",
   "pygments_lexer": "ipython3",
   "version": "3.6.4"
  }
 },
 "nbformat": 4,
 "nbformat_minor": 2
}
